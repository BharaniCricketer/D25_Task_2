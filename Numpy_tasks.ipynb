{
 "cells": [
  {
   "cell_type": "markdown",
   "metadata": {},
   "source": [
    "# Numpy\n",
    "\n"
   ]
  },
  {
   "cell_type": "markdown",
   "metadata": {},
   "source": [
    "#### 1. Import the numpy package under the name `np` (★☆☆) \n",
    "(**hint**: import … as …)"
   ]
  },
  {
   "cell_type": "code",
   "execution_count": 2,
   "metadata": {},
   "outputs": [],
   "source": [
    "import numpy as np"
   ]
  },
  {
   "cell_type": "markdown",
   "metadata": {},
   "source": [
    "#### 2. Print the numpy version and the configuration (★☆☆) \n",
    "(**hint**: np.\\_\\_version\\_\\_, np.show\\_config)"
   ]
  },
  {
   "cell_type": "code",
   "execution_count": 8,
   "metadata": {},
   "outputs": [
    {
     "name": "stdout",
     "output_type": "stream",
     "text": [
      "1.20.3\n",
      "blas_mkl_info:\n",
      "    libraries = ['mkl_rt']\n",
      "    library_dirs = ['C:/Users/Admin/anaconda3\\\\Library\\\\lib']\n",
      "    define_macros = [('SCIPY_MKL_H', None), ('HAVE_CBLAS', None)]\n",
      "    include_dirs = ['C:/Users/Admin/anaconda3\\\\Library\\\\include']\n",
      "blas_opt_info:\n",
      "    libraries = ['mkl_rt']\n",
      "    library_dirs = ['C:/Users/Admin/anaconda3\\\\Library\\\\lib']\n",
      "    define_macros = [('SCIPY_MKL_H', None), ('HAVE_CBLAS', None)]\n",
      "    include_dirs = ['C:/Users/Admin/anaconda3\\\\Library\\\\include']\n",
      "lapack_mkl_info:\n",
      "    libraries = ['mkl_rt']\n",
      "    library_dirs = ['C:/Users/Admin/anaconda3\\\\Library\\\\lib']\n",
      "    define_macros = [('SCIPY_MKL_H', None), ('HAVE_CBLAS', None)]\n",
      "    include_dirs = ['C:/Users/Admin/anaconda3\\\\Library\\\\include']\n",
      "lapack_opt_info:\n",
      "    libraries = ['mkl_rt']\n",
      "    library_dirs = ['C:/Users/Admin/anaconda3\\\\Library\\\\lib']\n",
      "    define_macros = [('SCIPY_MKL_H', None), ('HAVE_CBLAS', None)]\n",
      "    include_dirs = ['C:/Users/Admin/anaconda3\\\\Library\\\\include']\n",
      "None\n"
     ]
    }
   ],
   "source": [
    "print(np.__version__)\n",
    "print(np.show_config())"
   ]
  },
  {
   "cell_type": "markdown",
   "metadata": {},
   "source": [
    "#### 3. Create a null vector of size 10 (★☆☆) \n",
    "(**hint**: np.zeros)"
   ]
  },
  {
   "cell_type": "code",
   "execution_count": 10,
   "metadata": {},
   "outputs": [
    {
     "name": "stdout",
     "output_type": "stream",
     "text": [
      "[0. 0. 0. 0. 0. 0. 0. 0. 0. 0.]\n"
     ]
    }
   ],
   "source": [
    "np.zeros(10)"
   ]
  },
  {
   "cell_type": "markdown",
   "metadata": {},
   "source": [
    "#### 4.  How to find the memory size of any array (★☆☆) \n",
    "(**hint**: size, itemsize)"
   ]
  },
  {
   "cell_type": "code",
   "execution_count": 13,
   "metadata": {},
   "outputs": [
    {
     "data": {
      "text/plain": [
       "8"
      ]
     },
     "execution_count": 13,
     "metadata": {},
     "output_type": "execute_result"
    }
   ],
   "source": [
    "x = np.zeros(10)\n",
    "x.itemsize"
   ]
  },
  {
   "cell_type": "markdown",
   "metadata": {},
   "source": [
    "#### 5.  How to get the documentation of the numpy add function from the command line? (★☆☆) \n",
    "(**hint**: np.info)"
   ]
  },
  {
   "cell_type": "code",
   "execution_count": 17,
   "metadata": {},
   "outputs": [
    {
     "name": "stdout",
     "output_type": "stream",
     "text": [
      "add(x1, x2, /, out=None, *, where=True, casting='same_kind', order='K', dtype=None, subok=True[, signature, extobj])\n",
      "\n",
      "Add arguments element-wise.\n",
      "\n",
      "Parameters\n",
      "----------\n",
      "x1, x2 : array_like\n",
      "    The arrays to be added.\n",
      "    If ``x1.shape != x2.shape``, they must be broadcastable to a common\n",
      "    shape (which becomes the shape of the output).\n",
      "out : ndarray, None, or tuple of ndarray and None, optional\n",
      "    A location into which the result is stored. If provided, it must have\n",
      "    a shape that the inputs broadcast to. If not provided or None,\n",
      "    a freshly-allocated array is returned. A tuple (possible only as a\n",
      "    keyword argument) must have length equal to the number of outputs.\n",
      "where : array_like, optional\n",
      "    This condition is broadcast over the input. At locations where the\n",
      "    condition is True, the `out` array will be set to the ufunc result.\n",
      "    Elsewhere, the `out` array will retain its original value.\n",
      "    Note that if an uninitialized `out` array is created via the default\n",
      "    ``out=None``, locations within it where the condition is False will\n",
      "    remain uninitialized.\n",
      "**kwargs\n",
      "    For other keyword-only arguments, see the\n",
      "    :ref:`ufunc docs <ufuncs.kwargs>`.\n",
      "\n",
      "Returns\n",
      "-------\n",
      "add : ndarray or scalar\n",
      "    The sum of `x1` and `x2`, element-wise.\n",
      "    This is a scalar if both `x1` and `x2` are scalars.\n",
      "\n",
      "Notes\n",
      "-----\n",
      "Equivalent to `x1` + `x2` in terms of array broadcasting.\n",
      "\n",
      "Examples\n",
      "--------\n",
      ">>> np.add(1.0, 4.0)\n",
      "5.0\n",
      ">>> x1 = np.arange(9.0).reshape((3, 3))\n",
      ">>> x2 = np.arange(3.0)\n",
      ">>> np.add(x1, x2)\n",
      "array([[  0.,   2.,   4.],\n",
      "       [  3.,   5.,   7.],\n",
      "       [  6.,   8.,  10.]])\n",
      "\n",
      "The ``+`` operator can be used as a shorthand for ``np.add`` on ndarrays.\n",
      "\n",
      ">>> x1 = np.arange(9.0).reshape((3, 3))\n",
      ">>> x2 = np.arange(3.0)\n",
      ">>> x1 + x2\n",
      "array([[ 0.,  2.,  4.],\n",
      "       [ 3.,  5.,  7.],\n",
      "       [ 6.,  8., 10.]])\n",
      "None\n"
     ]
    }
   ],
   "source": [
    "print(np.info(np.add))"
   ]
  },
  {
   "cell_type": "markdown",
   "metadata": {},
   "source": [
    "#### 6.  Create a null vector of size 10 but the fifth value which is 1 (★☆☆) \n",
    "(**hint**: array\\[4\\])"
   ]
  },
  {
   "cell_type": "code",
   "execution_count": 18,
   "metadata": {},
   "outputs": [
    {
     "name": "stdout",
     "output_type": "stream",
     "text": [
      "[0. 0. 0. 0. 1. 0. 0. 0. 0. 0.]\n"
     ]
    }
   ],
   "source": [
    "y = np.zeros(10)\n",
    "y[4] = 1\n",
    "print(y)"
   ]
  },
  {
   "cell_type": "markdown",
   "metadata": {},
   "source": [
    "#### 7.  Create a vector with values ranging from 10 to 49 (★☆☆) \n",
    "(**hint**: np.arange)"
   ]
  },
  {
   "cell_type": "code",
   "execution_count": 21,
   "metadata": {},
   "outputs": [
    {
     "data": {
      "text/plain": [
       "array([10, 11, 12, 13, 14, 15, 16, 17, 18, 19, 20, 21, 22, 23, 24, 25, 26,\n",
       "       27, 28, 29, 30, 31, 32, 33, 34, 35, 36, 37, 38, 39, 40, 41, 42, 43,\n",
       "       44, 45, 46, 47, 48])"
      ]
     },
     "execution_count": 21,
     "metadata": {},
     "output_type": "execute_result"
    }
   ],
   "source": [
    "np.arange(10,49)"
   ]
  },
  {
   "cell_type": "markdown",
   "metadata": {},
   "source": [
    "#### 8.  Reverse a vector (first element becomes last) (★☆☆) \n",
    "(**hint**: array\\[::-1\\])"
   ]
  },
  {
   "cell_type": "code",
   "execution_count": 29,
   "metadata": {},
   "outputs": [
    {
     "name": "stdout",
     "output_type": "stream",
     "text": [
      "[3 2 1]\n"
     ]
    }
   ],
   "source": [
    "y = np.array([1,2,3])\n",
    "print(y[::-1])"
   ]
  },
  {
   "cell_type": "markdown",
   "metadata": {},
   "source": [
    "#### 9.  Create a 3x3 matrix with values ranging from 0 to 8 (★☆☆) \n",
    "(**hint**: reshape)"
   ]
  },
  {
   "cell_type": "code",
   "execution_count": 35,
   "metadata": {},
   "outputs": [
    {
     "name": "stdout",
     "output_type": "stream",
     "text": [
      "[[0 1 2]\n",
      " [3 4 5]\n",
      " [6 7 8]]\n"
     ]
    }
   ],
   "source": [
    "x = np.arange(9).reshape((3, 3))\n",
    "print(x)"
   ]
  },
  {
   "cell_type": "markdown",
   "metadata": {},
   "source": [
    "#### 10. Find indices of non-zero elements from \\[1,2,0,0,4,0\\] (★☆☆) \n",
    "(**hint**: np.nonzero)"
   ]
  },
  {
   "cell_type": "code",
   "execution_count": 37,
   "metadata": {},
   "outputs": [
    {
     "name": "stdout",
     "output_type": "stream",
     "text": [
      "(array([0, 1, 4], dtype=int64),)\n"
     ]
    }
   ],
   "source": [
    "x = np.array([1,2,0,0,4,0])\n",
    "print(np.nonzero(x))"
   ]
  },
  {
   "cell_type": "markdown",
   "metadata": {},
   "source": [
    "#### 11. Create a 3x3 identity matrix (★☆☆) \n",
    "(**hint**: np.eye)"
   ]
  },
  {
   "cell_type": "code",
   "execution_count": 48,
   "metadata": {},
   "outputs": [
    {
     "name": "stdout",
     "output_type": "stream",
     "text": [
      "[[1. 0. 0.]\n",
      " [0. 1. 0.]\n",
      " [0. 0. 1.]]\n"
     ]
    }
   ],
   "source": [
    "print(np.eye(3))"
   ]
  },
  {
   "cell_type": "markdown",
   "metadata": {},
   "source": [
    "#### 12. Create a 3x3x3 array with random values (★☆☆) \n",
    "(**hint**: np.random.random)"
   ]
  },
  {
   "cell_type": "code",
   "execution_count": 41,
   "metadata": {},
   "outputs": [
    {
     "name": "stdout",
     "output_type": "stream",
     "text": [
      "[[[0.22599553 0.30415374 0.71499388]\n",
      "  [0.72409148 0.01867644 0.2858131 ]\n",
      "  [0.58048634 0.93078663 0.3389969 ]]\n",
      "\n",
      " [[0.12008312 0.51627271 0.69920706]\n",
      "  [0.29864068 0.86160962 0.9058072 ]\n",
      "  [0.76858325 0.26123164 0.9384556 ]]\n",
      "\n",
      " [[0.93864246 0.74504455 0.91073504]\n",
      "  [0.23722471 0.49496735 0.80987834]\n",
      "  [0.95456578 0.63748325 0.91084975]]]\n"
     ]
    }
   ],
   "source": [
    "x = np.random.random((3,3,3))\n",
    "print(x)"
   ]
  },
  {
   "cell_type": "markdown",
   "metadata": {},
   "source": [
    "#### 13. Create a 10x10 array with random values and find the minimum and maximum values (★☆☆) \n",
    "(**hint**: min, max)"
   ]
  },
  {
   "cell_type": "code",
   "execution_count": 43,
   "metadata": {},
   "outputs": [
    {
     "name": "stdout",
     "output_type": "stream",
     "text": [
      "0.006144141992962426\n",
      "0.988566380395264\n"
     ]
    }
   ],
   "source": [
    "x = np.random.random((10,10))\n",
    "print(np.min(x))\n",
    "print(np.max(x))"
   ]
  },
  {
   "cell_type": "markdown",
   "metadata": {},
   "source": [
    "#### 14. Create a random vector of size 30 and find the mean value (★☆☆) \n",
    "(**hint**: mean)"
   ]
  },
  {
   "cell_type": "code",
   "execution_count": 45,
   "metadata": {},
   "outputs": [
    {
     "name": "stdout",
     "output_type": "stream",
     "text": [
      "0.46701352917916855\n"
     ]
    }
   ],
   "source": [
    "x = np.random.random((30))\n",
    "print(np.mean(x))"
   ]
  },
  {
   "cell_type": "markdown",
   "metadata": {},
   "source": [
    "#### 15. Create a 2d array with 1 on the border and 0 inside (★☆☆) \n",
    "(**hint**: array\\[1:-1, 1:-1\\])"
   ]
  },
  {
   "cell_type": "code",
   "execution_count": 49,
   "metadata": {},
   "outputs": [
    {
     "name": "stdout",
     "output_type": "stream",
     "text": [
      "[[1. 1. 1. 1. 1.]\n",
      " [1. 0. 0. 0. 1.]\n",
      " [1. 0. 0. 0. 1.]\n",
      " [1. 0. 0. 0. 1.]\n",
      " [1. 1. 1. 1. 1.]]\n"
     ]
    }
   ],
   "source": [
    "x = np.ones((5,5))\n",
    "x[1:-1,1:-1] = 0\n",
    "print(x)"
   ]
  },
  {
   "cell_type": "markdown",
   "metadata": {},
   "source": [
    "#### 16. How to add a border (filled with 0's) around an existing array? (★☆☆) \n",
    "(**hint**: np.pad)"
   ]
  },
  {
   "cell_type": "code",
   "execution_count": 51,
   "metadata": {},
   "outputs": [
    {
     "name": "stdout",
     "output_type": "stream",
     "text": [
      "[[0. 0. 0. 0. 0.]\n",
      " [0. 1. 1. 1. 0.]\n",
      " [0. 1. 1. 1. 0.]\n",
      " [0. 1. 1. 1. 0.]\n",
      " [0. 0. 0. 0. 0.]]\n"
     ]
    }
   ],
   "source": [
    "x = np.ones((3,3))\n",
    "x = np.pad(x, pad_width=1, mode='constant', constant_values=0)\n",
    "print(x)"
   ]
  },
  {
   "cell_type": "markdown",
   "metadata": {},
   "source": [
    "#### 17. What is the result of the following expression? (★☆☆) \n",
    "(**hint**: NaN = not a number, inf = infinity)"
   ]
  },
  {
   "cell_type": "markdown",
   "metadata": {},
   "source": [
    "```python\n",
    "0 * np.nan\n",
    "np.nan == np.nan\n",
    "np.inf > np.nan\n",
    "np.nan - np.nan\n",
    "0.3 == 3 * 0.1\n",
    "```"
   ]
  },
  {
   "cell_type": "code",
   "execution_count": 88,
   "metadata": {},
   "outputs": [
    {
     "name": "stdout",
     "output_type": "stream",
     "text": [
      "nan\n",
      "False\n",
      "False\n",
      "nan\n",
      "False\n"
     ]
    }
   ],
   "source": [
    "print(0 * np.nan)\n",
    "print(np.nan == np.nan)\n",
    "print(np.inf > np.nan)\n",
    "print(np.nan - np.nan)\n",
    "print(0.3 == 3 * 0.1)"
   ]
  },
  {
   "cell_type": "markdown",
   "metadata": {},
   "source": [
    "#### 18. Create a 5x5 matrix with values 1,2,3,4 just below the diagonal (★☆☆) \n",
    "(**hint**: np.diag)"
   ]
  },
  {
   "cell_type": "code",
   "execution_count": 63,
   "metadata": {},
   "outputs": [
    {
     "name": "stdout",
     "output_type": "stream",
     "text": [
      "[[0. 0. 0. 0. 0.]\n",
      " [1. 0. 0. 0. 0.]\n",
      " [0. 2. 0. 0. 0.]\n",
      " [0. 0. 3. 0. 0.]\n",
      " [0. 0. 0. 4. 0.]]\n"
     ]
    }
   ],
   "source": [
    "a = np.zeros((5,5))\n",
    "\n",
    "s = np.arange(len(a))\n",
    "a[s[1:], s[:-1]] = [1,2,3,4]\n",
    "print(a)"
   ]
  },
  {
   "cell_type": "markdown",
   "metadata": {},
   "source": [
    "#### 19. Create a 8x8 matrix and fill it with a checkerboard pattern (★☆☆) \n",
    "(**hint**: array\\[::2\\])"
   ]
  },
  {
   "cell_type": "code",
   "execution_count": 66,
   "metadata": {},
   "outputs": [
    {
     "name": "stdout",
     "output_type": "stream",
     "text": [
      "[[0 1 0 1 0 1 0 1]\n",
      " [1 0 1 0 1 0 1 0]\n",
      " [0 1 0 1 0 1 0 1]\n",
      " [1 0 1 0 1 0 1 0]\n",
      " [0 1 0 1 0 1 0 1]\n",
      " [1 0 1 0 1 0 1 0]\n",
      " [0 1 0 1 0 1 0 1]\n",
      " [1 0 1 0 1 0 1 0]]\n"
     ]
    }
   ],
   "source": [
    "x = np.zeros((8,8),dtype=int)\n",
    "x[1::2,::2] = 1\n",
    "x[::2,1::2] = 1\n",
    "print(x)"
   ]
  },
  {
   "cell_type": "markdown",
   "metadata": {},
   "source": [
    "#### 20. Consider a (6,7,8) shape array, what is the index (x,y,z) of the 100th element? \n",
    "(**hint**: np.unravel_index)"
   ]
  },
  {
   "cell_type": "code",
   "execution_count": 67,
   "metadata": {},
   "outputs": [
    {
     "name": "stdout",
     "output_type": "stream",
     "text": [
      "(1, 5, 4)\n"
     ]
    }
   ],
   "source": [
    "print (np.unravel_index(100, (6,7,8)))"
   ]
  },
  {
   "cell_type": "markdown",
   "metadata": {},
   "source": [
    "#### 21. Create a checkerboard 8x8 matrix using the tile function (★☆☆) \n",
    "(**hint**: np.tile)"
   ]
  },
  {
   "cell_type": "code",
   "execution_count": 68,
   "metadata": {},
   "outputs": [
    {
     "name": "stdout",
     "output_type": "stream",
     "text": [
      "[[0 1 0 1 0 1 0 1]\n",
      " [1 0 1 0 1 0 1 0]\n",
      " [0 1 0 1 0 1 0 1]\n",
      " [1 0 1 0 1 0 1 0]\n",
      " [0 1 0 1 0 1 0 1]\n",
      " [1 0 1 0 1 0 1 0]\n",
      " [0 1 0 1 0 1 0 1]\n",
      " [1 0 1 0 1 0 1 0]]\n"
     ]
    }
   ],
   "source": [
    "array= np.array([[0,1], [1,0]])\n",
    "x = np.tile(array,(4,4))\n",
    "print (x)"
   ]
  },
  {
   "cell_type": "markdown",
   "metadata": {},
   "source": [
    "#### 22. Normalize a 5x5 random matrix (★☆☆) \n",
    "(**hint**: (x - min) / (max - min))"
   ]
  },
  {
   "cell_type": "code",
   "execution_count": 93,
   "metadata": {},
   "outputs": [
    {
     "name": "stdout",
     "output_type": "stream",
     "text": [
      "[[0.1803724  0.70735949 0.93642549 0.50859667 0.63899184]\n",
      " [0.08278904 0.4998574  1.         0.50288149 0.50433555]\n",
      " [0.18554922 0.         0.68088396 0.62044379 0.08199628]\n",
      " [0.8292653  0.17077539 0.36562508 0.52116641 0.71399382]\n",
      " [0.68768494 0.85234139 0.2924911  0.53521005 0.75880591]]\n"
     ]
    }
   ],
   "source": [
    "x = np.random.random((5,5))\n",
    "a, b = x.max(), x.min()\n",
    "x= (x-b)/(a-b)\n",
    "print (x)"
   ]
  },
  {
   "cell_type": "markdown",
   "metadata": {},
   "source": [
    "#### 23. Create a custom dtype that describes a color as four unsigned bytes (RGBA) (★☆☆) \n",
    "(**hint**: np.dtype)"
   ]
  },
  {
   "cell_type": "code",
   "execution_count": 94,
   "metadata": {},
   "outputs": [
    {
     "name": "stdout",
     "output_type": "stream",
     "text": [
      "1\n"
     ]
    },
    {
     "data": {
      "text/plain": [
       "numpy.ndarray"
      ]
     },
     "execution_count": 94,
     "metadata": {},
     "output_type": "execute_result"
    }
   ],
   "source": [
    "RGBA = np.dtype([('red',np.uint8),('green',np.uint8),('blue',np.uint8),('alpha',np.uint8)])\n",
    "color = np.array((1,2,4,3),dtype = RGBA)\n",
    "print(color['red'])"
   ]
  },
  {
   "cell_type": "markdown",
   "metadata": {},
   "source": [
    "#### 24. Multiply a 5x3 matrix by a 3x2 matrix (real matrix product) (★☆☆) \n",
    "(**hint**: np.dot | @)"
   ]
  },
  {
   "cell_type": "code",
   "execution_count": 95,
   "metadata": {},
   "outputs": [
    {
     "name": "stdout",
     "output_type": "stream",
     "text": [
      "[[3. 3.]\n",
      " [3. 3.]\n",
      " [3. 3.]\n",
      " [3. 3.]\n",
      " [3. 3.]]\n"
     ]
    }
   ],
   "source": [
    "x = np.dot(np.ones((5,3)), np.ones((3,2)))\n",
    "print(x)"
   ]
  },
  {
   "cell_type": "markdown",
   "metadata": {},
   "source": [
    "#### 25. Given a 1D array, negate all elements which are between 3 and 8, in place. (★☆☆) \n",
    "(**hint**: >, <=)"
   ]
  },
  {
   "cell_type": "code",
   "execution_count": 101,
   "metadata": {},
   "outputs": [
    {
     "name": "stdout",
     "output_type": "stream",
     "text": [
      "[ 0  1  2 -1 -1 -1 -1 -1 -1  9 10]\n"
     ]
    }
   ],
   "source": [
    "y = np.arange(11)\n",
    "y[(y >= 3) & (y <= 8)] = -1\n",
    "print(y)"
   ]
  },
  {
   "cell_type": "markdown",
   "metadata": {},
   "source": [
    "#### 26. What is the output of the following script? (★☆☆) \n",
    "(**hint**: np.sum)"
   ]
  },
  {
   "cell_type": "markdown",
   "metadata": {},
   "source": [
    "```python\n",
    "# Author: Jake VanderPlas\n",
    "\n",
    "print(sum(range(5),-1))\n",
    "from numpy import *\n",
    "print(sum(range(5),-1))\n",
    "```"
   ]
  },
  {
   "cell_type": "code",
   "execution_count": 109,
   "metadata": {},
   "outputs": [
    {
     "name": "stdout",
     "output_type": "stream",
     "text": [
      "10\n",
      "10\n"
     ]
    }
   ],
   "source": [
    "print(sum(range(5),-1))\n",
    "from numpy import *\n",
    "print(sum(range(5),-1))"
   ]
  },
  {
   "cell_type": "markdown",
   "metadata": {},
   "source": [
    "#### 27. Consider an integer vector Z, which of these expressions are legal? (★☆☆)"
   ]
  },
  {
   "cell_type": "markdown",
   "metadata": {},
   "source": [
    "```python\n",
    "Z**Z\n",
    "2 << Z >> 2\n",
    "Z <- Z\n",
    "1j*Z\n",
    "Z/1/1\n",
    "Z<Z>Z\n",
    "```"
   ]
  },
  {
   "cell_type": "code",
   "execution_count": 111,
   "metadata": {},
   "outputs": [
    {
     "ename": "ValueError",
     "evalue": "The truth value of an array with more than one element is ambiguous. Use a.any() or a.all()",
     "output_type": "error",
     "traceback": [
      "\u001b[1;31m---------------------------------------------------------------------------\u001b[0m",
      "\u001b[1;31mValueError\u001b[0m                                Traceback (most recent call last)",
      "\u001b[1;32m~\\AppData\\Local\\Temp/ipykernel_1128/1056850589.py\u001b[0m in \u001b[0;36m<module>\u001b[1;34m\u001b[0m\n\u001b[0;32m      1\u001b[0m \u001b[0mZ\u001b[0m \u001b[1;33m=\u001b[0m \u001b[0mnp\u001b[0m\u001b[1;33m.\u001b[0m\u001b[0marange\u001b[0m\u001b[1;33m(\u001b[0m\u001b[1;36m3\u001b[0m\u001b[1;33m)\u001b[0m\u001b[1;33m\u001b[0m\u001b[1;33m\u001b[0m\u001b[0m\n\u001b[1;32m----> 2\u001b[1;33m \u001b[0mZ\u001b[0m\u001b[1;33m<\u001b[0m\u001b[0mZ\u001b[0m\u001b[1;33m>\u001b[0m\u001b[0mZ\u001b[0m\u001b[1;33m\u001b[0m\u001b[1;33m\u001b[0m\u001b[0m\n\u001b[0m",
      "\u001b[1;31mValueError\u001b[0m: The truth value of an array with more than one element is ambiguous. Use a.any() or a.all()"
     ]
    }
   ],
   "source": [
    "Z = np.arange(3)\n",
    "Z<Z>Z"
   ]
  },
  {
   "cell_type": "markdown",
   "metadata": {},
   "source": [
    "#### 28. What are the result of the following expressions?"
   ]
  },
  {
   "cell_type": "markdown",
   "metadata": {},
   "source": [
    "```python\n",
    "np.array(0) / np.array(0)\n",
    "np.array(0) // np.array(0)\n",
    "np.array([np.nan]).astype(int).astype(float)\n",
    "```"
   ]
  },
  {
   "cell_type": "code",
   "execution_count": 112,
   "metadata": {},
   "outputs": [
    {
     "name": "stderr",
     "output_type": "stream",
     "text": [
      "C:\\Users\\Admin\\AppData\\Local\\Temp/ipykernel_1128/548293649.py:1: RuntimeWarning: invalid value encountered in true_divide\n",
      "  np.array(0) / np.array(0)\n",
      "C:\\Users\\Admin\\AppData\\Local\\Temp/ipykernel_1128/548293649.py:2: RuntimeWarning: divide by zero encountered in floor_divide\n",
      "  np.array(0) // np.array(0)\n"
     ]
    },
    {
     "data": {
      "text/plain": [
       "array([-2.14748365e+09])"
      ]
     },
     "execution_count": 112,
     "metadata": {},
     "output_type": "execute_result"
    }
   ],
   "source": [
    "np.array(0) / np.array(0)\n",
    "np.array(0) // np.array(0)\n",
    "np.array([np.nan]).astype(int).astype(float)"
   ]
  },
  {
   "cell_type": "markdown",
   "metadata": {},
   "source": [
    "#### 29. How to round away from zero a float array ? (★☆☆) \n",
    "(**hint**: np.uniform, np.copysign, np.ceil, np.abs)"
   ]
  },
  {
   "cell_type": "code",
   "execution_count": 117,
   "metadata": {},
   "outputs": [
    {
     "name": "stdout",
     "output_type": "stream",
     "text": [
      "[  5.   5. -10.  -6.  -3.   2.  -9.  -6.   7.   6.]\n"
     ]
    }
   ],
   "source": [
    "Z = np.random.uniform(-10,+10,10)\n",
    "print (np.copysign(np.ceil(np.abs(Z)), Z))"
   ]
  },
  {
   "cell_type": "markdown",
   "metadata": {},
   "source": [
    "#### 30. How to find common values between two arrays? (★☆☆) \n",
    "(**hint**: np.intersect1d)"
   ]
  },
  {
   "cell_type": "code",
   "execution_count": 119,
   "metadata": {},
   "outputs": [
    {
     "name": "stdout",
     "output_type": "stream",
     "text": [
      "[3 4]\n"
     ]
    }
   ],
   "source": [
    "x = np.arange(0, 5)\n",
    "y = np.arange(3, 7)\n",
    "print(np.intersect1d(x, y))"
   ]
  },
  {
   "cell_type": "markdown",
   "metadata": {},
   "source": [
    "#### 31. How to ignore all numpy warnings (not recommended)? (★☆☆) \n",
    "(**hint**: np.seterr, np.errstate)"
   ]
  },
  {
   "cell_type": "code",
   "execution_count": 125,
   "metadata": {},
   "outputs": [],
   "source": [
    "defaults = np.seterr(all=\"ignore\")\n",
    "Z = np.ones(1) / 0\n",
    "\n",
    "_ = np.seterr(**defaults)\n",
    "\n",
    "with np.errstate(divide='ignore'):\n",
    "    Z = np.ones(1) / 0"
   ]
  },
  {
   "cell_type": "markdown",
   "metadata": {},
   "source": [
    "#### 32. Is the following expressions true? (★☆☆) \n",
    "(**hint**: imaginary number)"
   ]
  },
  {
   "cell_type": "markdown",
   "metadata": {},
   "source": [
    "```python\n",
    "np.sqrt(-1) == np.emath.sqrt(-1)\n",
    "```"
   ]
  },
  {
   "cell_type": "code",
   "execution_count": 127,
   "metadata": {},
   "outputs": [
    {
     "name": "stdout",
     "output_type": "stream",
     "text": [
      "False\n"
     ]
    }
   ],
   "source": [
    "print(np.sqrt(-1) == np.emath.sqrt(-1))"
   ]
  },
  {
   "cell_type": "markdown",
   "metadata": {},
   "source": [
    "#### 33. How to get the dates of yesterday, today and tomorrow? (★☆☆) \n",
    "(**hint**: np.datetime64, np.timedelta64)"
   ]
  },
  {
   "cell_type": "code",
   "execution_count": 129,
   "metadata": {},
   "outputs": [
    {
     "name": "stdout",
     "output_type": "stream",
     "text": [
      "2022-04-05 2022-04-06 2022-04-07\n"
     ]
    }
   ],
   "source": [
    "yesterday = np.datetime64('today', 'D') - np.timedelta64(1, 'D')\n",
    "today     = np.datetime64('today', 'D')\n",
    "tomorrow  = np.datetime64('today', 'D') + np.timedelta64(1, 'D')\n",
    "print(yesterday, today, tomorrow)"
   ]
  },
  {
   "cell_type": "markdown",
   "metadata": {},
   "source": [
    "#### 34. How to get all the dates corresponding to the month of July 2016? (★★☆) \n",
    "(**hint**: np.arange(dtype=datetime64\\['D'\\]))"
   ]
  },
  {
   "cell_type": "code",
   "execution_count": 131,
   "metadata": {},
   "outputs": [
    {
     "name": "stdout",
     "output_type": "stream",
     "text": [
      "['2016-07-01' '2016-07-02' '2016-07-03' '2016-07-04' '2016-07-05'\n",
      " '2016-07-06' '2016-07-07' '2016-07-08' '2016-07-09' '2016-07-10'\n",
      " '2016-07-11' '2016-07-12' '2016-07-13' '2016-07-14' '2016-07-15'\n",
      " '2016-07-16' '2016-07-17' '2016-07-18' '2016-07-19' '2016-07-20'\n",
      " '2016-07-21' '2016-07-22' '2016-07-23' '2016-07-24' '2016-07-25'\n",
      " '2016-07-26' '2016-07-27' '2016-07-28' '2016-07-29' '2016-07-30'\n",
      " '2016-07-31']\n"
     ]
    }
   ],
   "source": [
    "x = np.arange('2016-07', '2016-08', dtype='datetime64[D]')\n",
    "print(x)"
   ]
  },
  {
   "cell_type": "markdown",
   "metadata": {},
   "source": [
    "#### 35. How to compute ((A+B)\\*(-A/2)) in place (without copy)? (★★☆) \n",
    "(**hint**: np.add(out=), np.negative(out=), np.multiply(out=), np.divide(out=))"
   ]
  },
  {
   "cell_type": "code",
   "execution_count": 133,
   "metadata": {},
   "outputs": [
    {
     "name": "stdout",
     "output_type": "stream",
     "text": [
      "-4.5\n"
     ]
    }
   ],
   "source": [
    "A = np.ones(3)*1\n",
    "B = np.ones(3)*2\n",
    "C = np.ones(3)*3\n",
    "np.add(A,B,out=B)\n",
    "np.divide(A,2,out=A)\n",
    "np.negative(A,out=A)\n",
    "print(np.dot(A,B))"
   ]
  },
  {
   "cell_type": "markdown",
   "metadata": {},
   "source": [
    "#### 36. Extract the integer part of a random array using 5 different methods (★★☆) \n",
    "(**hint**: %, np.floor, np.ceil, astype, np.trunc)"
   ]
  },
  {
   "cell_type": "code",
   "execution_count": 5,
   "metadata": {},
   "outputs": [
    {
     "name": "stdout",
     "output_type": "stream",
     "text": [
      "[8. 7. 9. 7. 8. 7. 0. 0. 7. 3.]\n",
      "[8. 7. 9. 7. 8. 7. 0. 0. 7. 3.]\n",
      "[8. 7. 9. 7. 8. 7. 0. 0. 7. 3.]\n",
      "[8 7 9 7 8 7 0 0 7 3]\n",
      "[8. 7. 9. 7. 8. 7. 0. 0. 7. 3.]\n"
     ]
    }
   ],
   "source": [
    "x = np.random.uniform(0,10,10)\n",
    "\n",
    "print (x - x%1)\n",
    "print (np.floor(x))\n",
    "print (np.ceil(x)-1)\n",
    "print (x.astype(int))\n",
    "print (np.trunc(x))"
   ]
  },
  {
   "cell_type": "markdown",
   "metadata": {},
   "source": [
    "#### 37. Create a 5x5 matrix with row values ranging from 0 to 4 (★★☆) \n",
    "(**hint**: np.arange)"
   ]
  },
  {
   "cell_type": "code",
   "execution_count": 7,
   "metadata": {},
   "outputs": [
    {
     "name": "stdout",
     "output_type": "stream",
     "text": [
      "[[0. 1. 2. 3. 4.]\n",
      " [0. 1. 2. 3. 4.]\n",
      " [0. 1. 2. 3. 4.]\n",
      " [0. 1. 2. 3. 4.]\n",
      " [0. 1. 2. 3. 4.]]\n"
     ]
    }
   ],
   "source": [
    "x = np.zeros((5, 5))\n",
    "x += np.arange(5)\n",
    "print(x)"
   ]
  },
  {
   "cell_type": "markdown",
   "metadata": {},
   "source": [
    "#### 38. Consider a generator function that generates 10 integers and use it to build an array (★☆☆) \n",
    "(**hint**: np.fromiter)"
   ]
  },
  {
   "cell_type": "code",
   "execution_count": 9,
   "metadata": {},
   "outputs": [
    {
     "name": "stdout",
     "output_type": "stream",
     "text": [
      "[0 1 2 3 4 5 6 7 8 9]\n"
     ]
    }
   ],
   "source": [
    "def generator_int():\n",
    "    for x in range(10):\n",
    "        yield x\n",
    "y = np.fromiter(generator_int(),dtype=int,count=-1)\n",
    "print(y)\n"
   ]
  },
  {
   "cell_type": "markdown",
   "metadata": {},
   "source": [
    "#### 39. Create a vector of size 10 with values ranging from 0 to 1, both excluded (★★☆) \n",
    "(**hint**: np.linspace)"
   ]
  },
  {
   "cell_type": "code",
   "execution_count": 17,
   "metadata": {},
   "outputs": [
    {
     "name": "stdout",
     "output_type": "stream",
     "text": [
      "[0.  0.1 0.2 0.3 0.4 0.5 0.6 0.7 0.8 0.9]\n"
     ]
    }
   ],
   "source": [
    "print(np.linspace(0,1,10,endpoint=False))"
   ]
  },
  {
   "cell_type": "markdown",
   "metadata": {},
   "source": [
    "#### 40. Create a random vector of size 10 and sort it (★★☆) \n",
    "(**hint**: sort)"
   ]
  },
  {
   "cell_type": "code",
   "execution_count": 20,
   "metadata": {},
   "outputs": [
    {
     "name": "stdout",
     "output_type": "stream",
     "text": [
      "[0.13948382 0.16736483 0.27163937 0.28413819 0.35203078 0.48327959\n",
      " 0.48342913 0.61014834 0.64830876 0.86717893]\n"
     ]
    }
   ],
   "source": [
    "x = np.random.random(size=10)\n",
    "x.sort()\n",
    "print(x)"
   ]
  },
  {
   "cell_type": "markdown",
   "metadata": {},
   "source": [
    "#### 41. How to sum a small array faster than np.sum? (★★☆) \n",
    "(**hint**: np.add.reduce)"
   ]
  },
  {
   "cell_type": "code",
   "execution_count": 25,
   "metadata": {},
   "outputs": [
    {
     "data": {
      "text/plain": [
       "45"
      ]
     },
     "execution_count": 25,
     "metadata": {},
     "output_type": "execute_result"
    }
   ],
   "source": [
    "x = np.arange(10)\n",
    "np.add.reduce(x)\n"
   ]
  },
  {
   "cell_type": "markdown",
   "metadata": {},
   "source": [
    "#### 42. Consider two random array A and B, check if they are equal (★★☆) \n",
    "(**hint**: np.allclose, np.array\\_equal)"
   ]
  },
  {
   "cell_type": "code",
   "execution_count": 26,
   "metadata": {},
   "outputs": [
    {
     "name": "stdout",
     "output_type": "stream",
     "text": [
      "False\n",
      "False\n"
     ]
    }
   ],
   "source": [
    "A = np.random.randint(10)\n",
    "B = np.random.randint(10)\n",
    "\n",
    "equal = np.allclose(A,B)\n",
    "print(equal)\n",
    "\n",
    "equal = np.array_equal(A,B)\n",
    "print(equal)"
   ]
  },
  {
   "cell_type": "markdown",
   "metadata": {},
   "source": [
    "#### 43. Make an array immutable (read-only) (★★☆) \n",
    "(**hint**: flags.writeable)"
   ]
  },
  {
   "cell_type": "code",
   "execution_count": 28,
   "metadata": {},
   "outputs": [
    {
     "ename": "ValueError",
     "evalue": "assignment destination is read-only",
     "output_type": "error",
     "traceback": [
      "\u001b[1;31m---------------------------------------------------------------------------\u001b[0m",
      "\u001b[1;31mValueError\u001b[0m                                Traceback (most recent call last)",
      "\u001b[1;32m~\\AppData\\Local\\Temp/ipykernel_6756/529871177.py\u001b[0m in \u001b[0;36m<module>\u001b[1;34m\u001b[0m\n\u001b[0;32m      1\u001b[0m \u001b[0mx\u001b[0m \u001b[1;33m=\u001b[0m \u001b[0mnp\u001b[0m\u001b[1;33m.\u001b[0m\u001b[0mones\u001b[0m\u001b[1;33m(\u001b[0m\u001b[1;36m10\u001b[0m\u001b[1;33m)\u001b[0m\u001b[1;33m\u001b[0m\u001b[1;33m\u001b[0m\u001b[0m\n\u001b[0;32m      2\u001b[0m \u001b[0mx\u001b[0m\u001b[1;33m.\u001b[0m\u001b[0mflags\u001b[0m\u001b[1;33m.\u001b[0m\u001b[0mwriteable\u001b[0m \u001b[1;33m=\u001b[0m \u001b[1;32mFalse\u001b[0m\u001b[1;33m\u001b[0m\u001b[1;33m\u001b[0m\u001b[0m\n\u001b[1;32m----> 3\u001b[1;33m \u001b[0mx\u001b[0m\u001b[1;33m[\u001b[0m\u001b[1;36m1\u001b[0m\u001b[1;33m]\u001b[0m \u001b[1;33m=\u001b[0m \u001b[1;36m1\u001b[0m\u001b[1;33m\u001b[0m\u001b[1;33m\u001b[0m\u001b[0m\n\u001b[0m",
      "\u001b[1;31mValueError\u001b[0m: assignment destination is read-only"
     ]
    }
   ],
   "source": [
    "x = np.ones(10)\n",
    "x.flags.writeable = False\n",
    "x[1] = 1"
   ]
  },
  {
   "cell_type": "markdown",
   "metadata": {},
   "source": [
    "#### 44. Consider a random 10x2 matrix representing cartesian coordinates, convert them to polar coordinates (★★☆) \n",
    "(**hint**: np.sqrt, np.arctan2)"
   ]
  },
  {
   "cell_type": "code",
   "execution_count": 29,
   "metadata": {},
   "outputs": [
    {
     "name": "stdout",
     "output_type": "stream",
     "text": [
      "[1.153503   0.59335929 1.0108666  0.48595993 1.12713579 0.72459752\n",
      " 0.92437464 1.02659109 0.95470296 0.40441491]\n",
      "[0.53622905 0.58353677 1.31928975 1.38980477 1.09111945 0.94699032\n",
      " 0.21807648 0.6644279  0.60565493 1.1039648 ]\n"
     ]
    }
   ],
   "source": [
    "Z = np.random.random((10, 2))\n",
    "X, Y = Z[:, 0], Z[:, 1]\n",
    "R = np.sqrt(X ** 2 + Y ** 2)\n",
    "T = np.arctan2(Y, X)\n",
    "print(R)\n",
    "print(T)"
   ]
  },
  {
   "cell_type": "markdown",
   "metadata": {},
   "source": [
    "#### 45. Create random vector of size 10 and replace the maximum value by 0 (★★☆) \n",
    "(**hint**: argmax)"
   ]
  },
  {
   "cell_type": "code",
   "execution_count": 35,
   "metadata": {},
   "outputs": [
    {
     "name": "stdout",
     "output_type": "stream",
     "text": [
      "[0.57960308 0.42934256 0.00782839 0.37539121 0.31955484 0.26975692\n",
      " 0.08933648 0.76407985 0.33614463 0.        ]\n"
     ]
    }
   ],
   "source": [
    "Z = np.random.random(10)\n",
    "Z[Z.argmax()] = 0\n",
    "print(Z)"
   ]
  },
  {
   "cell_type": "markdown",
   "metadata": {},
   "source": [
    "#### 46. Create a structured array with `x` and `y` coordinates covering the \\[0,1\\]x\\[0,1\\] area (★★☆) \n",
    "(**hint**: np.meshgrid)"
   ]
  },
  {
   "cell_type": "code",
   "execution_count": 37,
   "metadata": {},
   "outputs": [
    {
     "name": "stdout",
     "output_type": "stream",
     "text": [
      "[[(0.  , 0.  ) (0.25, 0.  ) (0.5 , 0.  ) (0.75, 0.  ) (1.  , 0.  )]\n",
      " [(0.  , 0.25) (0.25, 0.25) (0.5 , 0.25) (0.75, 0.25) (1.  , 0.25)]\n",
      " [(0.  , 0.5 ) (0.25, 0.5 ) (0.5 , 0.5 ) (0.75, 0.5 ) (1.  , 0.5 )]\n",
      " [(0.  , 0.75) (0.25, 0.75) (0.5 , 0.75) (0.75, 0.75) (1.  , 0.75)]\n",
      " [(0.  , 1.  ) (0.25, 1.  ) (0.5 , 1.  ) (0.75, 1.  ) (1.  , 1.  )]]\n"
     ]
    }
   ],
   "source": [
    "Z = np.zeros((5,5), [('x',float),('y',float)])\n",
    "Z['x'], Z['y'] = np.meshgrid(np.linspace(0,1,5),\n",
    "                             np.linspace(0,1,5))\n",
    "print(Z)"
   ]
  },
  {
   "cell_type": "markdown",
   "metadata": {},
   "source": [
    "####  47. Given two arrays, X and Y, construct the Cauchy matrix C (Cij =1/(xi - yj)) \n",
    "(**hint**: np.subtract.outer)"
   ]
  },
  {
   "cell_type": "code",
   "execution_count": 41,
   "metadata": {},
   "outputs": [
    {
     "name": "stdout",
     "output_type": "stream",
     "text": [
      "3638.1636371179666\n"
     ]
    }
   ],
   "source": [
    "x = np.arange(8)\n",
    "y = y + 0.5\n",
    "c = 1 / (x - y)\n",
    "c = 1 / np.subtract.outer(x, y)\n",
    "print(np.linalg.det(c))"
   ]
  },
  {
   "cell_type": "markdown",
   "metadata": {},
   "source": [
    "#### 48. Print the minimum and maximum representable value for each numpy scalar type (★★☆) \n",
    "(**hint**: np.iinfo, np.finfo, eps)"
   ]
  },
  {
   "cell_type": "code",
   "execution_count": 45,
   "metadata": {},
   "outputs": [
    {
     "name": "stdout",
     "output_type": "stream",
     "text": [
      "-128\n",
      "127\n",
      "-2147483648\n",
      "2147483647\n",
      "-9223372036854775808\n",
      "9223372036854775807\n",
      "-3.4028235e+38\n",
      "3.4028235e+38\n",
      "1.1920929e-07\n",
      "-1.7976931348623157e+308\n",
      "1.7976931348623157e+308\n",
      "2.220446049250313e-16\n"
     ]
    }
   ],
   "source": [
    "for dtype in [np.int8, np.int32, np.int64]:\n",
    "    print(np.iinfo(dtype).min)\n",
    "    print(np.iinfo(dtype).max)\n",
    "for dtype in [np.float32, np.float64]:\n",
    "    print(np.finfo(dtype).min)\n",
    "    print(np.finfo(dtype).max)\n",
    "    print(np.finfo(dtype).eps)"
   ]
  },
  {
   "cell_type": "markdown",
   "metadata": {},
   "source": [
    "#### 49. How to print all the values of an array? (★★☆) \n",
    "(**hint**: np.set\\_printoptions)"
   ]
  },
  {
   "cell_type": "code",
   "execution_count": 52,
   "metadata": {},
   "outputs": [
    {
     "name": "stdout",
     "output_type": "stream",
     "text": [
      "[[1. 1. 1. 1. 1. 1. 1. 1. 1. 1.]\n",
      " [1. 1. 1. 1. 1. 1. 1. 1. 1. 1.]\n",
      " [1. 1. 1. 1. 1. 1. 1. 1. 1. 1.]\n",
      " [1. 1. 1. 1. 1. 1. 1. 1. 1. 1.]\n",
      " [1. 1. 1. 1. 1. 1. 1. 1. 1. 1.]\n",
      " [1. 1. 1. 1. 1. 1. 1. 1. 1. 1.]\n",
      " [1. 1. 1. 1. 1. 1. 1. 1. 1. 1.]\n",
      " [1. 1. 1. 1. 1. 1. 1. 1. 1. 1.]\n",
      " [1. 1. 1. 1. 1. 1. 1. 1. 1. 1.]\n",
      " [1. 1. 1. 1. 1. 1. 1. 1. 1. 1.]]\n"
     ]
    }
   ],
   "source": [
    "np.set_printoptions(threshold=np.inf)\n",
    "Z = np.ones((10,10))\n",
    "\n",
    "print(Z)"
   ]
  },
  {
   "cell_type": "markdown",
   "metadata": {},
   "source": [
    "#### 50. How to find the closest value (to a given scalar) in a vector? (★★☆) \n",
    "(**hint**: argmin)"
   ]
  },
  {
   "cell_type": "code",
   "execution_count": 56,
   "metadata": {},
   "outputs": [
    {
     "name": "stdout",
     "output_type": "stream",
     "text": [
      "25\n"
     ]
    }
   ],
   "source": [
    "x = np.arange(100)\n",
    "v = np.random.uniform(0,100)\n",
    "index = (np.abs(x-v)).argmin()\n",
    "print(x[index])"
   ]
  },
  {
   "cell_type": "markdown",
   "metadata": {},
   "source": [
    "#### 51. Create a structured array representing a position (x,y) and a color (r,g,b) (★★☆) \n",
    "(**hint**: dtype)"
   ]
  },
  {
   "cell_type": "code",
   "execution_count": 59,
   "metadata": {},
   "outputs": [
    {
     "name": "stdout",
     "output_type": "stream",
     "text": [
      "[((0, 0), (0, 0, 0)) ((0, 0), (0, 0, 0)) ((0, 0), (0, 0, 0))\n",
      " ((0, 0), (0, 0, 0)) ((0, 0), (0, 0, 0)) ((0, 0), (0, 0, 0))\n",
      " ((0, 0), (0, 0, 0)) ((0, 0), (0, 0, 0)) ((0, 0), (0, 0, 0))\n",
      " ((0, 0), (0, 0, 0))]\n"
     ]
    }
   ],
   "source": [
    "x = np.zeros(10, [ ('position', [ ('x', int),\n",
    "                                  ('y', int)]),\n",
    "                   ('color',    [ ('r', int),\n",
    "                                  ('g', int),\n",
    "                                  ('b', int)])])\n",
    "print(x)"
   ]
  },
  {
   "cell_type": "markdown",
   "metadata": {},
   "source": [
    "#### 52. Consider a random vector with shape (100,2) representing coordinates, find point by point distances (★★☆) \n",
    "(**hint**: np.atleast\\_2d, T, np.sqrt)"
   ]
  },
  {
   "cell_type": "code",
   "execution_count": 62,
   "metadata": {},
   "outputs": [
    {
     "name": "stdout",
     "output_type": "stream",
     "text": [
      "[[0.         0.48889604 0.36359459 0.39430519 0.46274692 0.63039212\n",
      "  0.41629417 0.3146145  0.3299969  0.23658164 0.3461716  0.41624918\n",
      "  0.33578963 0.24485453 0.22791856 0.26028651 0.71892618 0.41061482\n",
      "  0.20695329 0.60290429 0.6595144  0.45030021 0.50733047 0.58837942\n",
      "  0.30266807 0.56534382 0.21239607 0.42744176 0.68110442 0.46302891\n",
      "  0.25433584 0.46083709 0.31608205 0.3672558  0.22962738 0.6706776\n",
      "  0.54041779 0.18355106 0.64961365 0.33592528 0.31958941 0.22776181\n",
      "  0.4360881  0.57534273 0.54338025 0.20872526 0.52611144 0.31859156\n",
      "  0.10981246 0.67258213 0.34660265 0.46443846 0.71321428 0.62349062\n",
      "  0.56209944 0.12607964 0.30081729 0.38550005 0.38116798 0.44572816\n",
      "  0.54188152 0.74475118 0.34538327 0.45469599 0.42336426 0.5383689\n",
      "  0.46898652 0.68755853 0.50066098 0.34398988 0.0961092  0.28700154\n",
      "  0.42871071 0.18481355 0.51054979 0.45284245 0.29261645 0.59573349\n",
      "  0.63337209 0.29692444 0.28356102 0.35085784 0.29691137 0.24581695\n",
      "  0.49251848 0.27039663 0.46142382 0.36203093 0.43678867 0.23834535\n",
      "  0.30458307 0.52312235 0.53903894 0.32176502 0.32141965 0.4606676\n",
      "  0.32484306 0.20984648 0.19308513 0.59530283]\n",
      " [0.48889604 0.         0.72386784 0.0952594  0.89678618 0.90257374\n",
      "  0.70653873 0.77768837 0.81735539 0.68590834 0.51038125 0.29110639\n",
      "  0.43906606 0.30147245 0.70610416 0.7456592  0.82349498 0.44334222\n",
      "  0.46377471 0.64093105 0.98702266 0.28555729 0.54671685 1.00134522\n",
      "  0.45930506 0.98805567 0.63766146 0.58413837 1.08911026 0.30968393\n",
      "  0.44902873 0.38008367 0.64136152 0.14031413 0.42411877 1.02297159\n",
      "  0.98189433 0.65180691 1.01429275 0.82397681 0.17689264 0.43221119\n",
      "  0.91806931 1.06336025 0.57975459 0.61156337 0.79083796 0.31196467\n",
      "  0.39725551 1.09860874 0.71541353 0.85786295 0.82048384 0.8421125\n",
      "  0.79301409 0.41640955 0.68409358 0.45469619 0.18010157 0.93411\n",
      "  1.02832479 0.84033625 0.82772633 0.27753862 0.83025761 1.02449726\n",
      "  0.9557165  0.97153596 0.94099394 0.82589986 0.46047804 0.27516856\n",
      "  0.9052871  0.48532025 0.90835373 0.78613625 0.63230786 1.08107037\n",
      "  1.10949909 0.5149445  0.77059666 0.83918246 0.68452489 0.26392624\n",
      "  0.8915727  0.22922416 0.89258117 0.80288025 0.25429591 0.25209686\n",
      "  0.73606494 0.86510589 0.962682   0.24865227 0.80082108 0.37381034\n",
      "  0.7867028  0.6218196  0.55727499 0.63923383]\n",
      " [0.36359459 0.72386784 0.         0.64613294 0.65256024 0.27637796\n",
      "  0.73810121 0.20755539 0.40718003 0.17570708 0.25684965 0.49788377\n",
      "  0.32070382 0.58152176 0.25180901 0.39356396 0.45245922 0.37269024\n",
      "  0.26092488 0.42731134 0.2965716  0.52923453 0.38355228 0.28133635\n",
      "  0.66619846 0.27412134 0.15981993 0.25537961 0.36596557 0.52373511\n",
      "  0.27788633 0.47021925 0.0848212  0.583611   0.29991295 0.31398441\n",
      "  0.2872519  0.23095026 0.29813874 0.34675203 0.60042516 0.59123185\n",
      "  0.34741591 0.50326009 0.39966783 0.15497057 0.19088446 0.66494401\n",
      "  0.37193566 0.38161314 0.63776233 0.13630012 0.44614201 0.29864905\n",
      "  0.24248699 0.48605809 0.06459575 0.34136667 0.55446523 0.45970704\n",
      "  0.45729498 0.47888934 0.29986492 0.53849719 0.12128123 0.45149646\n",
      "  0.40696342 0.32718433 0.25081462 0.4533509  0.30785974 0.44943509\n",
      "  0.52925964 0.24431982 0.18612985 0.74507673 0.61578901 0.48988609\n",
      "  0.46888361 0.22296271 0.31336452 0.35883076 0.58774686 0.55982016\n",
      "  0.17043657 0.56741159 0.65602747 0.15956506 0.53934836 0.52536383\n",
      "  0.12667988 0.79710308 0.25131383 0.47963261 0.45278089 0.47482933\n",
      "  0.20632217 0.51192283 0.5321827  0.41828339]\n",
      " [0.39430519 0.0952594  0.64613294 0.         0.80421265 0.84188878\n",
      "  0.62497466 0.68755734 0.72226539 0.59669788 0.45022875 0.26392899\n",
      "  0.3820799  0.2126226  0.61358935 0.65046937 0.79001155 0.40121178\n",
      "  0.38526863 0.61313154 0.91886456 0.27024869 0.51287255 0.92003046\n",
      "  0.38079113 0.90514869 0.55028182 0.53081029 1.00919612 0.29559303\n",
      "  0.37756312 0.35666909 0.56567556 0.0774166  0.34933761 0.9513209\n",
      "  0.89606912 0.56018123 0.94059025 0.72983003 0.08334426 0.34547954\n",
      "  0.82541243 0.96928267 0.54878712 0.52586114 0.72872897 0.23847214\n",
      "  0.30567937 1.01585507 0.62644623 0.77799928 0.78640527 0.78888765\n",
      "  0.73639777 0.32207788 0.60248051 0.40631734 0.14003268 0.8391466\n",
      "  0.93474228 0.80903419 0.73486651 0.26470002 0.74815824 0.93099864\n",
      "  0.86202198 0.91017722 0.85510636 0.73064072 0.37055145 0.20634707\n",
      "  0.81014587 0.40366183 0.82846127 0.70167259 0.54405343 0.98780651\n",
      "  1.01824487 0.44666479 0.67671112 0.74493885 0.59362409 0.17080886\n",
      "  0.81131108 0.1351184  0.80021193 0.71589782 0.23759447 0.15690262\n",
      "  0.64956312 0.78089706 0.87945078 0.18871497 0.70557845 0.351106\n",
      "  0.6967891  0.52856327 0.46533229 0.61016404]\n",
      " [0.46274692 0.89678618 0.65256024 0.80421265 0.         0.91267502\n",
      "  0.29356203 0.4567569  0.25278455 0.48086966 0.77433833 0.87875279\n",
      "  0.78433862 0.5968297  0.40245761 0.26093289 1.09783812 0.86121257\n",
      "  0.64811989 1.02532938 0.87714458 0.91248634 0.94248793 0.70006481\n",
      "  0.48166601 0.66581188 0.51907953 0.8371715  0.77251871 0.92571932\n",
      "  0.69942621 0.92136038 0.66352657 0.80275371 0.68210247 0.8541133\n",
      "  0.60742982 0.43925069 0.821753   0.32375713 0.72089998 0.47422709\n",
      "  0.40286489 0.40092267 0.97431619 0.54727778 0.84293959 0.61481567\n",
      "  0.57136357 0.72915966 0.20366872 0.66048555 1.09158247 0.95071994\n",
      "  0.89500019 0.48443429 0.59823361 0.83249746 0.83138309 0.27598809\n",
      "  0.40735568 1.12460229 0.37974342 0.91651723 0.6173447  0.4093823\n",
      "  0.37025021 0.94506303 0.58835283 0.20419113 0.54931617 0.74693822\n",
      "  0.16043491 0.61763324 0.67959445 0.21983516 0.28233116 0.45088827\n",
      "  0.54063919 0.71916794 0.34174499 0.31827999 0.21690061 0.63342298\n",
      "  0.66708189 0.66928364 0.00860712 0.52633414 0.89741834 0.65587395\n",
      "  0.52799356 0.20883487 0.64800116 0.78016248 0.20009184 0.92162577\n",
      "  0.46231547 0.27627678 0.33970252 1.01676815]\n",
      " [0.63039212 0.90257374 0.27637796 0.84188878 0.91267502 0.\n",
      "  1.0144783  0.45592993 0.6607339  0.44932177 0.3925916  0.62813632\n",
      "  0.46350789 0.82527722 0.52149615 0.66015118 0.28435149 0.47235335\n",
      "  0.47887552 0.37981415 0.12634006 0.64961269 0.40831912 0.31516273\n",
      "  0.93151559 0.33802928 0.43568495 0.32231234 0.33981671 0.63419008\n",
      "  0.46928135 0.56300664 0.31533148 0.7690361  0.50153609 0.18808392\n",
      "  0.39270922 0.50680046 0.20743062 0.59245771 0.81545133 0.85504191\n",
      "  0.55283442 0.68030299 0.39754077 0.42620162 0.11367885 0.91096517\n",
      "  0.6152679  0.39189081 0.91328508 0.26097812 0.27923158 0.10007922\n",
      "  0.11637928 0.74688356 0.34050489 0.45303415 0.7226501  0.68530322\n",
      "  0.63662045 0.30384973 0.53835475 0.65955962 0.29897287 0.63079953\n",
      "  0.60990746 0.06918586 0.38062821 0.70900157 0.55955023 0.63555806\n",
      "  0.7748293  0.47688405 0.26353538 1.01992038 0.89205098 0.64916202\n",
      "  0.59081706 0.39822501 0.57129609 0.60108401 0.86360211 0.79404285\n",
      "  0.26781223 0.7932246  0.91705401 0.3876334  0.67145886 0.75118207\n",
      "  0.38885294 1.06934097 0.33495675 0.65593099 0.71329485 0.56932779\n",
      "  0.45063816 0.78829934 0.80689395 0.37329372]\n",
      " [0.41629417 0.70653873 0.73810121 0.62497466 0.29356203 1.0144783\n",
      "  0.         0.59261748 0.43653394 0.56812752 0.76186446 0.77914845\n",
      "  0.74425967 0.41541785 0.50487188 0.39103092 1.13378723 0.81509643\n",
      "  0.62223369 1.01753769 1.0141304  0.80754772 0.91930713 0.87915541\n",
      "  0.24796931 0.84752591 0.57937402 0.84368833 0.96467812 0.8268936\n",
      "  0.66722212 0.84610532 0.71413783 0.64937604 0.63898732 1.00765855\n",
      "  0.79909635 0.50846958 0.97942812 0.50183534 0.54600385 0.28339178\n",
      "  0.61185916 0.66373086 0.95638456 0.59333176 0.92102519 0.39630277\n",
      "  0.49655587 0.93360594 0.11826071 0.79657559 1.12797442 1.02462615\n",
      "  0.96378918 0.35648195 0.67416662 0.79365547 0.69623238 0.51853738\n",
      "  0.65747596 1.15985015 0.55133107 0.80851342 0.75069387 0.65776446\n",
      "  0.60152987 1.06241262 0.76921985 0.3997448  0.51113275 0.6427689\n",
      "  0.41519453 0.60110595 0.83050511 0.08955644 0.12493974 0.70873688\n",
      "  0.78839801 0.71321861 0.48677019 0.50552664 0.15758211 0.46566726\n",
      "  0.8143576  0.5018616  0.28541287 0.66361246 0.78405161 0.50646061\n",
      "  0.63527948 0.16275242 0.82457138 0.66784928 0.37643367 0.84426839\n",
      "  0.60175024 0.2262187  0.22340078 1.01016974]\n",
      " [0.3146145  0.77768837 0.20755539 0.68755734 0.4567569  0.45592993\n",
      "  0.59261748 0.         0.20514292 0.09342427 0.41225886 0.61453103\n",
      "  0.45655589 0.55946806 0.09543567 0.21007209 0.65984623 0.5253299\n",
      "  0.34332827 0.62520708 0.42841783 0.64939074 0.56640403 0.29216031\n",
      "  0.58659275 0.26361225 0.14834503 0.44185164 0.38258851 0.65108803\n",
      "  0.38469592 0.61397157 0.24943401 0.64235644 0.38959112 0.41604195\n",
      "  0.22877296 0.13138206 0.38705449 0.14002517 0.62210156 0.52155939\n",
      "  0.15855672 0.31998855 0.58899194 0.18184604 0.39189376 0.63133162\n",
      "  0.38216418 0.36443375 0.48046457 0.20857895 0.65352955 0.49873537\n",
      "  0.44633787 0.43589207 0.17045473 0.49254273 0.63347863 0.25341367\n",
      "  0.27630252 0.68620249 0.09281826 0.65723073 0.16340589 0.27109583\n",
      "  0.21354981 0.48993452 0.19092661 0.25317907 0.31725584 0.52441422\n",
      "  0.32360637 0.31228576 0.23820648 0.58088805 0.48072427 0.32066247\n",
      "  0.33303868 0.36179166 0.1161857  0.15145007 0.43526203 0.55699057\n",
      "  0.22255407 0.57710091 0.46120296 0.07236253 0.65006153 0.53992391\n",
      "  0.08304342 0.62169397 0.23848882 0.56007207 0.25779133 0.61710046\n",
      "  0.01047005 0.37674169 0.42026954 0.61617011]\n",
      " [0.3299969  0.81735539 0.40718003 0.72226539 0.25278455 0.6607339\n",
      "  0.43653394 0.20514292 0.         0.24500228 0.5673233  0.72238915\n",
      "  0.59354959 0.54612397 0.16915443 0.07343796 0.85824457 0.669024\n",
      "  0.46098758 0.80479021 0.62513536 0.75777918 0.73269073 0.45693718\n",
      "  0.50781751 0.4234258  0.2934131  0.61646055 0.53639299 0.76556832\n",
      "  0.51090731 0.74469939 0.43079255 0.69711163 0.50291748 0.60450505\n",
      "  0.36932823 0.22069294 0.57285044 0.07237334 0.64432748 0.46251588\n",
      "  0.17532532 0.26126935 0.76049136 0.32647422 0.59545253 0.59740831\n",
      "  0.43346822 0.50033355 0.31833231 0.40776036 0.85193742 0.70281879\n",
      "  0.64898392 0.41425698 0.35844208 0.63754863 0.70723274 0.11788824\n",
      "  0.2391769  0.88485875 0.12831515 0.76386852 0.36457219 0.23765399\n",
      "  0.1722861  0.69228078 0.34456879 0.04861752 0.38689101 0.6059782\n",
      "  0.12491315 0.42793769 0.42832312 0.40401503 0.347787   0.29460005\n",
      "  0.36055959 0.51230399 0.09426433 0.07099297 0.28465147 0.56328303\n",
      "  0.41522297 0.59299703 0.25773676 0.27368798 0.75023941 0.56539025\n",
      "  0.28069824 0.4318477  0.40325289 0.64217419 0.06184153 0.74639234\n",
      "  0.21009742 0.26200785 0.32805524 0.7959096 ]\n",
      " [0.23658164 0.68590834 0.17570708 0.59669788 0.48086966 0.44932177\n",
      "  0.56812752 0.09342427 0.24500228 0.         0.33135093 0.52277169\n",
      "  0.36947582 0.47921224 0.07852526 0.22015775 0.61730866 0.44087082\n",
      "  0.25114855 0.56041764 0.44807235 0.55781786 0.49231575 0.35227493\n",
      "  0.52616697 0.32876675 0.05691957 0.3727146  0.44496142 0.56037058\n",
      "  0.2943238  0.52629565 0.18589989 0.54976934 0.29729437 0.44852858\n",
      "  0.3059078  0.0615972  0.42387781 0.19805955 0.53348129 0.45621676\n",
      "  0.2483373  0.40831386 0.51820664 0.0918889  0.36612773 0.55509173\n",
      "  0.29238821 0.43629029 0.46418472 0.23667368 0.61103534 0.47363374\n",
      "  0.41602414 0.36187117 0.11750567 0.40829682 0.54008199 0.3226945\n",
      "  0.36599215 0.64405097 0.16871659 0.56547158 0.19249303 0.36103313\n",
      "  0.29951652 0.49452686 0.26552606 0.28754731 0.22618601 0.43099331\n",
      "  0.36987994 0.2195782  0.27894408 0.57060012 0.44838347 0.41242104\n",
      "  0.42626497 0.27833332 0.15200317 0.21308779 0.41493399 0.47220254\n",
      "  0.26118584 0.49009401 0.48382329 0.12568748 0.55761844 0.45170768\n",
      "  0.07119152 0.6214719  0.30246972 0.46664996 0.28296433 0.52909586\n",
      "  0.10157278 0.34324692 0.37312152 0.55149496]\n",
      " [0.3461716  0.51038125 0.25684965 0.45022875 0.77433833 0.3925916\n",
      "  0.76186446 0.41225886 0.5673233  0.33135093 0.         0.24902627\n",
      "  0.07243333 0.46603878 0.39953291 0.52322748 0.38386615 0.11667293\n",
      "  0.13965773 0.25727009 0.47948826 0.27742415 0.168159   0.53267342\n",
      "  0.60844346 0.52915673 0.27662119 0.09007552 0.61048607 0.26919083\n",
      "  0.09938248 0.21338757 0.17629564 0.37657166 0.13285752 0.52040771\n",
      "  0.54390719 0.34688507 0.51636767 0.52868948 0.43081615 0.53261784\n",
      "  0.57010815 0.73156235 0.20081256 0.24205329 0.28045793 0.5506225\n",
      "  0.27686981 0.6337712  0.69020135 0.389631   0.37868824 0.34056028\n",
      "  0.28636778 0.4261611  0.25100566 0.08467845 0.33088235 0.65390173\n",
      "  0.68703008 0.40827337 0.49873415 0.28709006 0.37799466 0.68160236\n",
      "  0.62578849 0.46137273 0.50669989 0.60356515 0.25073636 0.24445376\n",
      "  0.69063247 0.16278437 0.43701019 0.7978529  0.63872129 0.72733614\n",
      "  0.71885292 0.05546314 0.47931351 0.54402226 0.63943199 0.42513218\n",
      "  0.4231935  0.41655446 0.77515153 0.39494607 0.29221724 0.37647392\n",
      "  0.33577231 0.86576634 0.50732157 0.26336405 0.59185144 0.2179808\n",
      "  0.41638691 0.55243252 0.53847381 0.24945955]\n",
      " [0.41624918 0.29110639 0.49788377 0.26392899 0.87875279 0.62813632\n",
      "  0.77914845 0.61453103 0.72238915 0.52277169 0.24902627 0.\n",
      "  0.17858803 0.38792195 0.57142654 0.6616776  0.53269327 0.15695284\n",
      "  0.2716697  0.35163984 0.72491218 0.03547492 0.25561719 0.77810164\n",
      "  0.56540044 0.77199668 0.46640299 0.30583034 0.85828994 0.0480525\n",
      "  0.23107947 0.09274043 0.41344655 0.18865801 0.2257279  0.7683188\n",
      "  0.78037519 0.51291461 0.76518627 0.7035209  0.28900073 0.50331342\n",
      "  0.77108424 0.93021482 0.28913336 0.43272644 0.52071002 0.45444266\n",
      "  0.30745709 0.87893436 0.74223887 0.6335808  0.52958095 0.55894279\n",
      "  0.51438998 0.42431664 0.4769492  0.17550222 0.12396417 0.82735509\n",
      "  0.88858927 0.55007992 0.68810379 0.04270456 0.6165299  0.88369986\n",
      "  0.82065968 0.69725741 0.74128422 0.74722685 0.33743101 0.13694662\n",
      "  0.83504507 0.30381312 0.68232859 0.83862724 0.67075798 0.93502005\n",
      "  0.94094456 0.27493565 0.64928027 0.71958983 0.69745944 0.33447199\n",
      "  0.66758437 0.3063726  0.87720318 0.61602405 0.0435831  0.28378538\n",
      "  0.55062984 0.91534826 0.74889619 0.11250437 0.72827312 0.08722191\n",
      "  0.62119392 0.61465182 0.57258164 0.34938775]\n",
      " [0.33578963 0.43906606 0.32070382 0.3820799  0.78433862 0.46350789\n",
      "  0.74425967 0.45655589 0.59354959 0.36947582 0.07243333 0.17858803\n",
      "  0.         0.41791466 0.43021079 0.54254356 0.42885554 0.07692234\n",
      "  0.1363288  0.27835715 0.55191761 0.20875872 0.17605547 0.59993681\n",
      "  0.57202959 0.59466705 0.31275751 0.14909626 0.67970327 0.2032562\n",
      "  0.08494792 0.15745087 0.23705249 0.30712423 0.10625605 0.59261982\n",
      "  0.60569603 0.37394679 0.58809858 0.56234236 0.36895254 0.49832005\n",
      "  0.61508663 0.77635415 0.2141588  0.27762997 0.35209211 0.50035202\n",
      "  0.24864042 0.7008857  0.68226769 0.45574655 0.42423472 0.40680822\n",
      "  0.3549734  0.39637358 0.30554721 0.04974298 0.2591974  0.68807479\n",
      "  0.7328571  0.45152026 0.53816501 0.2181625  0.44061231 0.7276345\n",
      "  0.66848877 0.53248757 0.56738491 0.62585753 0.24049113 0.17862247\n",
      "  0.71403412 0.16786891 0.50414492 0.78763252 0.62392097 0.77593315\n",
      "  0.77383659 0.09925178 0.51040205 0.57812896 0.63270019 0.3729809\n",
      "  0.48965008 0.36010046 0.78436005 0.44814632 0.22128185 0.32208172\n",
      "  0.38531729 0.85883994 0.57201649 0.19379006 0.61131917 0.16076115\n",
      "  0.46189989 0.54559955 0.52249432 0.27199936]\n",
      " [0.24485453 0.30147245 0.58152176 0.2126226  0.5968297  0.82527722\n",
      "  0.41541785 0.55946806 0.54612397 0.47921224 0.46603878 0.38792195\n",
      "  0.41791466 0.         0.47152648 0.47269113 0.84618129 0.47039986\n",
      "  0.34790528 0.69142819 0.87576509 0.41062713 0.58658147 0.82820242\n",
      "  0.18007796 0.80688425 0.44712769 0.55605687 0.92071527 0.43304996\n",
      "  0.36929038 0.46950676 0.51556335 0.23511072 0.33496925 0.8953168\n",
      "  0.78454536 0.42831385 0.87767702 0.56802789 0.13112795 0.13324452\n",
      "  0.67514345 0.80398401 0.62534866 0.4341797  0.71341    0.08586648\n",
      "  0.21116866 0.91535161 0.41424136 0.69741458 0.84139432 0.79610073\n",
      "  0.73686868 0.13213129 0.52440265 0.46015233 0.28723796 0.6638965\n",
      "  0.7746661  0.86924162 0.58530251 0.40953173 0.65930343 0.77173022\n",
      "  0.70210288 0.88882686 0.74448657 0.5458661  0.27368738 0.26264141\n",
      "  0.61879992 0.34857415 0.74567944 0.48976428 0.33154099 0.82972968\n",
      "  0.87423474 0.4374649  0.51928716 0.58165492 0.3832184  0.05379311\n",
      "  0.72766579 0.08744081 0.59233282 0.60487641 0.3829742  0.10461342\n",
      "  0.54446638 0.56902072 0.78052952 0.27654011 0.51905679 0.46600879\n",
      "  0.56968951 0.32437555 0.25721376 0.68601938]\n",
      " [0.22791856 0.70610416 0.25180901 0.61358935 0.40245761 0.52149615\n",
      "  0.50487188 0.09543567 0.16915443 0.07852526 0.39953291 0.57142654\n",
      "  0.43021079 0.47152648 0.         0.14204328 0.69583388 0.50433456\n",
      "  0.30233296 0.63580781 0.50971763 0.60686303 0.56392145 0.38697591\n",
      "  0.49131326 0.35891363 0.12428651 0.44735855 0.47783717 0.61200202\n",
      "  0.35006356 0.584569   0.26361875 0.57502275 0.34681111 0.5032822\n",
      "  0.32344273 0.05856628 0.47588795 0.1327508  0.54361019 0.42706868\n",
      "  0.21197166 0.36288639 0.59139426 0.15776654 0.44268941 0.54042115\n",
      "  0.30902688 0.4595914  0.39628714 0.29172145 0.6895606  0.55042428\n",
      "  0.49348748 0.34484296 0.19577685 0.47231625 0.57379525 0.25817382\n",
      "  0.3244875  0.7225762  0.12198376 0.61380492 0.24585518 0.3202536\n",
      "  0.25320005 0.56299624 0.28617934 0.20990216 0.24943978 0.46693952\n",
      "  0.29388844 0.26926418 0.32730758 0.50046936 0.38948676 0.37576994\n",
      "  0.4062617  0.34494652 0.08024628 0.14874052 0.34878904 0.47340906\n",
      "  0.31061402 0.49628876 0.40550137 0.16098674 0.60313965 0.46136409\n",
      "  0.13315886 0.54784838 0.33362554 0.50332088 0.20449084 0.58678857\n",
      "  0.105808   0.28459501 0.32528416 0.62694694]\n",
      " [0.26028651 0.7456592  0.39356396 0.65046937 0.26093289 0.66015118\n",
      "  0.39103092 0.21007209 0.07343796 0.22015775 0.52322748 0.6616776\n",
      "  0.54254356 0.47269113 0.14204328 0.         0.83690525 0.61903355\n",
      "  0.40739443 0.7689401  0.63848766 0.69686554 0.69075291 0.48879972\n",
      "  0.43884312 0.45677999 0.25898627 0.58019088 0.5736551  0.70602757\n",
      "  0.45835839 0.68970464 0.40283308 0.62742913 0.44696888 0.62475403\n",
      "  0.40822496 0.17993014 0.59481127 0.11541872 0.5719158  0.39074269\n",
      "  0.23107954 0.33372186 0.72072796 0.28863393 0.58442248 0.52447305\n",
      "  0.36628877 0.54342393 0.27510814 0.41863947 0.83064962 0.69220944\n",
      "  0.63550016 0.34085538 0.33764522 0.58847282 0.64010502 0.19124519\n",
      "  0.30924184 0.86366942 0.16064654 0.70250621 0.37331892 0.30724459\n",
      "  0.23957797 0.69817226 0.37828246 0.0855732  0.32436415 0.54113012\n",
      "  0.17351794 0.37493201 0.44668794 0.37183224 0.29057767 0.36488101\n",
      "  0.42530408 0.46776913 0.09685623 0.12347347 0.23422737 0.49029188\n",
      "  0.43171602 0.52038771 0.26371879 0.28241921 0.68758932 0.49357043\n",
      "  0.27163196 0.41181018 0.43424392 0.57701968 0.06884166 0.69096387\n",
      "  0.21788144 0.19668205 0.25916447 0.76023198]\n",
      " [0.71892618 0.82349498 0.45245922 0.79001155 1.09783812 0.28435149\n",
      "  1.13378723 0.65984623 0.85824457 0.61730866 0.38386615 0.53269327\n",
      "  0.42885554 0.84618129 0.69583388 0.83690525 0.         0.38985203\n",
      "  0.51927306 0.18557592 0.40809367 0.53950646 0.27761723 0.59363713\n",
      "  0.99226627 0.61242494 0.58031457 0.29509453 0.62416478 0.51685309\n",
      "  0.48323752 0.44402869 0.43522431 0.71260504 0.51660445 0.47060682\n",
      "  0.66088069 0.66041114 0.49169829 0.79920488 0.79227115 0.91626791\n",
      "  0.78934699 0.93385122 0.24375577 0.55552898 0.27731735 0.92915138\n",
      "  0.66029751 0.67552939 1.0507236  0.5070887  0.00631722 0.18925342\n",
      "  0.22104273 0.80910757 0.5006011  0.3908102  0.65220741 0.91022684\n",
      "  0.88834683 0.02677452 0.75163305 0.54829137 0.53190011 0.8824223\n",
      "  0.84899206 0.32437066 0.6409473  0.90327908 0.62727061 0.60087025\n",
      "  0.98132116 0.53532987 0.5264638  1.15987796 1.00904503 0.90949465\n",
      "  0.86178875 0.42475014 0.76401478 0.81124154 0.99928634 0.80183643\n",
      "  0.52522705 0.78807838 1.10052442 0.60493764 0.56964036 0.75079151\n",
      "  0.57891254 1.22158994 0.60465812 0.60591319 0.90018673 0.45044717\n",
      "  0.65808859 0.9146472  0.91162078 0.18571357]\n",
      " [0.41061482 0.44334222 0.37269024 0.40121178 0.86121257 0.47235335\n",
      "  0.81509643 0.5253299  0.669024   0.44087082 0.11667293 0.15695284\n",
      "  0.07692234 0.47039986 0.50433456 0.61903355 0.38985203 0.\n",
      "  0.21325114 0.22172061 0.57304397 0.17733081 0.11691792 0.64522496\n",
      "  0.633056   0.64331784 0.38466831 0.15083058 0.7200448  0.16334221\n",
      "  0.1618683  0.098751   0.29295567 0.32385564 0.18125349 0.61936001\n",
      "  0.65993618 0.4488339  0.6188545  0.6358298  0.40349646 0.56141314\n",
      "  0.6837383  0.84525435 0.15543775 0.34953273 0.36701512 0.54937123\n",
      "  0.3185464  0.74625922 0.75651816 0.50369385 0.38599511 0.40201874\n",
      "  0.35787865 0.46322812 0.36719729 0.03280398 0.26599546 0.76154723\n",
      "  0.80113313 0.41001933 0.60943969 0.1872864  0.49396428 0.79578596\n",
      "  0.73840885 0.54134273 0.62304491 0.70204212 0.31606336 0.21352891\n",
      "  0.79011462 0.24467179 0.54998785 0.86103954 0.69617291 0.84250627\n",
      "  0.8354355  0.16354117 0.58458034 0.65149114 0.70735292 0.42182308\n",
      "  0.53685992 0.40365509 0.86120121 0.51109821 0.19971962 0.36938033\n",
      "  0.45080203 0.93309732 0.62208115 0.21609307 0.68784259 0.10403264\n",
      "  0.53001881 0.62042047 0.59469262 0.21688794]\n",
      " [0.20695329 0.46377471 0.26092488 0.38526863 0.64811989 0.47887552\n",
      "  0.62223369 0.34332827 0.46098758 0.25114855 0.13965773 0.2716697\n",
      "  0.1363288  0.34790528 0.30233296 0.40739443 0.51927306 0.21325114\n",
      "  0.         0.3959549  0.5400546  0.30680153 0.30131357 0.53772025\n",
      "  0.47527682 0.5253968  0.1950035  0.22451162 0.62537619 0.31030854\n",
      "  0.05139047 0.28373003 0.18106973 0.3234712  0.0462843  0.56827147\n",
      "  0.52378818 0.24438491 0.55609333 0.43506418 0.34328896 0.3985518\n",
      "  0.49942574 0.65866878 0.33678024 0.16201565 0.36617438 0.43377144\n",
      "  0.14353707 0.63564376 0.5524435  0.39409738 0.51382812 0.44888885\n",
      "  0.38919147 0.2903389  0.22127147 0.18446496 0.29980433 0.56017395\n",
      "  0.61692233 0.54440228 0.41685342 0.31435958 0.36728897 0.61203016\n",
      "  0.54923572 0.54392635 0.48336213 0.49141762 0.11116014 0.19154122\n",
      "  0.57976016 0.03317224 0.4445933  0.65947269 0.49926957 0.66352149\n",
      "  0.67252772 0.09483023 0.38164833 0.45106935 0.50205178 0.31517175\n",
      "  0.42779974 0.31580741 0.64821736 0.35061878 0.30674338 0.27349279\n",
      "  0.28379853 0.72856592 0.50040296 0.22448047 0.47602557 0.28552346\n",
      "  0.3503043  0.41485908 0.39885796 0.38837707]\n",
      " [0.60290429 0.64093105 0.42731134 0.61313154 1.02532938 0.37981415\n",
      "  1.01753769 0.62520708 0.80479021 0.56041764 0.25727009 0.35163984\n",
      "  0.27835715 0.69142819 0.63580781 0.7689401  0.18557592 0.22172061\n",
      "  0.3959549  0.         0.50331122 0.35576451 0.10491083 0.64459314\n",
      "  0.85015124 0.65440637 0.51199834 0.1887984  0.6977047  0.33251387\n",
      "  0.35041308 0.26085484 0.37691202 0.53612299 0.37991607 0.56189724\n",
      "  0.68999562 0.58921787 0.57363043 0.75649294 0.62330066 0.77667204\n",
      "  0.77388901 0.930564   0.06628781 0.48056253 0.313241   0.77102294\n",
      "  0.52545642 0.73925397 0.94747136 0.52549358 0.18355807 0.28337388\n",
      "  0.27196664 0.67419792 0.4548621  0.23218001 0.47370016 0.87767026\n",
      "  0.88458626 0.19998956 0.71738968 0.36427055 0.53534498 0.87877915\n",
      "  0.83303897 0.43993795 0.66099605 0.8450695  0.50703191 0.43492619\n",
      "  0.92965297 0.42004818 0.55964663 1.0550685  0.89509949 0.91584671\n",
      "  0.88602663 0.30988537 0.71241852 0.77064914 0.89668572 0.64340311\n",
      "  0.55247069 0.62529366 1.02667213 0.58655924 0.38663723 0.59103591\n",
      "  0.54242198 1.12297197 0.63975553 0.43449174 0.83645909 0.26712156\n",
      "  0.62642538 0.80970181 0.79437175 0.00904967]\n",
      " [0.6595144  0.98702266 0.2965716  0.91886456 0.87714458 0.12634006\n",
      "  1.0141304  0.42841783 0.62513536 0.44807235 0.47948826 0.72491218\n",
      "  0.55191761 0.87576509 0.50971763 0.63848766 0.40809367 0.57304397\n",
      "  0.5400546  0.50331122 0.         0.7495028  0.52260726 0.21531904\n",
      "  0.96170265 0.24474504 0.45046065 0.42261047 0.21966803 0.73637881\n",
      "  0.54131606 0.66800629 0.36149441 0.8495745  0.57055802 0.06252994\n",
      "  0.30580586 0.50934713 0.08769126 0.55345793 0.88316256 0.88727585\n",
      "  0.49173314 0.59927118 0.51588422 0.45084901 0.20701939 0.96000709\n",
      "  0.66488904 0.27583682 0.90578284 0.21985607 0.40325851 0.22641495\n",
      "  0.23301204 0.7825998  0.3587067  0.54987054 0.80905452 0.62852493\n",
      "  0.55844557 0.42601421 0.4974134  0.75944172 0.26538481 0.55289059\n",
      "  0.54411347 0.0929859  0.30510348 0.67365898 0.6028392  0.71392719\n",
      "  0.72882672 0.53079623 0.19819582 1.00842901 0.89608014 0.5622233\n",
      "  0.49331057 0.47271282 0.54361939 0.55909684 0.85849921 0.8508021\n",
      "  0.21006534 0.85498232 0.8824837  0.35609347 0.76849419 0.81262111\n",
      "  0.37910603 1.05000676 0.24983208 0.73838312 0.68273303 0.67407221\n",
      "  0.42082536 0.79080261 0.81999068 0.49640611]\n",
      " [0.45030021 0.28555729 0.52923453 0.27024869 0.91248634 0.64961269\n",
      "  0.80754772 0.64939074 0.75777918 0.55781786 0.27742415 0.03547492\n",
      "  0.20875872 0.41062713 0.60686303 0.69686554 0.53950646 0.17733081\n",
      "  0.30680153 0.35576451 0.7495028  0.         0.26521173 0.80866975\n",
      "  0.58952375 0.80330984 0.50136371 0.32805458 0.88778189 0.02534701\n",
      "  0.26540593 0.09558014 0.44512782 0.19858684 0.26096245 0.79435933\n",
      "  0.81289795 0.54835841 0.79225265 0.73898334 0.30463857 0.52959188\n",
      "  0.80615099 0.96543328 0.29602951 0.46755182 0.54405806 0.47338161\n",
      "  0.34113032 0.909637   0.7734226  0.66449541 0.53675815 0.57696795\n",
      "  0.53478818 0.4541024  0.51008873 0.19985109 0.13353046 0.86282997\n",
      "  0.92370997 0.55555119 0.72339382 0.00995829 0.64853809 0.91880187\n",
      "  0.85591701 0.71854658 0.77403251 0.78242568 0.3725495  0.16785379\n",
      "  0.87018525 0.33906165 0.71287876 0.86864412 0.70088346 0.96995556\n",
      "  0.97509915 0.30659301 0.68475086 0.75505191 0.72921763 0.35687546\n",
      "  0.69840801 0.32683693 0.91083145 0.64990388 0.03271695 0.30758513\n",
      "  0.58477764 0.94576315 0.78048281 0.13972985 0.76333836 0.08910304\n",
      "  0.65596676 0.64704891 0.60347909 0.35439657]\n",
      " [0.50733047 0.54671685 0.38355228 0.51287255 0.94248793 0.40831912\n",
      "  0.91930713 0.56640403 0.73269073 0.49231575 0.168159   0.25561719\n",
      "  0.17605547 0.58658147 0.56392145 0.69075291 0.27761723 0.11691792\n",
      "  0.30131357 0.10491083 0.52260726 0.26521173 0.         0.63186253\n",
      "  0.74646444 0.63622709 0.43982679 0.1281728  0.69621183 0.24422303\n",
      "  0.25304096 0.17001062 0.31812181 0.4355323  0.2803233  0.57594446\n",
      "  0.66340057 0.51313395 0.5816762  0.69036395 0.51959937 0.67354994\n",
      "  0.72108798 0.88115883 0.03879063 0.40623883 0.31783604 0.66612074\n",
      "  0.42457639 0.73082095 0.85358928 0.49983301 0.27429457 0.32345105\n",
      "  0.29229168 0.5723929  0.39757124 0.12830262 0.37462866 0.81440789\n",
      "  0.83568496 0.29616451 0.65629225 0.27447947 0.50079426 0.83003914\n",
      "  0.77879555 0.47478596 0.63033313 0.77020119 0.41123267 0.3303615\n",
      "  0.85670543 0.32824189 0.54049788 0.96016887 0.7980332  0.87169698\n",
      "  0.85197891 0.22346297 0.64286596 0.70528216 0.80332022 0.53849335\n",
      "  0.53034072 0.52057218 0.94327484 0.53772037 0.29398097 0.48613726\n",
      "  0.48569205 1.02983136 0.61823674 0.33122736 0.75922382 0.17658832\n",
      "  0.56912962 0.71611202 0.69681697 0.0999736 ]\n",
      " [0.58837942 1.00134522 0.28133635 0.92003046 0.70006481 0.31516273\n",
      "  0.87915541 0.29216031 0.45693718 0.35227493 0.53267342 0.77810164\n",
      "  0.59993681 0.82820242 0.38697591 0.48879972 0.59363713 0.64522496\n",
      "  0.53772025 0.64459314 0.21531904 0.80866975 0.63186253 0.\n",
      "  0.87546546 0.03443853 0.3813883  0.50951052 0.09272501 0.80173924\n",
      "  0.55878874 0.74392484 0.36613742 0.86109921 0.57915292 0.16880843\n",
      "  0.09646786 0.41009334 0.13476996 0.38519892 0.86742046 0.8074644\n",
      "  0.29904052 0.38677869 0.63741924 0.39852201 0.33325977 0.90624585\n",
      "  0.6290036  0.10110431 0.76390291 0.14504006 0.58801685 0.40440745\n",
      "  0.38292    0.71404323 0.31759328 0.61556943 0.83489196 0.43478107\n",
      "  0.34795717 0.61533297 0.3310779  0.81809863 0.17211304 0.34264843\n",
      "  0.34400236 0.30618019 0.11240099 0.5033643  0.5614712  0.72855685\n",
      "  0.54368836 0.51658673 0.09579191 0.85822362 0.77121177 0.34770259\n",
      "  0.27858703 0.50363856 0.39244182 0.38638243 0.72167834 0.81588499\n",
      "  0.11090304 0.82918405 0.70639263 0.2290179  0.82000639 0.7884144\n",
      "  0.28406888 0.88874762 0.05458459 0.75977437 0.5182603  0.74901574\n",
      "  0.28209905 0.66813318 0.71224845 0.63630645]\n",
      " [0.30266807 0.45930506 0.66619846 0.38079113 0.48166601 0.93151559\n",
      "  0.24796931 0.58659275 0.50781751 0.52616697 0.60844346 0.56540044\n",
      "  0.57202959 0.18007796 0.49131326 0.43884312 0.99226627 0.633056\n",
      "  0.47527682 0.85015124 0.96170265 0.58952375 0.74646444 0.87546546\n",
      "  0.         0.84901781 0.51219609 0.69740888 0.96744884 0.61138858\n",
      "  0.50906133 0.64338642 0.61625381 0.41383982 0.4759826  0.97065959\n",
      "  0.81456734 0.4661449  0.94810626 0.55084998 0.30542765 0.07713098\n",
      "  0.66627145 0.76741733 0.78510781 0.51124975 0.82488117 0.14833346\n",
      "  0.33233123 0.95090114 0.28041938 0.76132021 0.98703569 0.91805466\n",
      "  0.85699399 0.18636995 0.60307338 0.61821438 0.4673088  0.61867855\n",
      "  0.74695289 1.01670777 0.58384941 0.5888074  0.71822836 0.74529561\n",
      "  0.67833886 0.98979981 0.77747967 0.49160323 0.37533859 0.43506297\n",
      "  0.54595622 0.46520783 0.80503485 0.33113481 0.19933716 0.80241622\n",
      "  0.86360379 0.56995081 0.51306482 0.56112819 0.26756749 0.23366062\n",
      "  0.78720666 0.26709254 0.47544012 0.64647817 0.56251887 0.28196453\n",
      "  0.59709271 0.40895293 0.82327485 0.45310161 0.46359536 0.6403688\n",
      "  0.59701962 0.2475816  0.17982936 0.843963  ]\n",
      " [0.56534382 0.98805567 0.27412134 0.90514869 0.66581188 0.33802928\n",
      "  0.84752591 0.26361225 0.4234258  0.32876675 0.52915673 0.77199668\n",
      "  0.59466705 0.80688425 0.35891363 0.45677999 0.61242494 0.64331784\n",
      "  0.5253968  0.65440637 0.24474504 0.80330984 0.63622709 0.03443853\n",
      "  0.84901781 0.         0.36146786 0.51179772 0.11900382 0.7974209\n",
      "  0.54924647 0.74173804 0.35864117 0.84804404 0.56796719 0.20133453\n",
      "  0.06272361 0.3850482  0.16721257 0.35190191 0.85034315 0.78203815\n",
      "  0.26460774 0.35508634 0.64382412 0.38088024 0.34620539 0.88377736\n",
      "  0.61060911 0.1107083  0.73185602 0.13962988 0.60667228 0.4236797\n",
      "  0.39798685 0.6905     0.30418456 0.61294083 0.82415043 0.40036786\n",
      "  0.31541473 0.63482866 0.29821781 0.81259606 0.15813359 0.31001984\n",
      "  0.30977833 0.33398592 0.07897346 0.4696161  0.54294754 0.71682909\n",
      "  0.50928406 0.50273866 0.09576759 0.82537107 0.74075821 0.3175011\n",
      "  0.25287137 0.49706354 0.36077361 0.35273447 0.69017481 0.79636209\n",
      "  0.10674417 0.81087074 0.67217121 0.20380125 0.8133541  0.77055063\n",
      "  0.26255105 0.85513214 0.02635474 0.7488445  0.48487914 0.74663041\n",
      "  0.25337248 0.63821592 0.68383692 0.64594439]\n",
      " [0.21239607 0.63766146 0.15981993 0.55028182 0.51907953 0.43568495\n",
      "  0.57937402 0.14834503 0.2934131  0.05691957 0.27662119 0.46640299\n",
      "  0.31275751 0.44712769 0.12428651 0.25898627 0.58031457 0.38466831\n",
      "  0.1950035  0.51199834 0.45046065 0.50136371 0.43982679 0.3813883\n",
      "  0.51219609 0.36146786 0.         0.32335246 0.47373201 0.5036347\n",
      "  0.23746879 0.46944196 0.14509026 0.50001788 0.24125496 0.45873326\n",
      "  0.34636776 0.08012354 0.43724532 0.25210539 0.49074021 0.43901206\n",
      "  0.30495447 0.46518441 0.46710795 0.03516207 0.34275575 0.52651998\n",
      "  0.24980216 0.47131676 0.48196162 0.25231009 0.57411186 0.44835559\n",
      "  0.38865835 0.33814299 0.09528395 0.35219469 0.48729077 0.37751032\n",
      "  0.42270699 0.60708279 0.22542713 0.50910754 0.21243692 0.41770643\n",
      "  0.35643608 0.48683794 0.30542964 0.33307817 0.18222077 0.37794051\n",
      "  0.4180287  0.16401716 0.29929451 0.59032134 0.45643582 0.46861759\n",
      "  0.47931784 0.22283525 0.20310946 0.26751687 0.43127586 0.43490847\n",
      "  0.28124372 0.44981733 0.52133723 0.1656305  0.50172145 0.410006\n",
      "  0.09993615 0.64624759 0.3351863  0.41319697 0.32526912 0.47221343\n",
      "  0.15552567 0.35318576 0.37250054 0.50317519]\n",
      " [0.42744176 0.58413837 0.25537961 0.53081029 0.8371715  0.32231234\n",
      "  0.84368833 0.44185164 0.61646055 0.3727146  0.09007552 0.30583034\n",
      "  0.14909626 0.55605687 0.44735855 0.58019088 0.29509453 0.15083058\n",
      "  0.22451162 0.1887984  0.42261047 0.32805458 0.1281728  0.50951052\n",
      "  0.69740888 0.51179772 0.32335246 0.         0.57864939 0.31396342\n",
      "  0.1888079  0.24566313 0.19245549 0.45524934 0.22266467 0.4702828\n",
      "  0.53656154 0.40042624 0.47152331 0.5698384  0.51705235 0.62125867\n",
      "  0.59479005 0.75421733 0.14717075 0.29176414 0.21622694 0.64051803\n",
      "  0.36525858 0.60960412 0.76690026 0.37396018 0.28976129 0.25847158\n",
      "  0.20942413 0.51401849 0.27181697 0.13089894 0.40414536 0.69241128\n",
      "  0.70859805 0.31999771 0.53296388 0.33801286 0.37306807 0.70291485\n",
      "  0.65300028 0.39144985 0.50284553 0.65637091 0.33383872 0.32762035\n",
      "  0.74124694 0.24266981 0.41640667 0.87544789 0.71960797 0.74389398\n",
      "  0.72391169 0.13074028 0.52457947 0.58431758 0.71568757 0.51469484\n",
      "  0.40531152 0.50510972 0.83866441 0.41021952 0.34918904 0.46552313\n",
      "  0.36009797 0.94101899 0.49284756 0.34218392 0.64766185 0.2516394\n",
      "  0.44398867 0.62939377 0.62051825 0.18005388]\n",
      " [0.68110442 1.08911026 0.36596557 1.00919612 0.77251871 0.33981671\n",
      "  0.96467812 0.38258851 0.53639299 0.44496142 0.61048607 0.85828994\n",
      "  0.67970327 0.92071527 0.47783717 0.5736551  0.62416478 0.7200448\n",
      "  0.62537619 0.6977047  0.21966803 0.88778189 0.69621183 0.09272501\n",
      "  0.96744884 0.11900382 0.47373201 0.57864939 0.         0.87943331\n",
      "  0.64372954 0.81870461 0.45008321 0.94879614 0.66565704 0.1588661\n",
      "  0.16706658 0.50252366 0.13290124 0.46599995 0.95814062 0.89985436\n",
      "  0.36976587 0.42918708 0.69778436 0.49003133 0.38479475 0.99893299\n",
      "  0.72058337 0.06086637 0.8483929  0.23131472 0.6190183  0.43722851\n",
      "  0.42785473 0.80675876 0.40699567 0.69161897 0.92038924 0.50070614\n",
      "  0.39631974 0.64341685 0.41383708 0.89737694 0.26305032 0.39169205\n",
      "  0.40682882 0.31167595 0.19566496 0.58124482 0.65316252 0.81522373\n",
      "  0.61352545 0.60553536 0.18081298 0.93995091 0.85917924 0.38368188\n",
      "  0.29967821 0.58554192 0.47831299 0.4654013  0.80758373 0.90785146\n",
      "  0.19788736 0.92060656 0.77928184 0.32127557 0.90078925 0.87962699\n",
      "  0.37675788 0.96666175 0.14427724 0.84559773 0.59818687 0.82407528\n",
      "  0.37236393 0.75696111 0.80283407 0.68988479]\n",
      " [0.46302891 0.30968393 0.52373511 0.29559303 0.92571932 0.63419008\n",
      "  0.8268936  0.65108803 0.76556832 0.56037058 0.26919083 0.0480525\n",
      "  0.2032562  0.43304996 0.61200202 0.70602757 0.51685309 0.16334221\n",
      "  0.31030854 0.33251387 0.73637881 0.02534701 0.24422303 0.80173924\n",
      "  0.61138858 0.7974209  0.5036347  0.31396342 0.87943331 0.\n",
      "  0.26639212 0.07428217 0.44030404 0.22370842 0.26520914 0.78247144\n",
      "  0.80891712 0.55366596 0.78134446 0.7445088  0.32906939 0.55030336\n",
      "  0.80858271 0.96856447 0.27384439 0.4693663  0.53018714 0.49713033\n",
      "  0.35466556 0.9028156  0.79026929 0.65817638 0.51422955 0.55939151\n",
      "  0.51878435 0.47229904 0.50759411 0.18857462 0.15855253 0.86896657\n",
      "  0.92633776 0.53245807 0.72709703 0.03218081 0.64385895 0.9213408\n",
      "  0.85933055 0.70291866 0.77048124 0.79149677 0.38230555 0.18497864\n",
      "  0.8795184  0.34306886 0.70601167 0.88665386 0.71878947 0.97174231\n",
      "  0.97441975 0.30226583 0.69057106 0.760559   0.74541268 0.37938504\n",
      "  0.6919254  0.35002587 0.92426316 0.64877885 0.05805083 0.32945905\n",
      "  0.58438599 0.96339797 0.77501743 0.15948857 0.77304    0.06769007\n",
      "  0.65734373 0.66244324 0.62063151 0.3314174 ]\n",
      " [0.25433584 0.44902873 0.27788633 0.37756312 0.69942621 0.46928135\n",
      "  0.66722212 0.38469592 0.51090731 0.2943238  0.09938248 0.23107947\n",
      "  0.08494792 0.36929038 0.35006356 0.45835839 0.48323752 0.1618683\n",
      "  0.05139047 0.35041308 0.54131606 0.26540593 0.25304096 0.55878874\n",
      "  0.50906133 0.54924647 0.23746879 0.1888079  0.64372954 0.26639212\n",
      "  0.         0.23455471 0.19371926 0.30968548 0.0343212  0.57455278\n",
      "  0.55277664 0.2927497  0.56528187 0.48274504 0.34617142 0.43328069\n",
      "  0.54231652 0.70263746 0.28944124 0.20301921 0.35560745 0.45453676\n",
      "  0.17773952 0.65837661 0.60079449 0.41386256 0.47804357 0.42917888\n",
      "  0.37156821 0.32717925 0.24828331 0.13339096 0.27668968 0.60822906\n",
      "  0.66012481 0.50765098 0.46196106 0.27361218 0.39165133 0.6550905\n",
      "  0.59370857 0.53636224 0.51302464 0.54211288 0.1582844  0.17393376\n",
      "  0.63040537 0.08343125 0.46395701 0.70714796 0.54527343 0.70535179\n",
      "  0.70986874 0.07113506 0.42989405 0.49867643 0.55074381 0.33088466\n",
      "  0.44796191 0.32582762 0.69948191 0.38517863 0.2690859  0.28445908\n",
      "  0.319567   0.77718996 0.52506684 0.20220523 0.52705645 0.23672501\n",
      "  0.3909889  0.46353251 0.44425005 0.34317502]\n",
      " [0.46083709 0.38008367 0.47021925 0.35666909 0.92136038 0.56300664\n",
      "  0.84610532 0.61397157 0.74469939 0.52629565 0.21338757 0.09274043\n",
      "  0.15745087 0.46950676 0.584569   0.68970464 0.44402869 0.098751\n",
      "  0.28373003 0.26085484 0.66800629 0.09558014 0.17001062 0.74392484\n",
      "  0.64338642 0.74173804 0.46944196 0.24566313 0.81870461 0.07428217\n",
      "  0.23455471 0.         0.38912703 0.28117786 0.24274062 0.71586263\n",
      "  0.75728598 0.52729632 0.7163038  0.71719214 0.37875942 0.57731251\n",
      "  0.77248132 0.9336837  0.20046098 0.43440838 0.46116501 0.54043839\n",
      "  0.35753454 0.84497323 0.79958533 0.60210925 0.4412354  0.48621486\n",
      "  0.44711365 0.48964359 0.4611721  0.12891093 0.21668496 0.84274282\n",
      "  0.89027354 0.46035073 0.69482815 0.10462609 0.59138218 0.88506147\n",
      "  0.82560938 0.63143742 0.71994635 0.77435164 0.37216929 0.20832501\n",
      "  0.86273169 0.31683288 0.6486264  0.90006885 0.73265244 0.93334735\n",
      "  0.92989457 0.25490583 0.6644465  0.73309552 0.75252826 0.41702461\n",
      "  0.63537868 0.39170289 0.92059009 0.60454336 0.12580741 0.36492509\n",
      "  0.54243452 0.97501874 0.72029226 0.19398034 0.75795049 0.0065933\n",
      "  0.61934935 0.66719838 0.63227947 0.25919601]\n",
      " [0.31608205 0.64136152 0.0848212  0.56567556 0.66352657 0.31533148\n",
      "  0.71413783 0.24943401 0.43079255 0.18589989 0.17629564 0.41344655\n",
      "  0.23705249 0.51556335 0.26361875 0.40283308 0.43522431 0.29295567\n",
      "  0.18106973 0.37691202 0.36149441 0.44512782 0.31812181 0.36613742\n",
      "  0.61625381 0.35864117 0.14509026 0.19245549 0.45008321 0.44030404\n",
      "  0.19371926 0.38912703 0.         0.5013144  0.21731841 0.38736737\n",
      "  0.36882691 0.22519409 0.37508506 0.37975882 0.52382895 0.53971895\n",
      "  0.4029672  0.56319502 0.33962316 0.12222678 0.21021726 0.60050483\n",
      "  0.30439472 0.466427   0.62216468 0.2211114  0.42902204 0.31076172\n",
      "  0.24971762 0.43160066 0.07948811 0.26089158 0.47040732 0.50088317\n",
      "  0.51785266 0.46199262 0.3409061  0.45430871 0.20356145 0.51224659\n",
      "  0.46081556 0.37538904 0.33095731 0.4733422  0.24521054 0.36639169\n",
      "  0.55558975 0.16934277 0.27080393 0.73113579 0.58962671 0.55530906\n",
      "  0.54300013 0.1385594  0.33724651 0.3937885  0.57097283 0.48933694\n",
      "  0.25524531 0.4938358  0.66596212 0.22118958 0.45471318 0.45150407\n",
      "  0.16773934 0.78941148 0.33545226 0.39583197 0.46776317 0.39346213\n",
      "  0.25154472 0.48945419 0.4986929  0.36791021]\n",
      " [0.3672558  0.14031413 0.583611   0.0774166  0.80275371 0.7690361\n",
      "  0.64937604 0.64235644 0.69711163 0.54976934 0.37657166 0.18865801\n",
      "  0.30712423 0.23511072 0.57502275 0.62742913 0.71260504 0.32385564\n",
      "  0.3234712  0.53612299 0.8495745  0.19858684 0.4355323  0.86109921\n",
      "  0.41383982 0.84804404 0.50001788 0.45524934 0.94879614 0.22370842\n",
      "  0.30968548 0.28117786 0.5013144  0.         0.28400336 0.88417344\n",
      "  0.84284071 0.51916738 0.87486331 0.69737902 0.11140659 0.36599891\n",
      "  0.78661895 0.93578224 0.47158221 0.47290351 0.6563394  0.28325315\n",
      "  0.26693598 0.95853971 0.63680177 0.71755187 0.70899196 0.71363074\n",
      "  0.66203365 0.31905869 0.54397179 0.3295405  0.06527906 0.81200083\n",
      "  0.8990819  0.73168238 0.69700534 0.19419056 0.69015002 0.89500453\n",
      "  0.8270042  0.83764284 0.80199889 0.71039267 0.32644085 0.13584271\n",
      "  0.79332199 0.34540302 0.76804151 0.72050743 0.55705649 0.95079204\n",
      "  0.97511872 0.37688494 0.64318027 0.71294999 0.59927913 0.1837098\n",
      "  0.75127092 0.14779455 0.79950665 0.66463924 0.16653395 0.1480825\n",
      "  0.59762525 0.7995594  0.82274899 0.11336046 0.68679813 0.27582186\n",
      "  0.65108554 0.52684379 0.46955489 0.53304565]\n",
      " [0.22962738 0.42411877 0.29991295 0.34933761 0.68210247 0.50153609\n",
      "  0.63898732 0.38959112 0.50291748 0.29729437 0.13285752 0.2257279\n",
      "  0.10625605 0.33496925 0.34681111 0.44696888 0.51660445 0.18125349\n",
      "  0.0462843  0.37991607 0.57055802 0.26096245 0.2803233  0.57915292\n",
      "  0.4759826  0.56796719 0.24125496 0.22266467 0.66565704 0.26520914\n",
      "  0.0343212  0.24274062 0.21731841 0.28400336 0.         0.60198638\n",
      "  0.56816128 0.28853691 0.59151774 0.47938831 0.31434816 0.40052727\n",
      "  0.54549998 0.704488   0.31758546 0.20828723 0.38793391 0.42022911\n",
      "  0.14592902 0.67784774 0.57602643 0.43477323 0.51146841 0.46311205\n",
      "  0.40520162 0.29531124 0.2644764  0.15599875 0.25620479 0.60411106\n",
      "  0.66291567 0.54083412 0.46244675 0.26838594 0.40986976 0.6580502\n",
      "  0.59495457 0.56819625 0.52790969 0.53169874 0.13482129 0.14956682\n",
      "  0.62007284 0.07810019 0.48516316 0.68141107 0.51804242 0.70970352\n",
      "  0.71869809 0.10429105 0.42560972 0.49542851 0.52652801 0.29679346\n",
      "  0.4687079  0.29243833 0.68179033 0.39627491 0.26047139 0.25084691\n",
      "  0.32961566 0.75260482 0.54326629 0.18087857 0.51521965 0.24402262\n",
      "  0.39658659 0.43947059 0.41669547 0.37294645]\n",
      " [0.6706776  1.02297159 0.31398441 0.9513209  0.8541133  0.18808392\n",
      "  1.00765855 0.41604195 0.60450505 0.44852858 0.52040771 0.7683188\n",
      "  0.59261982 0.8953168  0.5032822  0.62475403 0.47060682 0.61936001\n",
      "  0.56827147 0.56189724 0.06252994 0.79435933 0.57594446 0.16880843\n",
      "  0.97065959 0.20133453 0.45873326 0.4702828  0.1588661  0.78247144\n",
      "  0.57455278 0.71586263 0.38736737 0.88417344 0.60198638 0.\n",
      "  0.26398487 0.51010071 0.03412198 0.53218056 0.91118497 0.89774339\n",
      "  0.45992141 0.55556935 0.57138308 0.46385877 0.25819008 0.97831559\n",
      "  0.685907   0.21677189 0.8964611  0.21238726 0.46575548 0.28797158\n",
      "  0.29023735 0.79563267 0.37190136 0.59454409 0.84680673 0.59698931\n",
      "  0.51662303 0.48852994 0.47619851 0.80424775 0.25786425 0.51126858\n",
      "  0.50896329 0.15292579 0.2703438  0.65254331 0.62163476 0.74834033\n",
      "  0.70173827 0.55578082 0.17807348 0.99647954 0.89254265 0.51582292\n",
      "  0.44207063 0.50816947 0.52836593 0.53617443 0.85072372 0.87361692\n",
      "  0.19351096 0.88023339 0.85989281 0.34426458 0.81180763 0.83800919\n",
      "  0.37768366 1.03396168 0.21169964 0.77461133 0.66393213 0.7217683\n",
      "  0.4074785  0.7873892  0.82155313 0.55475277]\n",
      " [0.54041779 0.98189433 0.2872519  0.89606912 0.60742982 0.39270922\n",
      "  0.79909635 0.22877296 0.36932823 0.3059078  0.54390719 0.78037519\n",
      "  0.60569603 0.78454536 0.32344273 0.40822496 0.66088069 0.65993618\n",
      "  0.52378818 0.68999562 0.30580586 0.81289795 0.66340057 0.09646786\n",
      "  0.81456734 0.06272361 0.34636776 0.53656154 0.16706658 0.80891712\n",
      "  0.55277664 0.75728598 0.36882691 0.84284071 0.56816128 0.26398487\n",
      "  0.         0.3572291  0.22986572 0.29911652 0.83695844 0.75028837\n",
      "  0.20483108 0.29346536 0.67420716 0.37042542 0.38880587 0.85858864\n",
      "  0.5957323  0.13695699 0.68231497 0.16473783 0.65497498 0.47364473\n",
      "  0.44280303 0.66360742 0.30450122 0.62851809 0.82357202 0.33927673\n",
      "  0.25308732 0.68413264 0.24776996 0.82188291 0.16597232 0.24763472\n",
      "  0.2477423  0.3934976  0.0409654  0.41428179 0.52836172 0.71487842\n",
      "  0.44966456 0.49834266 0.13459541 0.77298155 0.69602804 0.25773219\n",
      "  0.20094116 0.50668529 0.31413858 0.29833591 0.64244208 0.77800484\n",
      "  0.13833373 0.79504512 0.61399536 0.18128521 0.82053242 0.75585673\n",
      "  0.2466112  0.79982166 0.05780147 0.7482667  0.43112801 0.76180511\n",
      "  0.21830317 0.59533378 0.64491168 0.68131069]\n",
      " [0.18355106 0.65180691 0.23095026 0.56018123 0.43925069 0.50680046\n",
      "  0.50846958 0.13138206 0.22069294 0.0615972  0.34688507 0.51291461\n",
      "  0.37394679 0.42831385 0.05856628 0.17993014 0.66041114 0.4488339\n",
      "  0.24438491 0.58921787 0.50934713 0.54835841 0.51313395 0.41009334\n",
      "  0.4661449  0.3850482  0.08012354 0.40042624 0.50252366 0.55366596\n",
      "  0.2927497  0.52729632 0.22519409 0.51916738 0.28853691 0.51010071\n",
      "  0.3572291  0.         0.48528286 0.1908526  0.49244168 0.39737198\n",
      "  0.26759037 0.42087515 0.54207217 0.10872214 0.41892624 0.50136104\n",
      "  0.25463139 0.4905727  0.4068133  0.29812767 0.65420427 0.52554591\n",
      "  0.46654234 0.30651193 0.16860921 0.41714109 0.5162362  0.31578912\n",
      "  0.38179595 0.6871811  0.17894766 0.55527163 0.25366649 0.37741775\n",
      "  0.31106392 0.55397936 0.31782023 0.25708421 0.19283182 0.40894462\n",
      "  0.34376961 0.21124868 0.33968694 0.51429572 0.38777917 0.43225364\n",
      "  0.45807721 0.2917281  0.13727078 0.20689677 0.35685172 0.42578075\n",
      "  0.32204539 0.44655671 0.4414011  0.18132017 0.54457668 0.41013577\n",
      "  0.13254708 0.56809368 0.35894641 0.44528263 0.24725637 0.52938235\n",
      "  0.14149541 0.28288794 0.31152433 0.58047977]\n",
      " [0.64961365 1.01429275 0.29813874 0.94059025 0.821753   0.20743062\n",
      "  0.97942812 0.38705449 0.57285044 0.42387781 0.51636767 0.76518627\n",
      "  0.58809858 0.87767702 0.47588795 0.59481127 0.49169829 0.6188545\n",
      "  0.55609333 0.57363043 0.08769126 0.79225265 0.5816762  0.13476996\n",
      "  0.94810626 0.16721257 0.43724532 0.47152331 0.13290124 0.78134446\n",
      "  0.56528187 0.7163038  0.37508506 0.87486331 0.59151774 0.03412198\n",
      "  0.22986572 0.48528286 0.         0.50048391 0.89795599 0.8759256\n",
      "  0.42641834 0.52154852 0.57935285 0.44446728 0.26448546 0.95994715\n",
      "  0.66945657 0.18816528 0.86745379 0.18722123 0.4866272  0.30589298\n",
      "  0.30179254 0.77511176 0.35330251 0.59287148 0.83958147 0.56342477\n",
      "  0.48251618 0.51066632 0.4446196  0.80208185 0.23182966 0.47715699\n",
      "  0.47507347 0.18059511 0.23674306 0.6207254  0.60427908 0.73920783\n",
      "  0.66874342 0.54187901 0.14892361 0.96664217 0.86537314 0.4820413\n",
      "  0.40920164 0.50060064 0.49818878 0.50411141 0.82223034 0.85765806\n",
      "  0.1652813  0.86554334 0.82761506 0.31583465 0.80851124 0.82347196\n",
      "  0.3527431  1.00303731 0.17785233 0.76655536 0.63262867 0.72206374\n",
      "  0.37822974 0.76039346 0.79628299 0.5661816 ]\n",
      " [0.33592528 0.82397681 0.34675203 0.72983003 0.32375713 0.59245771\n",
      "  0.50183534 0.14002517 0.07237334 0.19805955 0.52868948 0.7035209\n",
      "  0.56234236 0.56802789 0.1327508  0.11541872 0.79920488 0.6358298\n",
      "  0.43506418 0.75649294 0.55345793 0.73898334 0.69036395 0.38519892\n",
      "  0.55084998 0.35190191 0.25210539 0.5698384  0.46599995 0.7445088\n",
      "  0.48274504 0.71719214 0.37975882 0.69737902 0.47938831 0.53218056\n",
      "  0.29911652 0.1908526  0.50048391 0.         0.65539875 0.49837854\n",
      "  0.11599535 0.23946255 0.71591642 0.2869283  0.53186212 0.62693306\n",
      "  0.43052824 0.43204991 0.38425233 0.33706382 0.79288777 0.63852349\n",
      "  0.58636283 0.43630424 0.30363283 0.60358404 0.70079945 0.12574448\n",
      "  0.20689197 0.82564124 0.05610785 0.74577924 0.29469267 0.20378538\n",
      "  0.13412334 0.62200209 0.27294953 0.12043806 0.37600714 0.59559301\n",
      "  0.18371315 0.40197556 0.35626667 0.47397092 0.40556997 0.26172819\n",
      "  0.31311333 0.47488451 0.05476024 0.0160712  0.34681766 0.57874641\n",
      "  0.34342613 0.6055914  0.32902881 0.2048292  0.73447576 0.57426306\n",
      "  0.22042648 0.50389026 0.33130818 0.6320374  0.13309194 0.71946129\n",
      "  0.14331125 0.31175092 0.37205518 0.74751293]\n",
      " [0.31958941 0.17689264 0.60042516 0.08334426 0.72089998 0.81545133\n",
      "  0.54600385 0.62210156 0.64432748 0.53348129 0.43081615 0.28900073\n",
      "  0.36895254 0.13112795 0.54361019 0.5719158  0.79227115 0.40349646\n",
      "  0.34328896 0.62330066 0.88316256 0.30463857 0.51959937 0.86742046\n",
      "  0.30542765 0.85034315 0.49074021 0.51705235 0.95814062 0.32906939\n",
      "  0.34617142 0.37875942 0.52382895 0.11140659 0.31434816 0.91118497\n",
      "  0.83695844 0.49244168 0.89795599 0.65539875 0.         0.2643707\n",
      "  0.75445056 0.8946935  0.55735057 0.46946418 0.70177528 0.17185085\n",
      "  0.24133028 0.96084233 0.54372654 0.72820059 0.78813815 0.77119046\n",
      "  0.71557879 0.23952399 0.55166476 0.40183145 0.17243145 0.76173978\n",
      "  0.86146377 0.81314727 0.66367804 0.30145423 0.69537276 0.85792839\n",
      "  0.78857373 0.88243922 0.79606244 0.65082682 0.30859785 0.19166013\n",
      "  0.72913999 0.35615038 0.77830344 0.62089008 0.46167007 0.91520881\n",
      "  0.94971907 0.41724093 0.6031351  0.6701949  0.5103968  0.08747786\n",
      "  0.76074261 0.05237195 0.71688044 0.65578605 0.2738155  0.08231904\n",
      "  0.59067017 0.70014648 0.82428925 0.18899182 0.62534712 0.37410404\n",
      "  0.63169301 0.4453665  0.38199602 0.61921432]\n",
      " [0.22776181 0.43221119 0.59123185 0.34547954 0.47422709 0.85504191\n",
      "  0.28339178 0.52155939 0.46251588 0.45621676 0.53261784 0.50331342\n",
      "  0.49832005 0.13324452 0.42706868 0.39074269 0.91626791 0.56141314\n",
      "  0.3985518  0.77667204 0.88727585 0.52959188 0.67354994 0.8074644\n",
      "  0.07713098 0.78203815 0.43901206 0.62125867 0.89985436 0.55030336\n",
      "  0.43328069 0.57731251 0.53971895 0.36599891 0.40052727 0.89774339\n",
      "  0.75028837 0.39737198 0.8759256  0.49837854 0.2643707  0.\n",
      "  0.61215452 0.72377644 0.71205492 0.43646107 0.74802357 0.14228715\n",
      "  0.25600434 0.88580755 0.28396108 0.68968747 0.91098928 0.84093709\n",
      "  0.7798896  0.1092395  0.52857814 0.54525435 0.41369901 0.57734263\n",
      "  0.69988474 0.94086085 0.52665473 0.52975019 0.64729511 0.69775386\n",
      "  0.62937008 0.91378999 0.71230054 0.45262496 0.29822971 0.36961539\n",
      "  0.51604518 0.38810988 0.73437565 0.35651983 0.20041932 0.75553224\n",
      "  0.811271   0.49330545 0.45652868 0.50992785 0.25766621 0.18230315\n",
      "  0.71644733 0.21865049 0.46904046 0.57858321 0.5043771  0.22422344\n",
      "  0.52663642 0.43577627 0.75605641 0.39088185 0.42473077 0.57468801\n",
      "  0.53202801 0.21337067 0.14194899 0.77029744]\n",
      " [0.4360881  0.91806931 0.34741591 0.82541243 0.40286489 0.55283442\n",
      "  0.61185916 0.15855672 0.17532532 0.2483373  0.57010815 0.77108424\n",
      "  0.61508663 0.67514345 0.21197166 0.23107954 0.78934699 0.6837383\n",
      "  0.49942574 0.77388901 0.49173314 0.80615099 0.72108798 0.29904052\n",
      "  0.66627145 0.26460774 0.30495447 0.59479005 0.36976587 0.80858271\n",
      "  0.54231652 0.77248132 0.4029672  0.78661895 0.54549998 0.45992141\n",
      "  0.20483108 0.26759037 0.42641834 0.11599535 0.75445056 0.61215452\n",
      "  0.         0.16152203 0.74176144 0.33931225 0.51315335 0.73773646\n",
      "  0.52098137 0.32869933 0.49365331 0.29216298 0.78309199 0.61457858\n",
      "  0.56947465 0.5446339  0.32352812 0.65094091 0.78316887 0.13712882\n",
      "  0.11786121 0.81490687 0.09078051 0.81377996 0.25908747 0.11277606\n",
      "  0.05982695 0.5705074  0.18970777 0.21545801 0.46041205 0.67510752\n",
      "  0.24487175 0.46759302 0.2954579  0.57695279 0.52010112 0.1650542\n",
      "  0.19974086 0.52020162 0.15661055 0.10812504 0.45918943 0.68168797\n",
      "  0.2871804  0.70623932 0.40955789 0.1879078  0.8055857  0.67237713\n",
      "  0.23561719 0.59841515 0.24910734 0.7112497  0.23606965 0.77557209\n",
      "  0.15376628 0.42765789 0.48785253 0.76484258]\n",
      " [0.57534273 1.06336025 0.50326009 0.96928267 0.40092267 0.68030299\n",
      "  0.66373086 0.31998855 0.26126935 0.40831386 0.73156235 0.93021482\n",
      "  0.77635415 0.80398401 0.36288639 0.33372186 0.93385122 0.84525435\n",
      "  0.65866878 0.930564   0.59927118 0.96543328 0.88115883 0.38677869\n",
      "  0.76741733 0.35508634 0.46518441 0.75421733 0.42918708 0.96856447\n",
      "  0.70263746 0.9336837  0.56319502 0.93578224 0.704488   0.55556935\n",
      "  0.29346536 0.42087515 0.52154852 0.23946255 0.8946935  0.72377644\n",
      "  0.16152203 0.         0.90081077 0.49986337 0.65656003 0.8581543\n",
      "  0.66885821 0.37356525 0.54872019 0.42744991 0.92769285 0.75258244\n",
      "  0.71281007 0.67185831 0.48396226 0.81245817 0.93661427 0.14967837\n",
      "  0.04603958 0.9586548  0.24253177 0.97286075 0.40289685 0.05190867\n",
      "  0.10986282 0.68630611 0.29973471 0.27716627 0.61190102 0.82978231\n",
      "  0.24991075 0.62640393 0.41677207 0.6091946  0.59576674 0.05178048\n",
      "  0.14633564 0.68171535 0.29287086 0.2245053  0.52690744 0.81714323\n",
      "  0.41358891 0.84464028 0.40919682 0.3444776  0.96376451 0.81368808\n",
      "  0.39652961 0.60966829 0.3500302  0.86614092 0.30484712 0.93670092\n",
      "  0.31528249 0.52010757 0.58814977 0.9215386 ]\n",
      " [0.54338025 0.57975459 0.39966783 0.54878712 0.97431619 0.39754077\n",
      "  0.95638456 0.58899194 0.76049136 0.51820664 0.20081256 0.28913336\n",
      "  0.2141588  0.62534866 0.59139426 0.72072796 0.24375577 0.15543775\n",
      "  0.33678024 0.06628781 0.51588422 0.29602951 0.03879063 0.63741924\n",
      "  0.78510781 0.64382412 0.46710795 0.14717075 0.69778436 0.27384439\n",
      "  0.28944124 0.20046098 0.33962316 0.47158221 0.31758546 0.57138308\n",
      "  0.67420716 0.54207217 0.57935285 0.71591642 0.55735057 0.71205492\n",
      "  0.74176144 0.90081077 0.         0.43423393 0.31492285 0.7047706\n",
      "  0.46237781 0.73505156 0.88921731 0.50971761 0.24084274 0.30770167\n",
      "  0.28321153 0.61052047 0.41898192 0.16689487 0.40986705 0.83906784\n",
      "  0.85509298 0.26099589 0.67992713 0.30496095 0.51403115 0.84937999\n",
      "  0.80009333 0.46213353 0.64256532 0.79905014 0.44728155 0.36866816\n",
      "  0.88493501 0.36269417 0.54811907 0.99616584 0.83470935 0.88940237\n",
      "  0.86592836 0.25539586 0.66960992 0.73057546 0.83875619 0.57717168\n",
      "  0.53903541 0.55901086 0.97529985 0.55648216 0.32591756 0.52478032\n",
      "  0.50725981 1.0652554  0.62702248 0.36868891 0.78892103 0.20692649\n",
      "  0.59115942 0.75159031 0.7336267  0.06187142]\n",
      " [0.20872526 0.61156337 0.15497057 0.52586114 0.54727778 0.42620162\n",
      "  0.59333176 0.18184604 0.32647422 0.0918889  0.24205329 0.43272644\n",
      "  0.27762997 0.4341797  0.15776654 0.28863393 0.55552898 0.34953273\n",
      "  0.16201565 0.48056253 0.45084901 0.46755182 0.40623883 0.39852201\n",
      "  0.51124975 0.38088024 0.03516207 0.29176414 0.49003133 0.4693663\n",
      "  0.20301921 0.43440838 0.12222678 0.47290351 0.20828723 0.46385877\n",
      "  0.37042542 0.10872214 0.44446728 0.2869283  0.46946418 0.43646107\n",
      "  0.33931225 0.49986337 0.43423393 0.         0.32794605 0.5156397\n",
      "  0.2305526  0.49141601 0.49999508 0.26340303 0.54938527 0.43141925\n",
      "  0.37081776 0.3321932  0.09231676 0.31708069 0.45744486 0.41244706\n",
      "  0.4571408  0.5822477  0.26053615 0.4754206  0.22702568 0.45208827\n",
      "  0.39131219 0.48070571 0.32949212 0.36495833 0.16318726 0.34806271\n",
      "  0.45072513 0.13212479 0.31223805 0.60893083 0.46924338 0.50247871\n",
      "  0.51073741 0.18796106 0.23728904 0.30241334 0.44884592 0.41814594\n",
      "  0.2943164  0.43066551 0.54920365 0.19190499 0.46863768 0.38994323\n",
      "  0.12477417 0.66739141 0.35484671 0.38283826 0.35590257 0.43722249\n",
      "  0.18848939 0.36795359 0.38100502 0.4718087 ]\n",
      " [0.52611144 0.79083796 0.19088446 0.72872897 0.84293959 0.11367885\n",
      "  0.92102519 0.39189376 0.59545253 0.36612773 0.28045793 0.52071002\n",
      "  0.35209211 0.71341    0.44268941 0.58442248 0.27731735 0.36701512\n",
      "  0.36617438 0.313241   0.20701939 0.54405806 0.31783604 0.33325977\n",
      "  0.82488117 0.34620539 0.34275575 0.21622694 0.38479475 0.53018714\n",
      "  0.35560745 0.46116501 0.21021726 0.6563394  0.38793391 0.25819008\n",
      "  0.38880587 0.41892624 0.26448546 0.53186212 0.70177528 0.74802357\n",
      "  0.51315335 0.65656003 0.31492285 0.32794605 0.         0.79921074\n",
      "  0.50428124 0.42622303 0.8246513  0.23043857 0.27114545 0.10781349\n",
      "  0.05639426 0.63923061 0.25037933 0.34521562 0.61122184 0.6373112\n",
      "  0.61103244 0.30234562 0.48134917 0.55401379 0.25480382 0.60510781\n",
      "  0.57259433 0.18145073 0.36577157 0.64240483 0.4507334  0.52238313\n",
      "  0.71550011 0.36571544 0.25458005 0.9327969  0.79714558 0.63292147\n",
      "  0.58926637 0.28454617 0.50243627 0.54267332 0.77402761 0.68119424\n",
      "  0.25099094 0.67983008 0.8465427  0.33157851 0.5642466  0.63785253\n",
      "  0.31524417 0.98675314 0.33464378 0.54345024 0.64294941 0.46727206\n",
      "  0.38875598 0.69518791 0.70811666 0.30528591]\n",
      " [0.31859156 0.31196467 0.66494401 0.23847214 0.61481567 0.91096517\n",
      "  0.39630277 0.63133162 0.59740831 0.55509173 0.5506225  0.45444266\n",
      "  0.50035202 0.08586648 0.54042115 0.52447305 0.92915138 0.54937123\n",
      "  0.43377144 0.77102294 0.96000709 0.47338161 0.66612074 0.90624585\n",
      "  0.14833346 0.88377736 0.52651998 0.64051803 0.99893299 0.49713033\n",
      "  0.45453676 0.54043839 0.60050483 0.28325315 0.42022911 0.97831559\n",
      "  0.85858864 0.50136104 0.95994715 0.62693306 0.17185085 0.14228715\n",
      "  0.73773646 0.8581543  0.7047706  0.5156397  0.79921074 0.\n",
      "  0.29627156 0.99117075 0.41962277 0.77812378 0.92446803 0.88186875\n",
      "  0.8227021  0.19561193 0.60672576 0.54107478 0.34323312 0.71388412\n",
      "  0.83177086 0.95185961 0.64938624 0.47096525 0.73895298 0.82925461\n",
      "  0.76005651 0.97430439 0.81904828 0.59110513 0.35724808 0.33782087\n",
      "  0.65726946 0.43414752 0.82576132 0.47877594 0.33607116 0.88728993\n",
      "  0.93747163 0.52308455 0.58112667 0.63959859 0.39791513 0.12773765\n",
      "  0.80771525 0.14874197 0.60934224 0.68061678 0.4435559  0.17999158\n",
      "  0.62217787 0.55697674 0.8574512  0.34650542 0.56344825 0.53641441\n",
      "  0.64169905 0.35513393 0.28390328 0.76593647]\n",
      " [0.10981246 0.39725551 0.37193566 0.30567937 0.57136357 0.6152679\n",
      "  0.49655587 0.38216418 0.43346822 0.29238821 0.27686981 0.30745709\n",
      "  0.24864042 0.21116866 0.30902688 0.36628877 0.66029751 0.3185464\n",
      "  0.14353707 0.52545642 0.66488904 0.34113032 0.42457639 0.6290036\n",
      "  0.33233123 0.61060911 0.24980216 0.36525858 0.72058337 0.35466556\n",
      "  0.17773952 0.35753454 0.30439472 0.26693598 0.14592902 0.685907\n",
      "  0.5957323  0.25463139 0.66945657 0.43052824 0.24133028 0.25600434\n",
      "  0.52098137 0.66885821 0.46237781 0.2305526  0.50428124 0.29627156\n",
      "  0.         0.72081272 0.44232538 0.49288954 0.65500283 0.59113198\n",
      "  0.53086552 0.14947562 0.31730931 0.29761302 0.2739047  0.54662159\n",
      "  0.63242439 0.68496838 0.43086393 0.34528382 0.45756133 0.62842169\n",
      "  0.56019642 0.67813228 0.55486504 0.45109963 0.0676678  0.17720636\n",
      "  0.53695446 0.1385659  0.54229073 0.54440487 0.37825057 0.68453574\n",
      "  0.71261437 0.23781769 0.37625953 0.44615263 0.39499562 0.18840943\n",
      "  0.52445846 0.20027272 0.5697587  0.41450559 0.32702948 0.16020764\n",
      "  0.34971213 0.61824675 0.58442212 0.21216034 0.42951289 0.35677476\n",
      "  0.39153201 0.30986919 0.2769241  0.51861455]\n",
      " [0.67258213 1.09860874 0.38161314 1.01585507 0.72915966 0.39189081\n",
      "  0.93360594 0.36443375 0.50033355 0.43629029 0.6337712  0.87893436\n",
      "  0.7008857  0.91535161 0.4595914  0.54342393 0.67552939 0.74625922\n",
      "  0.63564376 0.73925397 0.27583682 0.909637   0.73082095 0.10110431\n",
      "  0.95090114 0.1107083  0.47131676 0.60960412 0.06086637 0.9028156\n",
      "  0.65837661 0.84497323 0.466427   0.95853971 0.67784774 0.21677189\n",
      "  0.13695699 0.4905727  0.18816528 0.43204991 0.96084233 0.88580755\n",
      "  0.32869933 0.37356525 0.73505156 0.49141601 0.42622303 0.99117075\n",
      "  0.72081272 0.         0.81626049 0.2454357  0.67020381 0.48712863\n",
      "  0.4727212  0.79697285 0.41458101 0.71666001 0.93392249 0.45469558\n",
      "  0.34305291 0.69566045 0.38278544 0.91904545 0.26840717 0.33874037\n",
      "  0.36011691 0.36861219 0.17352688 0.54332655 0.65314529 0.82694701\n",
      "  0.56912682 0.61331796 0.1968096  0.90423628 0.83229171 0.32663723\n",
      "  0.24030118 0.60429065 0.45039713 0.42966854 0.77755269 0.90599245\n",
      "  0.21137077 0.92102381 0.73621439 0.31062193 0.92072231 0.88086398\n",
      "  0.3718747  0.92709478 0.13657552 0.85867781 0.56209711 0.8500804\n",
      "  0.35398199 0.7320751  0.78184414 0.73116498]\n",
      " [0.34660265 0.71541353 0.63776233 0.62644623 0.20366872 0.91328508\n",
      "  0.11826071 0.48046457 0.31833231 0.46418472 0.69020135 0.74223887\n",
      "  0.68226769 0.41424136 0.39628714 0.27510814 1.0507236  0.75651816\n",
      "  0.5524435  0.94747136 0.90578284 0.7734226  0.85358928 0.76390291\n",
      "  0.28041938 0.73185602 0.48196162 0.76690026 0.8483929  0.79026929\n",
      "  0.60079449 0.79958533 0.62216468 0.63680177 0.57602643 0.8964611\n",
      "  0.68231497 0.4068133  0.86745379 0.38425233 0.54372654 0.28396108\n",
      "  0.49365331 0.54872019 0.88921731 0.49999508 0.8246513  0.41962277\n",
      "  0.44232538 0.81626049 0.         0.6868264  1.04473718 0.9302143\n",
      "  0.87017794 0.32175705 0.57502485 0.73200198 0.67494899 0.40202203\n",
      "  0.54070963 1.07717853 0.43462397 0.77579588 0.64096075 0.54081779\n",
      "  0.48362758 0.95817219 0.65326212 0.28168651 0.4425187  0.60564914\n",
      "  0.30257145 0.5274283  0.71866453 0.109187   0.08376218 0.59266287\n",
      "  0.67093655 0.63845525 0.37161775 0.38756834 0.05143726 0.4575204\n",
      "  0.70295017 0.49436866 0.19682409 0.55224707 0.7534907  0.48896144\n",
      "  0.52868038 0.17658977 0.70934123 0.63500327 0.25817987 0.79860184\n",
      "  0.48922443 0.13777488 0.17017848 0.93962796]\n",
      " [0.46443846 0.85786295 0.13630012 0.77799928 0.66048555 0.26097812\n",
      "  0.79657559 0.20857895 0.40776036 0.23667368 0.389631   0.6335808\n",
      "  0.45574655 0.69741458 0.29172145 0.41863947 0.5070887  0.50369385\n",
      "  0.39409738 0.52549358 0.21985607 0.66449541 0.49983301 0.14504006\n",
      "  0.76132021 0.13962988 0.25231009 0.37396018 0.23131472 0.65817638\n",
      "  0.41386256 0.60210925 0.2211114  0.71755187 0.43477323 0.21238726\n",
      "  0.16473783 0.29812767 0.18722123 0.33706382 0.72820059 0.68968747\n",
      "  0.29216298 0.42744991 0.50971761 0.26340303 0.23043857 0.77812378\n",
      "  0.49288954 0.2454357  0.6868264  0.         0.50098511 0.32539669\n",
      "  0.28624531 0.59036964 0.17653977 0.47332309 0.69017261 0.42443044\n",
      "  0.38234368 0.53157834 0.28156822 0.67385491 0.04589615 0.37643253\n",
      "  0.3499252  0.28504626 0.13651893 0.45637786 0.42609894 0.58430582\n",
      "  0.51680774 0.37438033 0.05050255 0.78879578 0.68046735 0.4025243\n",
      "  0.36166152 0.35885929 0.32405841 0.34414438 0.64016939 0.68109099\n",
      "  0.03413721 0.69205281 0.66549712 0.13629982 0.67529787 0.65064023\n",
      "  0.16558261 0.83024298 0.11905045 0.61515014 0.46409504 0.60700828\n",
      "  0.20112132 0.57524234 0.60936609 0.51677349]\n",
      " [0.71321428 0.82048384 0.44614201 0.78640527 1.09158247 0.27923158\n",
      "  1.12797442 0.65352955 0.85193742 0.61103534 0.37868824 0.52958095\n",
      "  0.42423472 0.84139432 0.6895606  0.83064962 0.00631722 0.38599511\n",
      "  0.51382812 0.18355807 0.40325851 0.53675815 0.27429457 0.58801685\n",
      "  0.98703569 0.60667228 0.57411186 0.28976129 0.6190183  0.51422955\n",
      "  0.47804357 0.4412354  0.42902204 0.70899196 0.51146841 0.46575548\n",
      "  0.65497498 0.65420427 0.4866272  0.79288777 0.78813815 0.91098928\n",
      "  0.78309199 0.92769285 0.24084274 0.54938527 0.27114545 0.92446803\n",
      "  0.65500283 0.67020381 1.04473718 0.50098511 0.         0.18368772\n",
      "  0.2148927  0.80374563 0.49431139 0.38654485 0.64878727 0.90392243\n",
      "  0.88217785 0.03302016 0.74531922 0.54559185 0.52569177 0.87625323\n",
      "  0.84274218 0.3200264  0.63492685 0.89698075 0.62168157 0.596673\n",
      "  0.9750074  0.5297158  0.52053297 1.15389626 1.00321638 0.90341396\n",
      "  0.85589309 0.41925573 0.75770881 0.80492449 0.99329999 0.79720614\n",
      "  0.51922482 0.78363819 1.09427551 0.59864493 0.56676016 0.74623563\n",
      "  0.57259624 1.21552835 0.59880197 0.60200658 0.89390657 0.44767254\n",
      "  0.65177399 0.90870707 0.90586746 0.1834047 ]\n",
      " [0.62349062 0.8421125  0.29864905 0.78888765 0.95071994 0.10007922\n",
      "  1.02462615 0.49873537 0.70281879 0.47363374 0.34056028 0.55894279\n",
      "  0.40680822 0.79610073 0.55042428 0.69220944 0.18925342 0.40201874\n",
      "  0.44888885 0.28337388 0.22641495 0.57696795 0.32345105 0.40440745\n",
      "  0.91805466 0.4236797  0.44835559 0.25847158 0.43722851 0.55939151\n",
      "  0.42917888 0.48621486 0.31076172 0.71363074 0.46311205 0.28797158\n",
      "  0.47364473 0.52554591 0.30589298 0.63852349 0.77119046 0.84093709\n",
      "  0.61457858 0.75258244 0.30770167 0.43141925 0.10781349 0.88186875\n",
      "  0.59113198 0.48712863 0.9302143  0.32539669 0.18368772 0.\n",
      "  0.06139375 0.73171102 0.35731345 0.38752654 0.66231737 0.74157198\n",
      "  0.70765774 0.21115765 0.58724816 0.58680022 0.35552315 0.70175277\n",
      "  0.67347259 0.15656605 0.4559434  0.74993314 0.54271994 0.5843883\n",
      "  0.82223389 0.45378278 0.33990026 1.03867421 0.9002686  0.72553346\n",
      "  0.67424035 0.35914939 0.6100257  0.64899038 0.87936775 0.75985965\n",
      "  0.34018993 0.75461947 0.95434224 0.43659273 0.60141142 0.71353533\n",
      "  0.42290943 1.09361672 0.41684334 0.60044253 0.75070636 0.4927174\n",
      "  0.49524476 0.79936275 0.80922666 0.27741191]\n",
      " [0.56209944 0.79301409 0.24248699 0.73639777 0.89500019 0.11637928\n",
      "  0.96378918 0.44633787 0.64898392 0.41602414 0.28636778 0.51438998\n",
      "  0.3549734  0.73686868 0.49348748 0.63550016 0.22104273 0.35787865\n",
      "  0.38919147 0.27196664 0.23301204 0.53478818 0.29229168 0.38292\n",
      "  0.85699399 0.39798685 0.38865835 0.20942413 0.42785473 0.51878435\n",
      "  0.37156821 0.44711365 0.24971762 0.66203365 0.40520162 0.29023735\n",
      "  0.44280303 0.46654234 0.30179254 0.58636283 0.71557879 0.7798896\n",
      "  0.56947465 0.71281007 0.28321153 0.37081776 0.05639426 0.8227021\n",
      "  0.53086552 0.4727212  0.87017794 0.28624531 0.2148927  0.06139375\n",
      "  0.         0.67068273 0.29898508 0.34023314 0.61291763 0.69308054\n",
      "  0.66732189 0.24597356 0.5364708  0.54471497 0.31119807 0.66139764\n",
      "  0.62894527 0.18433656 0.4209543  0.69555943 0.48166    0.53082142\n",
      "  0.76983148 0.39314757 0.30824923 0.9788019  0.83933405 0.68876447\n",
      "  0.64359805 0.30094713 0.55552518 0.59746428 0.81922472 0.70158041\n",
      "  0.30565592 0.69738432 0.89840535 0.38726974 0.55748224 0.65599971\n",
      "  0.36833722 1.03457781 0.38777903 0.54867351 0.69526739 0.45347358\n",
      "  0.44353848 0.73875194 0.74797583 0.26466308]\n",
      " [0.12607964 0.41640955 0.48605809 0.32207788 0.48443429 0.74688356\n",
      "  0.35648195 0.43589207 0.41425698 0.36187117 0.4261611  0.42431664\n",
      "  0.39637358 0.13213129 0.34484296 0.34085538 0.80910757 0.46322812\n",
      "  0.2903389  0.67419792 0.7825998  0.4541024  0.5723929  0.71404323\n",
      "  0.18636995 0.6905     0.33814299 0.51401849 0.80675876 0.47229904\n",
      "  0.32717925 0.48964359 0.43160066 0.31905869 0.29531124 0.79563267\n",
      "  0.66360742 0.30651193 0.77511176 0.43630424 0.23952399 0.1092395\n",
      "  0.5446339  0.67185831 0.61052047 0.3321932  0.63923061 0.19561193\n",
      "  0.14947562 0.79697285 0.32175705 0.59036964 0.80374563 0.73171102\n",
      "  0.67068273 0.         0.42450369 0.44456552 0.35348136 0.53210028\n",
      "  0.64276183 0.83395755 0.45538531 0.45587018 0.54944035 0.63988626\n",
      "  0.57029582 0.80639794 0.62432828 0.41553914 0.18903192 0.28742381\n",
      "  0.49107562 0.27897385 0.63662163 0.4145428  0.24684314 0.69791434\n",
      "  0.7441308  0.38516911 0.38832074 0.44977295 0.28126908 0.15329554\n",
      "  0.6185881  0.18718838 0.48093662 0.48683772 0.43275055 0.17151226\n",
      "  0.43050154 0.49186598 0.66424289 0.3147049  0.38917082 0.48778655\n",
      "  0.44628154 0.20817296 0.15199052 0.66749851]\n",
      " [0.30081729 0.68409358 0.06459575 0.60248051 0.59823361 0.34050489\n",
      "  0.67416662 0.17045473 0.35844208 0.11750567 0.25100566 0.4769492\n",
      "  0.30554721 0.52440265 0.19577685 0.33764522 0.5006011  0.36719729\n",
      "  0.22127147 0.4548621  0.3587067  0.51008873 0.39757124 0.31759328\n",
      "  0.60307338 0.30418456 0.09528395 0.27181697 0.40699567 0.50759411\n",
      "  0.24828331 0.4611721  0.07948811 0.54397179 0.2644764  0.37190136\n",
      "  0.30450122 0.16860921 0.35330251 0.30363283 0.55166476 0.52857814\n",
      "  0.32352812 0.48396226 0.41898192 0.09231676 0.25037933 0.60672576\n",
      "  0.31730931 0.41458101 0.57502485 0.17653977 0.49431139 0.35731345\n",
      "  0.29898508 0.42450369 0.         0.33462709 0.52059037 0.42296338\n",
      "  0.4387368  0.52730474 0.26254144 0.51885819 0.14617905 0.43316325\n",
      "  0.38132819 0.39176647 0.26477992 0.402816   0.25128719 0.41278831\n",
      "  0.48253964 0.19900768 0.22667945 0.68280501 0.55154653 0.47709222\n",
      "  0.46872532 0.20652225 0.26421907 0.31713757 0.52471981 0.50571421\n",
      "  0.20922219 0.51578107 0.60126059 0.14394237 0.51651043 0.47424257\n",
      "  0.08828331 0.73640184 0.27913183 0.44522762 0.39971627 0.4650967\n",
      "  0.17221699 0.44794912 0.46758704 0.44583138]\n",
      " [0.38550005 0.45469619 0.34136667 0.40631734 0.83249746 0.45303415\n",
      "  0.79365547 0.49254273 0.63754863 0.40829682 0.08467845 0.17550222\n",
      "  0.04974298 0.46015233 0.47231625 0.58847282 0.3908102  0.03280398\n",
      "  0.18446496 0.23218001 0.54987054 0.19985109 0.12830262 0.61556943\n",
      "  0.61821438 0.61294083 0.35219469 0.13089894 0.69161897 0.18857462\n",
      "  0.13339096 0.12891093 0.26089158 0.3295405  0.15599875 0.59454409\n",
      "  0.62851809 0.41714109 0.59287148 0.60358404 0.40183145 0.54525435\n",
      "  0.65094091 0.81245817 0.16689487 0.31708069 0.34521562 0.54107478\n",
      "  0.29761302 0.71666001 0.73200198 0.47332309 0.38654485 0.38752654\n",
      "  0.34023314 0.44456552 0.33462709 0.         0.27525636 0.72927381\n",
      "  0.76832965 0.4123491  0.57681021 0.20975922 0.46257681 0.76298206\n",
      "  0.70565445 0.52220359 0.5913745  0.67109977 0.29009351 0.21021331\n",
      "  0.75905435 0.21506438 0.5201147  0.83736641 0.67354194 0.80972945\n",
      "  0.80302813 0.13075109 0.55255089 0.61921058 0.68240577 0.41334634\n",
      "  0.50668108 0.3977447  0.83264879 0.47849107 0.21903099 0.36150512\n",
      "  0.41803275 0.90857091 0.59140463 0.21828975 0.65730951 0.13369705\n",
      "  0.4972179  0.59529019 0.57209626 0.22633021]\n",
      " [0.38116798 0.18010157 0.55446523 0.14003268 0.83138309 0.7226501\n",
      "  0.69623238 0.63347863 0.70723274 0.54008199 0.33088235 0.12396417\n",
      "  0.2591974  0.28723796 0.57379525 0.64010502 0.65220741 0.26599546\n",
      "  0.29980433 0.47370016 0.80905452 0.13353046 0.37462866 0.83489196\n",
      "  0.4673088  0.82415043 0.48729077 0.40414536 0.92038924 0.15855253\n",
      "  0.27668968 0.21668496 0.47040732 0.06527906 0.25620479 0.84680673\n",
      "  0.82357202 0.5162362  0.83958147 0.70079945 0.17243145 0.41369901\n",
      "  0.78316887 0.93661427 0.40986705 0.45744486 0.61122184 0.34323312\n",
      "  0.2739047  0.93392249 0.67494899 0.69017261 0.64878727 0.66231737\n",
      "  0.61291763 0.35348136 0.52059037 0.27525636 0.         0.81944604\n",
      "  0.89802967 0.67062283 0.69518321 0.12953956 0.6660687  0.89365033\n",
      "  0.82699383 0.79166529 0.78309481 0.72468063 0.32493384 0.10939604\n",
      "  0.80987359 0.32606062 0.74040284 0.76356208 0.59765667 0.9481592\n",
      "  0.96623099 0.33898634 0.64609754 0.71667068 0.6345783  0.23386043\n",
      "  0.72421563 0.20054217 0.82871609 0.64884226 0.1018309  0.18977178\n",
      "  0.58169038 0.84209694 0.799471   0.07536574 0.70254296 0.21118181\n",
      "  0.64158234 0.55776567 0.5054705  0.47095756]\n",
      " [0.44572816 0.93411    0.45970704 0.8391466  0.27598809 0.68530322\n",
      "  0.51853738 0.25341367 0.11788824 0.3226945  0.65390173 0.82735509\n",
      "  0.68807479 0.6638965  0.25817382 0.19124519 0.91022684 0.76154723\n",
      "  0.56017395 0.87767026 0.62852493 0.86282997 0.81440789 0.43478107\n",
      "  0.61867855 0.40036786 0.37751032 0.69241128 0.50070614 0.86896657\n",
      "  0.60822906 0.84274282 0.50088317 0.81200083 0.60411106 0.59698931\n",
      "  0.33927673 0.31578912 0.56342477 0.12574448 0.76173978 0.57734263\n",
      "  0.13712882 0.14967837 0.83906784 0.41244706 0.6373112  0.71388412\n",
      "  0.54662159 0.45469558 0.40202203 0.42443044 0.90392243 0.74157198\n",
      "  0.69308054 0.53210028 0.42296338 0.72927381 0.81944604 0.\n",
      "  0.13899978 0.93631041 0.16063341 0.86942052 0.38762124 0.13954274\n",
      "  0.09463415 0.70599143 0.32668184 0.12756368 0.49608798 0.71605607\n",
      "  0.11563284 0.52703385 0.43151224 0.46998215 0.44633233 0.19078614\n",
      "  0.27132187 0.60034551 0.17853537 0.11006385 0.37796617 0.68108076\n",
      "  0.4223308  0.71056322 0.28344589 0.30581563 0.85733639 0.68237119\n",
      "  0.33643039 0.48002036 0.38586909 0.75244569 0.15536872 0.8449524\n",
      "  0.25357106 0.371139   0.43995513 0.86865147]\n",
      " [0.54188152 1.02832479 0.45729498 0.93474228 0.40735568 0.63662045\n",
      "  0.65747596 0.27630252 0.2391769  0.36599215 0.68703008 0.88858927\n",
      "  0.7328571  0.7746661  0.3244875  0.30924184 0.88834683 0.80113313\n",
      "  0.61692233 0.88458626 0.55844557 0.92370997 0.83568496 0.34795717\n",
      "  0.74695289 0.31541473 0.42270699 0.70859805 0.39631974 0.92633776\n",
      "  0.66012481 0.89027354 0.51785266 0.8990819  0.66291567 0.51662303\n",
      "  0.25308732 0.38179595 0.48251618 0.20689197 0.86146377 0.69988474\n",
      "  0.11786121 0.04603958 0.85509298 0.4571408  0.61103244 0.83177086\n",
      "  0.63242439 0.34305291 0.54070963 0.38234368 0.88217785 0.70765774\n",
      "  0.66732189 0.64276183 0.4387368  0.76832965 0.89802967 0.13899978\n",
      "  0.         0.91322878 0.20284874 0.93127303 0.35710222 0.00592487\n",
      "  0.07291793 0.64437138 0.25653475 0.26229675 0.57392705 0.79056869\n",
      "  0.25011322 0.58491789 0.37315429 0.60822071 0.58213863 0.0556475\n",
      "  0.13359309 0.63763564 0.25833065 0.19301163 0.51504698 0.78554966\n",
      "  0.36935096 0.81202774 0.41531367 0.29866332 0.92274035 0.77996275\n",
      "  0.35160155 0.61466061 0.30866968 0.82683936 0.28897126 0.89338966\n",
      "  0.2711626  0.50097094 0.56714919 0.87556265]\n",
      " [0.74475118 0.84033625 0.47888934 0.80903419 1.12460229 0.30384973\n",
      "  1.15985015 0.68620249 0.88485875 0.64405097 0.40827337 0.55007992\n",
      "  0.45152026 0.86924162 0.7225762  0.86366942 0.02677452 0.41001933\n",
      "  0.54440228 0.19998956 0.42601421 0.55555119 0.29616451 0.61533297\n",
      "  1.01670777 0.63482866 0.60708279 0.31999771 0.64341685 0.53245807\n",
      "  0.50765098 0.46035073 0.46199262 0.73168238 0.54083412 0.48852994\n",
      "  0.68413264 0.6871811  0.51066632 0.82564124 0.81314727 0.94086085\n",
      "  0.81490687 0.9586548  0.26099589 0.5822477  0.30234562 0.95185961\n",
      "  0.68496838 0.69566045 1.07717853 0.53157834 0.03302016 0.21115765\n",
      "  0.24597356 0.83395755 0.52730474 0.4123491  0.67062283 0.93631041\n",
      "  0.91322878 0.         0.77789143 0.56414669 0.55710673 0.90730531\n",
      "  0.87450401 0.34016316 0.66488556 0.92994745 0.65278002 0.62203587\n",
      "  1.00786047 0.56091765 0.54989876 1.18632219 1.03514909 0.93377699\n",
      "  0.88494662 0.45003858 0.79063848 0.83762027 1.02574173 0.82439183\n",
      "  0.54908293 0.81000322 1.12729334 0.63088159 0.58614509 0.77311201\n",
      "  0.60539798 1.24818456 0.62764091 0.62607618 0.92691527 0.46669183\n",
      "  0.68436938 0.94100779 0.9375418  0.20116654]\n",
      " [0.34538327 0.82772633 0.29986492 0.73486651 0.37974342 0.53835475\n",
      "  0.55133107 0.09281826 0.12831515 0.16871659 0.49873415 0.68810379\n",
      "  0.53816501 0.58530251 0.12198376 0.16064654 0.75163305 0.60943969\n",
      "  0.41685342 0.71738968 0.4974134  0.72339382 0.65629225 0.3310779\n",
      "  0.58384941 0.29821781 0.22542713 0.53296388 0.41383708 0.72709703\n",
      "  0.46196106 0.69482815 0.3409061  0.69700534 0.46244675 0.47619851\n",
      "  0.24776996 0.17894766 0.4446196  0.05610785 0.66367804 0.52665473\n",
      "  0.09078051 0.24253177 0.67992713 0.26053615 0.48134917 0.64938624\n",
      "  0.43086393 0.38278544 0.43462397 0.28156822 0.74531922 0.58724816\n",
      "  0.5364708  0.45538531 0.26254144 0.57681021 0.69518321 0.16063341\n",
      "  0.20284874 0.77789143 0.         0.73070577 0.23984211 0.19848353\n",
      "  0.1327077  0.56660657 0.21929273 0.17653471 0.37128748 0.58777532\n",
      "  0.23651055 0.38434946 0.30015882 0.52717615 0.45016949 0.25378671\n",
      "  0.28893228 0.44651578 0.07084773 0.06276264 0.39484094 0.59106742\n",
      "  0.28736278 0.61547146 0.38507563 0.15131345 0.72130609 0.58162056\n",
      "  0.17580243 0.5590789  0.27686329 0.62407156 0.18822766 0.69754227\n",
      "  0.09358531 0.35215384 0.40766921 0.70836168]\n",
      " [0.45469599 0.27753862 0.53849719 0.26470002 0.91651723 0.65955962\n",
      "  0.80851342 0.65723073 0.76386852 0.56547158 0.28709006 0.04270456\n",
      "  0.2181625  0.40953173 0.61380492 0.70250621 0.54829137 0.1872864\n",
      "  0.31435958 0.36427055 0.75944172 0.00995829 0.27447947 0.81809863\n",
      "  0.5888074  0.81259606 0.50910754 0.33801286 0.89737694 0.03218081\n",
      "  0.27361218 0.10462609 0.45430871 0.19419056 0.26838594 0.80424775\n",
      "  0.82188291 0.55527163 0.80208185 0.74577924 0.30145423 0.52975019\n",
      "  0.81377996 0.97286075 0.30496095 0.4754206  0.55401379 0.47096525\n",
      "  0.34528382 0.91904545 0.77579588 0.67385491 0.54559185 0.58680022\n",
      "  0.54471497 0.45587018 0.51885819 0.20975922 0.12953956 0.86942052\n",
      "  0.93127303 0.56414669 0.73070577 0.         0.65765676 0.92638824\n",
      "  0.86328371 0.72848905 0.7829472  0.78807766 0.37814229 0.17070209\n",
      "  0.87572887 0.34645742 0.72230673 0.87037632 0.70271012 0.97772455\n",
      "  0.98343445 0.31575428 0.69147199 0.76184988 0.73193112 0.35574343\n",
      "  0.70778633 0.325098   0.91477806 0.65837444 0.02770866 0.30703495\n",
      "  0.5931085  0.9476881  0.78970853 0.14117317 0.76877239 0.09810144\n",
      "  0.66388205 0.65017466 0.60574288 0.363029  ]\n",
      " [0.42336426 0.83025761 0.12128123 0.74815824 0.6173447  0.29897287\n",
      "  0.75069387 0.16340589 0.36457219 0.19249303 0.37799466 0.6165299\n",
      "  0.44061231 0.65930343 0.24585518 0.37331892 0.53190011 0.49396428\n",
      "  0.36728897 0.53534498 0.26538481 0.64853809 0.50079426 0.17211304\n",
      "  0.71822836 0.15813359 0.21243692 0.37306807 0.26305032 0.64385895\n",
      "  0.39165133 0.59138218 0.20356145 0.69015002 0.40986976 0.25786425\n",
      "  0.16597232 0.25366649 0.23182966 0.29469267 0.69537276 0.64729511\n",
      "  0.25908747 0.40289685 0.51403115 0.22702568 0.25480382 0.73895298\n",
      "  0.45756133 0.26840717 0.64096075 0.04589615 0.52569177 0.35552315\n",
      "  0.31119807 0.54944035 0.14617905 0.46257681 0.6660687  0.38762124\n",
      "  0.35710222 0.55710673 0.23984211 0.65765676 0.         0.35118131\n",
      "  0.31818611 0.32773149 0.13004048 0.41315365 0.39020119 0.55869762\n",
      "  0.47608474 0.34505143 0.08720423 0.7430893  0.63475743 0.38260199\n",
      "  0.35191236 0.34196159 0.27929383 0.30260136 0.5942734  0.64505852\n",
      "  0.06920138 0.6575563  0.62218644 0.09148688 0.65732781 0.61660612\n",
      "  0.1213123  0.78506142 0.13347237 0.59074787 0.41999975 0.59593948\n",
      "  0.15632521 0.52956371 0.56445395 0.52645044]\n",
      " [0.5383689  1.02449726 0.45149646 0.93099864 0.4093823  0.63079953\n",
      "  0.65776446 0.27109583 0.23765399 0.36103313 0.68160236 0.88369986\n",
      "  0.7276345  0.77173022 0.3202536  0.30724459 0.8824223  0.79578596\n",
      "  0.61203016 0.87877915 0.55289059 0.91880187 0.83003914 0.34264843\n",
      "  0.74529561 0.31001984 0.41770643 0.70291485 0.39169205 0.9213408\n",
      "  0.6550905  0.88506147 0.51224659 0.89500453 0.6580502  0.51126858\n",
      "  0.24763472 0.37741775 0.47715699 0.20378538 0.85792839 0.69775386\n",
      "  0.11277606 0.05190867 0.84937999 0.45208827 0.60510781 0.82925461\n",
      "  0.62842169 0.33874037 0.54081779 0.37643253 0.87625323 0.70175277\n",
      "  0.66139764 0.63988626 0.43316325 0.76298206 0.89365033 0.13954274\n",
      "  0.00592487 0.90730531 0.19848353 0.92638824 0.35118131 0.\n",
      "  0.06966435 0.63870324 0.25077935 0.26176582 0.56968482 0.78609454\n",
      "  0.2516015  0.5800755  0.36734836 0.60920767 0.58147636 0.05806223\n",
      "  0.13217192 0.63230316 0.25481056 0.1901183  0.51465635 0.78227224\n",
      "  0.36349512 0.80859242 0.41729522 0.2929296  0.91795321 0.77636179\n",
      "  0.34610617 0.61639142 0.30309165 0.82234772 0.2882493  0.88819609\n",
      "  0.26586399 0.49958782 0.56547221 0.86975648]\n",
      " [0.46898652 0.9557165  0.40696342 0.86202198 0.37025021 0.60990746\n",
      "  0.60152987 0.21354981 0.1722861  0.29951652 0.62578849 0.82065968\n",
      "  0.66848877 0.70210288 0.25320005 0.23957797 0.84899206 0.73840885\n",
      "  0.54923572 0.83303897 0.54411347 0.85591701 0.77879555 0.34400236\n",
      "  0.67833886 0.30977833 0.35643608 0.65300028 0.40682882 0.85933055\n",
      "  0.59370857 0.82560938 0.46081556 0.8270042  0.59495457 0.50896329\n",
      "  0.2477423  0.31106392 0.47507347 0.13412334 0.78857373 0.62937008\n",
      "  0.05982695 0.10986282 0.80009333 0.39131219 0.57259433 0.76005651\n",
      "  0.56019642 0.36011691 0.48362758 0.3499252  0.84274218 0.67347259\n",
      "  0.62894527 0.57029582 0.38132819 0.70565445 0.82699383 0.09463415\n",
      "  0.07291793 0.87450401 0.1327077  0.86328371 0.31818611 0.06966435\n",
      "  0.         0.62516477 0.2393655  0.20204021 0.50244763 0.72000023\n",
      "  0.2098201  0.51685601 0.35005958 0.55864256 0.5192708  0.12762699\n",
      "  0.18864012 0.57494843 0.18545765 0.12058889 0.45422406 0.71265969\n",
      "  0.34296653 0.73911115 0.3775852  0.24755914 0.85400549 0.70711106\n",
      "  0.29311287 0.57265514 0.29726595 0.75634563 0.22695078 0.82849668\n",
      "  0.20992431 0.43392171 0.49855822 0.82399039]\n",
      " [0.68755853 0.97153596 0.32718433 0.91017722 0.94506303 0.06918586\n",
      "  1.06241262 0.48993452 0.69228078 0.49452686 0.46137273 0.69725741\n",
      "  0.53248757 0.88882686 0.56299624 0.69817226 0.32437066 0.54134273\n",
      "  0.54392635 0.43993795 0.0929859  0.71854658 0.47478596 0.30618019\n",
      "  0.98979981 0.33398592 0.48683794 0.39144985 0.31167595 0.70291866\n",
      "  0.53636224 0.63143742 0.37538904 0.83764284 0.56819625 0.15292579\n",
      "  0.3934976  0.55397936 0.18059511 0.62200209 0.88243922 0.91378999\n",
      "  0.5705074  0.68630611 0.46213353 0.48070571 0.18145073 0.97430439\n",
      "  0.67813228 0.36861219 0.95817219 0.28504626 0.3200264  0.15656605\n",
      "  0.18433656 0.80639794 0.39176647 0.52220359 0.79166529 0.70599143\n",
      "  0.64437138 0.34016316 0.56660657 0.72848905 0.32773149 0.63870324\n",
      "  0.62516477 0.         0.3885311  0.74087313 0.62056974 0.70383056\n",
      "  0.80158975 0.54026859 0.2751857  1.06338694 0.94139804 0.65105072\n",
      "  0.58473178 0.46547074 0.60611878 0.62918871 0.90933564 0.85894364\n",
      "  0.28366089 0.85913143 0.94991791 0.41897122 0.7405569  0.8169657\n",
      "  0.42989733 1.1095374  0.33634137 0.72463264 0.74746475 0.63778924\n",
      "  0.48352426 0.83679292 0.85932267 0.43396173]\n",
      " [0.50066098 0.94099394 0.25081462 0.85510636 0.58835283 0.38062821\n",
      "  0.76921985 0.19092661 0.34456879 0.26552606 0.50669989 0.74128422\n",
      "  0.56738491 0.74448657 0.28617934 0.37828246 0.6409473  0.62304491\n",
      "  0.48336213 0.66099605 0.30510348 0.77403251 0.63033313 0.11240099\n",
      "  0.77747967 0.07897346 0.30542964 0.50284553 0.19566496 0.77048124\n",
      "  0.51302464 0.71994635 0.33095731 0.80199889 0.52790969 0.2703438\n",
      "  0.0409654  0.31782023 0.23674306 0.27294953 0.79606244 0.71230054\n",
      "  0.18970777 0.29973471 0.64256532 0.32949212 0.36577157 0.81904828\n",
      "  0.55486504 0.17352688 0.65326212 0.13651893 0.63492685 0.4559434\n",
      "  0.4209543  0.62432828 0.26477992 0.5913745  0.78309481 0.32668184\n",
      "  0.25653475 0.66488556 0.21929273 0.7829472  0.13004048 0.25077935\n",
      "  0.2393655  0.3885311  0.         0.3909694  0.48746474 0.67430555\n",
      "  0.43308554 0.45766862 0.11720697 0.74641528 0.66364799 0.26970359\n",
      "  0.22527204 0.4682246  0.28267114 0.27398182 0.61201294 0.73744383\n",
      "  0.11583793 0.75427556 0.59457177 0.14052446 0.78118035 0.71501149\n",
      "  0.20565048 0.77635592 0.05972762 0.70781737 0.40595931 0.7243559\n",
      "  0.1804823  0.56183374 0.6094897  0.65220971]\n",
      " [0.34398988 0.82589986 0.4533509  0.73064072 0.20419113 0.70900157\n",
      "  0.3997448  0.25317907 0.04861752 0.28754731 0.60356515 0.74722685\n",
      "  0.62585753 0.5458661  0.20990216 0.0855732  0.90327908 0.70204212\n",
      "  0.49141762 0.8450695  0.67365898 0.78242568 0.77020119 0.5033643\n",
      "  0.49160323 0.4696161  0.33307817 0.65637091 0.58124482 0.79149677\n",
      "  0.54211288 0.77435164 0.4733422  0.71039267 0.53169874 0.65254331\n",
      "  0.41428179 0.25708421 0.6207254  0.12043806 0.65082682 0.45262496\n",
      "  0.21545801 0.27716627 0.79905014 0.36495833 0.64240483 0.59110513\n",
      "  0.45109963 0.54332655 0.28168651 0.45637786 0.89698075 0.74993314\n",
      "  0.69555943 0.41553914 0.402816   0.67109977 0.72468063 0.12756368\n",
      "  0.26229675 0.92994745 0.17653471 0.78807766 0.41315365 0.26176582\n",
      "  0.20204021 0.74087313 0.3909694  0.         0.40993617 0.62644579\n",
      "  0.08838034 0.45871352 0.47667805 0.36149666 0.31990363 0.31626831\n",
      "  0.39002187 0.54823049 0.14003435 0.11708876 0.252979   0.56741311\n",
      "  0.46370036 0.59884487 0.20911926 0.3221919  0.77313515 0.57398155\n",
      "  0.32725943 0.38564372 0.45000842 0.66225788 0.02803622 0.77571848\n",
      "  0.25839335 0.24403045 0.31360004 0.83625145]\n",
      " [0.0961092  0.46047804 0.30785974 0.37055145 0.54931617 0.55955023\n",
      "  0.51113275 0.31725584 0.38689101 0.22618601 0.25073636 0.33743101\n",
      "  0.24049113 0.27368738 0.24943978 0.32436415 0.62727061 0.31606336\n",
      "  0.11116014 0.50703191 0.6028392  0.3725495  0.41123267 0.5614712\n",
      "  0.37533859 0.54294754 0.18222077 0.33383872 0.65316252 0.38230555\n",
      "  0.1582844  0.37216929 0.24521054 0.32644085 0.13482129 0.62163476\n",
      "  0.52836172 0.19283182 0.60427908 0.37600714 0.30859785 0.29822971\n",
      "  0.46041205 0.61190102 0.44728155 0.16318726 0.4507334  0.35724808\n",
      "  0.0676678  0.65314529 0.4425187  0.42609894 0.62168157 0.54271994\n",
      "  0.48166    0.18903192 0.25128719 0.29009351 0.32493384 0.49608798\n",
      "  0.57392705 0.65278002 0.37128748 0.37814229 0.39020119 0.56968482\n",
      "  0.50244763 0.62056974 0.48746474 0.40993617 0.         0.21997776\n",
      "  0.49763578 0.09208621 0.47526972 0.54894909 0.38811676 0.62493925\n",
      "  0.64920776 0.20310726 0.32126797 0.3919253  0.39255654 0.25503242\n",
      "  0.45738894 0.26792481 0.54868936 0.34722205 0.36355399 0.22781118\n",
      "  0.28215297 0.61894969 0.51675666 0.25638554 0.390856   0.37260112\n",
      "  0.32636313 0.30536702 0.2877381  0.49949528]\n",
      " [0.28700154 0.27516856 0.44943509 0.20634707 0.74693822 0.63555806\n",
      "  0.6427689  0.52441422 0.6059782  0.43099331 0.24445376 0.13694662\n",
      "  0.17862247 0.26264141 0.46693952 0.54113012 0.60087025 0.21352891\n",
      "  0.19154122 0.43492619 0.71392719 0.16785379 0.3303615  0.72855685\n",
      "  0.43506297 0.71682909 0.37794051 0.32762035 0.81522373 0.18497864\n",
      "  0.17393376 0.20832501 0.36639169 0.13584271 0.14956682 0.74834033\n",
      "  0.71487842 0.40894462 0.73920783 0.59559301 0.19166013 0.36961539\n",
      "  0.67510752 0.82978231 0.36866816 0.34806271 0.52238313 0.33782087\n",
      "  0.17720636 0.82694701 0.60564914 0.58430582 0.596673   0.5843883\n",
      "  0.53082142 0.28742381 0.41278831 0.21021331 0.10939604 0.71605607\n",
      "  0.79056869 0.62203587 0.58777532 0.17070209 0.55869762 0.78609454\n",
      "  0.72000023 0.70383056 0.67430555 0.62644579 0.21997776 0.\n",
      "  0.71306216 0.21687084 0.63471255 0.70168062 0.53381231 0.8401583\n",
      "  0.85700947 0.24121964 0.54083291 0.61156389 0.56137021 0.21143699\n",
      "  0.61821288 0.1905496  0.74500892 0.53954888 0.15048508 0.15875909\n",
      "  0.47238234 0.77844381 0.69190724 0.0364444  0.60565259 0.20538296\n",
      "  0.53242714 0.47948077 0.43581558 0.43032097]\n",
      " [0.42871071 0.9052871  0.52925964 0.81014587 0.16043491 0.7748293\n",
      "  0.41519453 0.32360637 0.12491315 0.36987994 0.69063247 0.83504507\n",
      "  0.71403412 0.61879992 0.29388844 0.17351794 0.98132116 0.79011462\n",
      "  0.57976016 0.92965297 0.72882672 0.87018525 0.85670543 0.54368836\n",
      "  0.54595622 0.50928406 0.4180287  0.74124694 0.61352545 0.8795184\n",
      "  0.63040537 0.86273169 0.55558975 0.79332199 0.62007284 0.70173827\n",
      "  0.44966456 0.34376961 0.66874342 0.18371315 0.72913999 0.51604518\n",
      "  0.24487175 0.24991075 0.88493501 0.45072513 0.71550011 0.65726946\n",
      "  0.53695446 0.56912682 0.30257145 0.51680774 0.9750074  0.82223389\n",
      "  0.76983148 0.49107562 0.48253964 0.75905435 0.80987359 0.11563284\n",
      "  0.25011322 1.00786047 0.23651055 0.87572887 0.47608474 0.2516015\n",
      "  0.2098201  0.80158975 0.43308554 0.08838034 0.49763578 0.71306216\n",
      "  0.         0.54702387 0.53063497 0.35946036 0.35897066 0.29732688\n",
      "  0.38368646 0.63540469 0.2185059  0.17387893 0.28775262 0.64417609\n",
      "  0.51952835 0.67686173 0.16782939 0.38768886 0.86043195 0.65420599\n",
      "  0.40258905 0.36506108 0.49279548 0.7486843  0.10744578 0.86409403\n",
      "  0.32701805 0.30281006 0.37426318 0.92077934]\n",
      " [0.18481355 0.48532025 0.24431982 0.40366183 0.61763324 0.47688405\n",
      "  0.60110595 0.31228576 0.42793769 0.2195782  0.16278437 0.30381312\n",
      "  0.16786891 0.34857415 0.26926418 0.37493201 0.53532987 0.24467179\n",
      "  0.03317224 0.42004818 0.53079623 0.33906165 0.32824189 0.51658673\n",
      "  0.46520783 0.50273866 0.16401716 0.24266981 0.60553536 0.34306886\n",
      "  0.08343125 0.31683288 0.16934277 0.34540302 0.07810019 0.55578082\n",
      "  0.49834266 0.21124868 0.54187901 0.40197556 0.35615038 0.38810988\n",
      "  0.46759302 0.62640393 0.36269417 0.13212479 0.36571544 0.43414752\n",
      "  0.1385659  0.61331796 0.5274283  0.37438033 0.5297158  0.45378278\n",
      "  0.39314757 0.27897385 0.19900768 0.21506438 0.32606062 0.52703385\n",
      "  0.58491789 0.56091765 0.38434946 0.34645742 0.34505143 0.5800755\n",
      "  0.51685601 0.54026859 0.45766862 0.45871352 0.09208621 0.21687084\n",
      "  0.54702387 0.         0.42482212 0.63519305 0.47725229 0.6319746\n",
      "  0.64278712 0.11211813 0.34850324 0.4179887  0.47664811 0.32023818\n",
      "  0.40764946 0.32461756 0.61791133 0.32281825 0.33805414 0.28232409\n",
      "  0.25570173 0.70300237 0.47737255 0.2511245  0.44364274 0.31866416\n",
      "  0.31954145 0.38965594 0.37786328 0.41220172]\n",
      " [0.51054979 0.90835373 0.18612985 0.82846127 0.67959445 0.26353538\n",
      "  0.83050511 0.23820648 0.42832312 0.27894408 0.43701019 0.68232859\n",
      "  0.50414492 0.74567944 0.32730758 0.44668794 0.5264638  0.54998785\n",
      "  0.4445933  0.55964663 0.19819582 0.71287876 0.54049788 0.09579191\n",
      "  0.80503485 0.09576759 0.29929451 0.41640667 0.18081298 0.70601167\n",
      "  0.46395701 0.6486264  0.27080393 0.76804151 0.48516316 0.17807348\n",
      "  0.13459541 0.33968694 0.14892361 0.35626667 0.77830344 0.73437565\n",
      "  0.2954579  0.41677207 0.54811907 0.31223805 0.25458005 0.82576132\n",
      "  0.54229073 0.1968096  0.71866453 0.05050255 0.52053297 0.33990026\n",
      "  0.30824923 0.63662163 0.22667945 0.5201147  0.74040284 0.43151224\n",
      "  0.37315429 0.54989876 0.30015882 0.72230673 0.08720423 0.36734836\n",
      "  0.35005958 0.2751857  0.11720697 0.47667805 0.47526972 0.63471255\n",
      "  0.53063497 0.42482212 0.         0.81840746 0.71675218 0.38661519\n",
      "  0.33551089 0.40796279 0.35037145 0.36134316 0.67331519 0.73030134\n",
      "  0.01805167 0.74176414 0.68507902 0.16693014 0.72427561 0.70046488\n",
      "  0.20794317 0.85634548 0.08037691 0.66543509 0.48696901 0.65366021\n",
      "  0.2294998  0.61189976 0.64934815 0.55111416]\n",
      " [0.45284245 0.78613625 0.74507673 0.70167259 0.21983516 1.01992038\n",
      "  0.08955644 0.58088805 0.40401503 0.57060012 0.7978529  0.83862724\n",
      "  0.78763252 0.48976428 0.50046936 0.37183224 1.15987796 0.86103954\n",
      "  0.65947269 1.0550685  1.00842901 0.86864412 0.96016887 0.85822362\n",
      "  0.33113481 0.82537107 0.59032134 0.87544789 0.93995091 0.88665386\n",
      "  0.70714796 0.90006885 0.73113579 0.72050743 0.68141107 0.99647954\n",
      "  0.77298155 0.51429572 0.96664217 0.47397092 0.62089008 0.35651983\n",
      "  0.57695279 0.6091946  0.99616584 0.60893083 0.9327969  0.47877594\n",
      "  0.54440487 0.90423628 0.109187   0.78879578 1.15389626 1.03867421\n",
      "  0.9788019  0.4145428  0.68280501 0.83736641 0.76356208 0.46998215\n",
      "  0.60822071 1.18632219 0.52717615 0.87037632 0.7430893  0.60920767\n",
      "  0.55864256 1.06338694 0.74641528 0.36149666 0.54894909 0.70168062\n",
      "  0.35946036 0.63519305 0.81840746 0.         0.1678857  0.6567261\n",
      "  0.74125255 0.74658656 0.46854941 0.47490859 0.16061297 0.53763325\n",
      "  0.8032317  0.57436967 0.21129512 0.65315421 0.84699864 0.5746169\n",
      "  0.63349365 0.07925644 0.80390661 0.72920315 0.34219043 0.89875526\n",
      "  0.58915148 0.24605873 0.2678352  1.04730945]\n",
      " [0.29261645 0.63230786 0.61578901 0.54405343 0.28233116 0.89205098\n",
      "  0.12493974 0.48072427 0.347787   0.44838347 0.63872129 0.67075798\n",
      "  0.62392097 0.33154099 0.38948676 0.29057767 1.00904503 0.69617291\n",
      "  0.49926957 0.89509949 0.89608014 0.70088346 0.7980332  0.77121177\n",
      "  0.19933716 0.74075821 0.45643582 0.71960797 0.85917924 0.71878947\n",
      "  0.54527343 0.73265244 0.58962671 0.55705649 0.51804242 0.89254265\n",
      "  0.69602804 0.38777917 0.86537314 0.40556997 0.46167007 0.20041932\n",
      "  0.52010112 0.59576674 0.83470935 0.46924338 0.79714558 0.33607116\n",
      "  0.37825057 0.83229171 0.08376218 0.68046735 1.00321638 0.9002686\n",
      "  0.83933405 0.24684314 0.55154653 0.67354194 0.59765667 0.44633233\n",
      "  0.58213863 1.03514909 0.45016949 0.70271012 0.63475743 0.58147636\n",
      "  0.5192708  0.94139804 0.66364799 0.31990363 0.38811676 0.53381231\n",
      "  0.35897066 0.47725229 0.71675218 0.1678857  0.         0.63614677\n",
      "  0.7079021  0.58935238 0.38192372 0.41199163 0.07153902 0.37613014\n",
      "  0.70010078 0.41302638 0.2761475  0.55007307 0.6795318  0.40984741\n",
      "  0.51703749 0.24507024 0.71681904 0.56154764 0.29323423 0.73124441\n",
      "  0.49033994 0.10530145 0.10148509 0.88759835]\n",
      " [0.59573349 1.08107037 0.48988609 0.98780651 0.45088827 0.64916202\n",
      "  0.70873688 0.32066247 0.29460005 0.41242104 0.72733614 0.93502005\n",
      "  0.77593315 0.82972968 0.37576994 0.36488101 0.90949465 0.84250627\n",
      "  0.66352149 0.91584671 0.5622233  0.96995556 0.87169698 0.34770259\n",
      "  0.80241622 0.3175011  0.46861759 0.74389398 0.38368188 0.97174231\n",
      "  0.70535179 0.93334735 0.55530906 0.95079204 0.70970352 0.51582292\n",
      "  0.25773219 0.43225364 0.4820413  0.26172819 0.91520881 0.75553224\n",
      "  0.1650542  0.05178048 0.88940237 0.50247871 0.63292147 0.88728993\n",
      "  0.68453574 0.32663723 0.59266287 0.4025243  0.90341396 0.72553346\n",
      "  0.68876447 0.69791434 0.47709222 0.80972945 0.9481592  0.19078614\n",
      "  0.0556475  0.93377699 0.25378671 0.97772455 0.38260199 0.05806223\n",
      "  0.12762699 0.65105072 0.26970359 0.31626831 0.62493925 0.8401583\n",
      "  0.29732688 0.6319746  0.38661519 0.6567261  0.63614677 0.\n",
      "  0.09475213 0.67940573 0.31226845 0.24816085 0.56844783 0.83997039\n",
      "  0.38534534 0.86605715 0.45908235 0.33423658 0.97002813 0.83351813\n",
      "  0.3917136  0.65939304 0.31534155 0.87630389 0.34328622 0.93668444\n",
      "  0.31449917 0.55619376 0.62263585 0.90687027]\n",
      " [0.63337209 1.10949909 0.46888361 1.01824487 0.54063919 0.59081706\n",
      "  0.78839801 0.33303868 0.36055959 0.42626497 0.71885292 0.94094456\n",
      "  0.77383659 0.87423474 0.4062617  0.42530408 0.86178875 0.8354355\n",
      "  0.67252772 0.88602663 0.49331057 0.97509915 0.85197891 0.27858703\n",
      "  0.86360379 0.25287137 0.47931784 0.72391169 0.29967821 0.97441975\n",
      "  0.70986874 0.92989457 0.54300013 0.97511872 0.71869809 0.44207063\n",
      "  0.20094116 0.45807721 0.40920164 0.31311333 0.94971907 0.811271\n",
      "  0.19974086 0.14633564 0.86592836 0.51073741 0.58926637 0.93747163\n",
      "  0.71261437 0.24030118 0.67093655 0.36166152 0.85589309 0.67424035\n",
      "  0.64359805 0.7441308  0.46872532 0.80302813 0.96623099 0.27132187\n",
      "  0.13359309 0.88494662 0.28893228 0.98343445 0.35191236 0.13217192\n",
      "  0.18864012 0.58473178 0.22527204 0.39002187 0.64920776 0.85700947\n",
      "  0.38368646 0.64278712 0.33551089 0.74125255 0.7079021  0.09475213\n",
      "  0.         0.67512136 0.35634996 0.30247577 0.64269737 0.87918484\n",
      "  0.33829433 0.90254507 0.5486557  0.32576014 0.97834445 0.86742444\n",
      "  0.39032673 0.74821059 0.25740278 0.89244446 0.4154287  0.93379065\n",
      "  0.32469881 0.62124979 0.68427435 0.87721057]\n",
      " [0.29692444 0.5149445  0.22296271 0.44666479 0.71916794 0.39822501\n",
      "  0.71321861 0.36179166 0.51230399 0.27833332 0.05546314 0.27493565\n",
      "  0.09925178 0.4374649  0.34494652 0.46776913 0.42475014 0.16354117\n",
      "  0.09483023 0.30988537 0.47271282 0.30659301 0.22346297 0.50363856\n",
      "  0.56995081 0.49706354 0.22283525 0.13074028 0.58554192 0.30226583\n",
      "  0.07113506 0.25490583 0.1385594  0.37688494 0.10429105 0.50816947\n",
      "  0.50668529 0.2917281  0.50060064 0.47488451 0.41724093 0.49330545\n",
      "  0.52020162 0.68171535 0.25539586 0.18796106 0.28454617 0.52308455\n",
      "  0.23781769 0.60429065 0.63845525 0.35885929 0.41925573 0.35914939\n",
      "  0.30094713 0.38516911 0.20652225 0.13075109 0.33898634 0.60034551\n",
      "  0.63763564 0.45003858 0.44651578 0.31575428 0.34196159 0.63230316\n",
      "  0.57494843 0.46547074 0.4682246  0.54823049 0.20310726 0.24121964\n",
      "  0.63540469 0.11211813 0.40796279 0.74658656 0.58935238 0.67940573\n",
      "  0.67512136 0.         0.42491957 0.49034144 0.58745539 0.40075516\n",
      "  0.39292422 0.39668991 0.72005005 0.34964474 0.31644317 0.35513776\n",
      "  0.28789439 0.81347278 0.4739987  0.26644972 0.53640346 0.25869584\n",
      "  0.36649692 0.50072169 0.48994657 0.30179644]\n",
      " [0.28356102 0.77059666 0.31336452 0.67671112 0.34174499 0.57129609\n",
      "  0.48677019 0.1161857  0.09426433 0.15200317 0.47931351 0.64928027\n",
      "  0.51040205 0.51928716 0.08024628 0.09685623 0.76401478 0.58458034\n",
      "  0.38164833 0.71241852 0.54361939 0.68475086 0.64286596 0.39244182\n",
      "  0.51306482 0.36077361 0.20310946 0.52457947 0.47831299 0.69057106\n",
      "  0.42989405 0.6644465  0.33724651 0.64318027 0.42560972 0.52836593\n",
      "  0.31413858 0.13727078 0.49818878 0.05476024 0.6031351  0.45652868\n",
      "  0.15661055 0.29287086 0.66960992 0.23728904 0.50243627 0.58112667\n",
      "  0.37625953 0.45039713 0.37161775 0.32405841 0.75770881 0.6100257\n",
      "  0.55552518 0.38832074 0.26421907 0.55255089 0.64609754 0.17853537\n",
      "  0.25833065 0.79063848 0.07084773 0.69147199 0.27929383 0.25481056\n",
      "  0.18545765 0.60611878 0.28267114 0.14003435 0.32126797 0.54083291\n",
      "  0.2185059  0.34850324 0.35037145 0.46854941 0.38192372 0.31226845\n",
      "  0.35634996 0.42491957 0.         0.07074877 0.32940611 0.52782478\n",
      "  0.33570461 0.55380575 0.34590217 0.1878548  0.67995352 0.5216548\n",
      "  0.18723707 0.50650152 0.33785936 0.57727728 0.1420002  0.66658552\n",
      "  0.12298413 0.28234234 0.33687196 0.70349741]\n",
      " [0.35085784 0.83918246 0.35883076 0.74493885 0.31827999 0.60108401\n",
      "  0.50552664 0.15145007 0.07099297 0.21308779 0.54402226 0.71958983\n",
      "  0.57812896 0.58165492 0.14874052 0.12347347 0.81124154 0.65149114\n",
      "  0.45106935 0.77064914 0.55909684 0.75505191 0.70528216 0.38638243\n",
      "  0.56112819 0.35273447 0.26751687 0.58431758 0.4654013  0.760559\n",
      "  0.49867643 0.73309552 0.3937885  0.71294999 0.49542851 0.53617443\n",
      "  0.29833591 0.20689677 0.50411141 0.0160712  0.6701949  0.50992785\n",
      "  0.10812504 0.2245053  0.73057546 0.30241334 0.54267332 0.63959859\n",
      "  0.44615263 0.42966854 0.38756834 0.34414438 0.80492449 0.64899038\n",
      "  0.59746428 0.44977295 0.31713757 0.61921058 0.71667068 0.11006385\n",
      "  0.19301163 0.83762027 0.06276264 0.76184988 0.30260136 0.1901183\n",
      "  0.12058889 0.62918871 0.27398182 0.11708876 0.3919253  0.61156389\n",
      "  0.17387893 0.4179887  0.36134316 0.47490859 0.41199163 0.24816085\n",
      "  0.30247577 0.49034144 0.07074877 0.         0.35166051 0.59308942\n",
      "  0.34905983 0.62022608 0.32386453 0.21381013 0.75054179 0.58919982\n",
      "  0.23293629 0.5023983  0.33293353 0.64800802 0.13281325 0.73538383\n",
      "  0.15393642 0.32014257 0.38187284 0.76165834]\n",
      " [0.29691137 0.68452489 0.58774686 0.59362409 0.21690061 0.86360211\n",
      "  0.15758211 0.43526203 0.28465147 0.41493399 0.63943199 0.69745944\n",
      "  0.63270019 0.3832184  0.34878904 0.23422737 0.99928634 0.70735292\n",
      "  0.50205178 0.89668572 0.85849921 0.72921763 0.80332022 0.72167834\n",
      "  0.26756749 0.69017481 0.43127586 0.71568757 0.80758373 0.74541268\n",
      "  0.55074381 0.75252826 0.57097283 0.59927913 0.52652801 0.85072372\n",
      "  0.64244208 0.35685172 0.82223034 0.34681766 0.5103968  0.25766621\n",
      "  0.45918943 0.52690744 0.83875619 0.44884592 0.77402761 0.39791513\n",
      "  0.39499562 0.77755269 0.05143726 0.64016939 0.99329999 0.87936775\n",
      "  0.81922472 0.28126908 0.52471981 0.68240577 0.6345783  0.37796617\n",
      "  0.51504698 1.02574173 0.39484094 0.73193112 0.5942734  0.51465635\n",
      "  0.45422406 0.90933564 0.61201294 0.252979   0.39255654 0.56137021\n",
      "  0.28775262 0.47664811 0.67331519 0.16061297 0.07153902 0.56844783\n",
      "  0.64269737 0.58745539 0.32940611 0.35166051 0.         0.4232742\n",
      "  0.65730051 0.45983617 0.21149032 0.50651183 0.71024677 0.45120124\n",
      "  0.48043839 0.22651448 0.66709775 0.59166786 0.22728168 0.75172144\n",
      "  0.44431732 0.0872165  0.12972459 0.88880308]\n",
      " [0.24581695 0.26392624 0.55982016 0.17080886 0.63342298 0.79404285\n",
      "  0.46566726 0.55699057 0.56328303 0.47220254 0.42513218 0.33447199\n",
      "  0.3729809  0.05379311 0.47340906 0.49029188 0.80183643 0.42182308\n",
      "  0.31517175 0.64340311 0.8508021  0.35687546 0.53849335 0.81588499\n",
      "  0.23366062 0.79636209 0.43490847 0.51469484 0.90785146 0.37938504\n",
      "  0.33088466 0.41702461 0.48933694 0.1837098  0.29679346 0.87361692\n",
      "  0.77800484 0.42578075 0.85765806 0.57874641 0.08747786 0.18230315\n",
      "  0.68168797 0.81714323 0.57717168 0.41814594 0.68119424 0.12773765\n",
      "  0.18840943 0.90599245 0.4575204  0.68109099 0.79720614 0.75985965\n",
      "  0.70158041 0.15329554 0.50571421 0.41334634 0.23386043 0.68108076\n",
      "  0.78554966 0.82439183 0.59106742 0.35574343 0.64505852 0.78227224\n",
      "  0.71265969 0.85894364 0.73744383 0.56741311 0.25503242 0.21143699\n",
      "  0.64417609 0.32023818 0.73030134 0.53763325 0.37613014 0.83997039\n",
      "  0.87918484 0.40075516 0.52782478 0.59308942 0.4232742  0.\n",
      "  0.71241556 0.03689677 0.62940464 0.59700191 0.32918285 0.05270668\n",
      "  0.53411894 0.61681155 0.77006528 0.22352894 0.54145411 0.41338234\n",
      "  0.56694941 0.35797525 0.29460986 0.6382655 ]\n",
      " [0.49251848 0.8915727  0.17043657 0.81131108 0.66708189 0.26781223\n",
      "  0.8143576  0.22255407 0.41522297 0.26118584 0.4231935  0.66758437\n",
      "  0.48965008 0.72766579 0.31061402 0.43171602 0.52522705 0.53685992\n",
      "  0.42779974 0.55247069 0.21006534 0.69840801 0.53034072 0.11090304\n",
      "  0.78720666 0.10674417 0.28124372 0.40531152 0.19788736 0.6919254\n",
      "  0.44796191 0.63537868 0.25524531 0.75127092 0.4687079  0.19351096\n",
      "  0.13833373 0.32204539 0.1652813  0.34342613 0.76074261 0.71644733\n",
      "  0.2871804  0.41358891 0.53903541 0.2943164  0.25099094 0.80771525\n",
      "  0.52445846 0.21137077 0.70295017 0.03413721 0.51922482 0.34018993\n",
      "  0.30565592 0.6185881  0.20922219 0.50668108 0.72421563 0.4223308\n",
      "  0.36935096 0.54908293 0.28736278 0.70778633 0.06920138 0.36349512\n",
      "  0.34296653 0.28366089 0.11583793 0.46370036 0.45738894 0.61821288\n",
      "  0.51952835 0.40764946 0.01805167 0.8032317  0.70010078 0.38534534\n",
      "  0.33829433 0.39292422 0.33570461 0.34905983 0.65730051 0.71241556\n",
      "  0.         0.7240168  0.67243839 0.15079079 0.70935187 0.68276338\n",
      "  0.19012237 0.842039   0.08799973 0.64916461 0.47331913 0.64033086\n",
      "  0.21409136 0.59515228 0.63202079 0.54385164]\n",
      " [0.27039663 0.22922416 0.56741159 0.1351184  0.66928364 0.7932246\n",
      "  0.5018616  0.57710091 0.59299703 0.49009401 0.41655446 0.3063726\n",
      "  0.36010046 0.08744081 0.49628876 0.52038771 0.78807838 0.40365509\n",
      "  0.31580741 0.62529366 0.85498232 0.32683693 0.52057218 0.82918405\n",
      "  0.26709254 0.81087074 0.44981733 0.50510972 0.92060656 0.35002587\n",
      "  0.32582762 0.39170289 0.4938358  0.14779455 0.29243833 0.88023339\n",
      "  0.79504512 0.44655671 0.86554334 0.6055914  0.05237195 0.21865049\n",
      "  0.70623932 0.84464028 0.55901086 0.43066551 0.67983008 0.14874197\n",
      "  0.20027272 0.92102381 0.49436866 0.69205281 0.78363819 0.75461947\n",
      "  0.69738432 0.18718838 0.51578107 0.3977447  0.20054217 0.71056322\n",
      "  0.81202774 0.81000322 0.61547146 0.325098   0.6575563  0.80859242\n",
      "  0.73911115 0.85913143 0.75427556 0.59884487 0.26792481 0.1905496\n",
      "  0.67686173 0.32461756 0.74176414 0.57436967 0.41302638 0.86605715\n",
      "  0.90254507 0.39668991 0.55380575 0.62022608 0.45983617 0.03689677\n",
      "  0.7240168  0.         0.66536498 0.61376611 0.29809972 0.04236541\n",
      "  0.54961893 0.65356647 0.78467304 0.19776395 0.57325373 0.38770448\n",
      "  0.58687003 0.3934803  0.33093186 0.62054295]\n",
      " [0.46142382 0.89258117 0.65602747 0.80021193 0.00860712 0.91705401\n",
      "  0.28541287 0.46120296 0.25773676 0.48382329 0.77515153 0.87720318\n",
      "  0.78436005 0.59233282 0.40550137 0.26371879 1.10052442 0.86120121\n",
      "  0.64821736 1.02667213 0.8824837  0.91083145 0.94327484 0.70639263\n",
      "  0.47544012 0.67217121 0.52133723 0.83866441 0.77928184 0.92426316\n",
      "  0.69948191 0.92059009 0.66596212 0.79950665 0.68179033 0.85989281\n",
      "  0.61399536 0.4414011  0.82761506 0.32902881 0.71688044 0.46904046\n",
      "  0.40955789 0.40919682 0.97529985 0.54920365 0.8465427  0.60934224\n",
      "  0.5697587  0.73621439 0.19682409 0.66549712 1.09427551 0.95434224\n",
      "  0.89840535 0.48093662 0.60126059 0.83264879 0.82871609 0.28344589\n",
      "  0.41531367 1.12729334 0.38507563 0.91477806 0.62218644 0.41729522\n",
      "  0.3775852  0.94991791 0.59457177 0.20911926 0.54868936 0.74500892\n",
      "  0.16782939 0.61791133 0.68507902 0.21129512 0.2761475  0.45908235\n",
      "  0.5486557  0.72005005 0.34590217 0.32386453 0.21149032 0.62940464\n",
      "  0.67243839 0.66536498 0.         0.53106648 0.89549366 0.65242938\n",
      "  0.53177721 0.20049771 0.65418776 0.77806677 0.20402189 0.92079417\n",
      "  0.46690161 0.27277288 0.33535052 1.0181356 ]\n",
      " [0.36203093 0.80288025 0.15956506 0.71589782 0.52633414 0.3876334\n",
      "  0.66361246 0.07236253 0.27368798 0.12568748 0.39494607 0.61602405\n",
      "  0.44814632 0.60487641 0.16098674 0.28241921 0.60493764 0.51109821\n",
      "  0.35061878 0.58655924 0.35609347 0.64990388 0.53772037 0.2290179\n",
      "  0.64647817 0.20380125 0.1656305  0.41021952 0.32127557 0.64877885\n",
      "  0.38517863 0.60454336 0.22118958 0.66463924 0.39627491 0.34426458\n",
      "  0.18128521 0.18132017 0.31583465 0.2048292  0.65578605 0.57858321\n",
      "  0.1879078  0.3444776  0.55648216 0.19190499 0.33157851 0.68061678\n",
      "  0.41450559 0.31062193 0.55224707 0.13629982 0.59864493 0.43659273\n",
      "  0.38726974 0.48683772 0.14394237 0.47849107 0.64884226 0.30581563\n",
      "  0.29866332 0.63088159 0.15131345 0.65837444 0.09148688 0.2929296\n",
      "  0.24755914 0.41897122 0.14052446 0.3221919  0.34722205 0.53954888\n",
      "  0.38768886 0.32281825 0.16693014 0.65315421 0.55007307 0.33423658\n",
      "  0.32576014 0.34964474 0.1878548  0.21381013 0.50651183 0.59700191\n",
      "  0.15079079 0.61376611 0.53106648 0.         0.65419959 0.57459324\n",
      "  0.06718361 0.69394603 0.17764791 0.57393945 0.32856319 0.60833139\n",
      "  0.06487086 0.44542062 0.48525487 0.57752037]\n",
      " [0.43678867 0.25429591 0.53934836 0.23759447 0.89741834 0.67145886\n",
      "  0.78405161 0.65006153 0.75023941 0.55761844 0.29221724 0.0435831\n",
      "  0.22128185 0.3829742  0.60313965 0.68758932 0.56964036 0.19971962\n",
      "  0.30674338 0.38663723 0.76849419 0.03271695 0.29398097 0.82000639\n",
      "  0.56251887 0.8133541  0.50172145 0.34918904 0.90078925 0.05805083\n",
      "  0.2690859  0.12580741 0.45471318 0.16653395 0.26047139 0.81180763\n",
      "  0.82053242 0.54457668 0.80851124 0.73447576 0.2738155  0.5043771\n",
      "  0.8055857  0.96376451 0.32591756 0.46863768 0.5642466  0.4435559\n",
      "  0.32702948 0.92072231 0.7534907  0.67529787 0.56676016 0.60141142\n",
      "  0.55748224 0.43275055 0.51651043 0.21903099 0.1018309  0.85733639\n",
      "  0.92274035 0.58614509 0.72130609 0.02770866 0.65732781 0.91795321\n",
      "  0.85400549 0.7405569  0.78118035 0.77313515 0.36355399 0.15048508\n",
      "  0.86043195 0.33805414 0.72427561 0.84699864 0.6795318  0.97002813\n",
      "  0.97834445 0.31644317 0.67995352 0.75054179 0.71024677 0.32918285\n",
      "  0.70935187 0.29809972 0.89549366 0.65419959 0.         0.28104932\n",
      "  0.58829688 0.92459322 0.79002859 0.11857919 0.75322829 0.11951567\n",
      "  0.65703716 0.62931192 0.5833292  0.38499923]\n",
      " [0.23834535 0.25209686 0.52536383 0.15690262 0.65587395 0.75118207\n",
      "  0.50646061 0.53992391 0.56539025 0.45170768 0.37647392 0.28378538\n",
      "  0.32208172 0.10461342 0.46136409 0.49357043 0.75079151 0.36938033\n",
      "  0.27349279 0.59103591 0.81262111 0.30758513 0.48613726 0.7884144\n",
      "  0.28196453 0.77055063 0.410006   0.46552313 0.87962699 0.32945905\n",
      "  0.28445908 0.36492509 0.45150407 0.1480825  0.25084691 0.83800919\n",
      "  0.75585673 0.41013577 0.82347196 0.57426306 0.08231904 0.22422344\n",
      "  0.67237713 0.81368808 0.52478032 0.38994323 0.63785253 0.17999158\n",
      "  0.16020764 0.88086398 0.48896144 0.65064023 0.74623563 0.71353533\n",
      "  0.65599971 0.17151226 0.47424257 0.36150512 0.18977178 0.68237119\n",
      "  0.77996275 0.77311201 0.58162056 0.30703495 0.61660612 0.77636179\n",
      "  0.70711106 0.8169657  0.71501149 0.57398155 0.22781118 0.15875909\n",
      "  0.65420599 0.28232409 0.70046488 0.5746169  0.40984741 0.83351813\n",
      "  0.86742444 0.35513776 0.5216548  0.58919982 0.45120124 0.05270668\n",
      "  0.68276338 0.04236541 0.65242938 0.57459324 0.28104932 0.\n",
      "  0.50991971 0.65341196 0.74440499 0.17201966 0.54912668 0.36140182\n",
      "  0.54955174 0.37965664 0.32147833 0.58597489]\n",
      " [0.30458307 0.73606494 0.12667988 0.64956312 0.52799356 0.38885294\n",
      "  0.63527948 0.08304342 0.28069824 0.07119152 0.33577231 0.55062984\n",
      "  0.38531729 0.54446638 0.13315886 0.27163196 0.57891254 0.45080203\n",
      "  0.28379853 0.54242198 0.37910603 0.58477764 0.48569205 0.28406888\n",
      "  0.59709271 0.26255105 0.09993615 0.36009797 0.37675788 0.58438599\n",
      "  0.319567   0.54243452 0.16773934 0.59762525 0.32961566 0.37768366\n",
      "  0.2466112  0.13254708 0.3527431  0.22042648 0.59067017 0.52663642\n",
      "  0.23561719 0.39652961 0.50725981 0.12477417 0.31524417 0.62217787\n",
      "  0.34971213 0.3718747  0.52868038 0.16558261 0.57259624 0.42290943\n",
      "  0.36833722 0.43050154 0.08828331 0.41803275 0.58169038 0.33643039\n",
      "  0.35160155 0.60539798 0.17580243 0.5931085  0.1213123  0.34610617\n",
      "  0.29311287 0.42989733 0.20565048 0.32725943 0.28215297 0.47238234\n",
      "  0.40258905 0.25570173 0.20794317 0.63349365 0.51703749 0.3917136\n",
      "  0.39032673 0.28789439 0.18723707 0.23293629 0.48043839 0.53411894\n",
      "  0.19012237 0.54961893 0.53177721 0.06718361 0.58829688 0.50991971\n",
      "  0.         0.68073864 0.23620587 0.50682541 0.32791029 0.5459811\n",
      "  0.08406187 0.41174244 0.44387268 0.53338018]\n",
      " [0.52312235 0.86510589 0.79710308 0.78089706 0.20883487 1.06934097\n",
      "  0.16275242 0.62169397 0.4318477  0.6214719  0.86576634 0.91534826\n",
      "  0.85883994 0.56902072 0.54784838 0.41181018 1.22158994 0.93309732\n",
      "  0.72856592 1.12297197 1.05000676 0.94576315 1.02983136 0.88874762\n",
      "  0.40895293 0.85513214 0.64624759 0.94101899 0.96666175 0.96339797\n",
      "  0.77718996 0.97501874 0.78941148 0.7995594  0.75260482 1.03396168\n",
      "  0.79982166 0.56809368 1.00303731 0.50389026 0.70014648 0.43577627\n",
      "  0.59841515 0.60966829 1.0652554  0.66739141 0.98675314 0.55697674\n",
      "  0.61824675 0.92709478 0.17658977 0.83024298 1.21552835 1.09361672\n",
      "  1.03457781 0.49186598 0.73640184 0.90857091 0.84209694 0.48002036\n",
      "  0.61466061 1.24818456 0.5590789  0.9476881  0.78506142 0.61639142\n",
      "  0.57265514 1.1095374  0.77635592 0.38564372 0.61894969 0.77844381\n",
      "  0.36506108 0.70300237 0.85634548 0.07925644 0.24507024 0.65939304\n",
      "  0.74821059 0.81347278 0.50650152 0.5023983  0.22651448 0.61681155\n",
      "  0.842039   0.65356647 0.20049771 0.69394603 0.92459322 0.65341196\n",
      "  0.68073864 0.         0.83509831 0.80654564 0.37088567 0.97388168\n",
      "  0.6291814  0.31371941 0.34313349 1.11504236]\n",
      " [0.53903894 0.962682   0.25131383 0.87945078 0.64800116 0.33495675\n",
      "  0.82457138 0.23848882 0.40325289 0.30246972 0.50732157 0.74889619\n",
      "  0.57201649 0.78052952 0.33362554 0.43424392 0.60465812 0.62208115\n",
      "  0.50040296 0.63975553 0.24983208 0.78048281 0.61823674 0.05458459\n",
      "  0.82327485 0.02635474 0.3351863  0.49284756 0.14427724 0.77501743\n",
      "  0.52506684 0.72029226 0.33545226 0.82274899 0.54326629 0.21169964\n",
      "  0.05780147 0.35894641 0.17785233 0.33130818 0.82428925 0.75605641\n",
      "  0.24910734 0.3500302  0.62702248 0.35484671 0.33464378 0.8574512\n",
      "  0.58442212 0.13657552 0.70934123 0.11905045 0.59880197 0.41684334\n",
      "  0.38777903 0.66424289 0.27913183 0.59140463 0.799471   0.38586909\n",
      "  0.30866968 0.62764091 0.27686329 0.78970853 0.13347237 0.30309165\n",
      "  0.29726595 0.33634137 0.05972762 0.45000842 0.51675666 0.69190724\n",
      "  0.49279548 0.47737255 0.08037691 0.80390661 0.71681904 0.31534155\n",
      "  0.25740278 0.4739987  0.33785936 0.33293353 0.66709775 0.77006528\n",
      "  0.08799973 0.78467304 0.65418776 0.17764791 0.79002859 0.74440499\n",
      "  0.23620587 0.83509831 0.         0.72413466 0.46440011 0.72509165\n",
      "  0.22832645 0.61391319 0.65875323 0.63118931]\n",
      " [0.32176502 0.24865227 0.47963261 0.18871497 0.78016248 0.65593099\n",
      "  0.66784928 0.56007207 0.64217419 0.46664996 0.26336405 0.11250437\n",
      "  0.19379006 0.27654011 0.50332088 0.57701968 0.60591319 0.21609307\n",
      "  0.22448047 0.43449174 0.73838312 0.13972985 0.33122736 0.75977437\n",
      "  0.45310161 0.7488445  0.41319697 0.34218392 0.84559773 0.15948857\n",
      "  0.20220523 0.19398034 0.39583197 0.11336046 0.18087857 0.77461133\n",
      "  0.7482667  0.44528263 0.76655536 0.6320374  0.18899182 0.39088185\n",
      "  0.7112497  0.86614092 0.36868891 0.38283826 0.54345024 0.34650542\n",
      "  0.21216034 0.85867781 0.63500327 0.61515014 0.60200658 0.60044253\n",
      "  0.54867351 0.3147049  0.44522762 0.21828975 0.07536574 0.75244569\n",
      "  0.82683936 0.62607618 0.62407156 0.14117317 0.59074787 0.82234772\n",
      "  0.75634563 0.72463264 0.70781737 0.66225788 0.25638554 0.0364444\n",
      "  0.7486843  0.2511245  0.66543509 0.72920315 0.56154764 0.87630389\n",
      "  0.89244446 0.26644972 0.57727728 0.64800802 0.59166786 0.22352894\n",
      "  0.64916461 0.19776395 0.77806677 0.57393945 0.11857919 0.17201966\n",
      "  0.50682541 0.80654564 0.72413466 0.         0.64124976 0.19009702\n",
      "  0.56798849 0.51091953 0.46486752 0.43055862]\n",
      " [0.32141965 0.80082108 0.45278089 0.70557845 0.20009184 0.71329485\n",
      "  0.37643367 0.25779133 0.06184153 0.28296433 0.59185144 0.72827312\n",
      "  0.61131917 0.51905679 0.20449084 0.06884166 0.90018673 0.68784259\n",
      "  0.47602557 0.83645909 0.68273303 0.76333836 0.75922382 0.5182603\n",
      "  0.46359536 0.48487914 0.32526912 0.64766185 0.59818687 0.77304\n",
      "  0.52705645 0.75795049 0.46776317 0.68679813 0.51521965 0.66393213\n",
      "  0.43112801 0.24725637 0.63262867 0.13309194 0.62534712 0.42473077\n",
      "  0.23606965 0.30484712 0.78892103 0.35590257 0.64294941 0.56344825\n",
      "  0.42951289 0.56209711 0.25817987 0.46409504 0.89390657 0.75070636\n",
      "  0.69526739 0.38917082 0.39971627 0.65730951 0.70254296 0.15536872\n",
      "  0.28897126 0.92691527 0.18822766 0.76877239 0.41999975 0.2882493\n",
      "  0.22695078 0.74746475 0.40595931 0.02803622 0.390856   0.60565259\n",
      "  0.10744578 0.44364274 0.48696901 0.34219043 0.29323423 0.34328622\n",
      "  0.4154287  0.53640346 0.1420002  0.13281325 0.22728168 0.54145411\n",
      "  0.47331913 0.57325373 0.20402189 0.32856319 0.75322829 0.54912668\n",
      "  0.32791029 0.37088567 0.46440011 0.64124976 0.         0.75912606\n",
      "  0.26394368 0.21601667 0.28557089 0.82771044]\n",
      " [0.4606676  0.37381034 0.47482933 0.351106   0.92162577 0.56932779\n",
      "  0.84426839 0.61710046 0.74639234 0.52909586 0.2179808  0.08722191\n",
      "  0.16076115 0.46600879 0.58678857 0.69096387 0.45044717 0.10403264\n",
      "  0.28552346 0.26712156 0.67407221 0.08910304 0.17658832 0.74901574\n",
      "  0.6403688  0.74663041 0.47221343 0.2516394  0.82407528 0.06769007\n",
      "  0.23672501 0.0065933  0.39346213 0.27582186 0.24402262 0.7217683\n",
      "  0.76180511 0.52938235 0.72206374 0.71946129 0.37410404 0.57468801\n",
      "  0.77557209 0.93670092 0.20692649 0.43722249 0.46727206 0.53641441\n",
      "  0.35677476 0.8500804  0.79860184 0.60700828 0.44767254 0.4927174\n",
      "  0.45347358 0.48778655 0.4650967  0.13369705 0.21118181 0.8449524\n",
      "  0.89338966 0.46669183 0.69754227 0.09810144 0.59593948 0.88819609\n",
      "  0.82849668 0.63778924 0.7243559  0.77571848 0.37260112 0.20538296\n",
      "  0.86409403 0.31866416 0.65366021 0.89875526 0.73124441 0.93668444\n",
      "  0.93379065 0.25869584 0.66658552 0.73538383 0.75172144 0.41338234\n",
      "  0.64033086 0.38770448 0.92079417 0.60833139 0.11951567 0.36140182\n",
      "  0.5459811  0.97388168 0.72509165 0.19009702 0.75912606 0.\n",
      "  0.622562   0.66656217 0.63101824 0.26552846]\n",
      " [0.32484306 0.7867028  0.20632217 0.6967891  0.46231547 0.45063816\n",
      "  0.60175024 0.01047005 0.21009742 0.10157278 0.41638691 0.62119392\n",
      "  0.46189989 0.56968951 0.105808   0.21788144 0.65808859 0.53001881\n",
      "  0.3503043  0.62642538 0.42082536 0.65596676 0.56912962 0.28209905\n",
      "  0.59701962 0.25337248 0.15552567 0.44398867 0.37236393 0.65734373\n",
      "  0.3909889  0.61934935 0.25154472 0.65108554 0.39658659 0.4074785\n",
      "  0.21830317 0.14149541 0.37822974 0.14331125 0.63169301 0.53202801\n",
      "  0.15376628 0.31528249 0.59115942 0.18848939 0.38875598 0.64169905\n",
      "  0.39153201 0.35398199 0.48922443 0.20112132 0.65177399 0.49524476\n",
      "  0.44353848 0.44628154 0.17221699 0.4972179  0.64158234 0.25357106\n",
      "  0.2711626  0.68436938 0.09358531 0.66388205 0.15632521 0.26586399\n",
      "  0.20992431 0.48352426 0.1804823  0.25839335 0.32636313 0.53242714\n",
      "  0.32701805 0.31954145 0.2294998  0.58915148 0.49033994 0.31449917\n",
      "  0.32469881 0.36649692 0.12298413 0.15393642 0.44431732 0.56694941\n",
      "  0.21409136 0.58687003 0.46690161 0.06487086 0.65703716 0.54955174\n",
      "  0.08406187 0.6291814  0.22832645 0.56798849 0.26394368 0.622562\n",
      "  0.         0.38651422 0.43047172 0.61738166]\n",
      " [0.20984648 0.6218196  0.51192283 0.52856327 0.27627678 0.78829934\n",
      "  0.2262187  0.37674169 0.26200785 0.34324692 0.55243252 0.61465182\n",
      "  0.54559955 0.32437555 0.28459501 0.19668205 0.9146472  0.62042047\n",
      "  0.41485908 0.80970181 0.79080261 0.64704891 0.71611202 0.66813318\n",
      "  0.2475816  0.63821592 0.35318576 0.62939377 0.75696111 0.66244324\n",
      "  0.46353251 0.66719838 0.48945419 0.52684379 0.43947059 0.7873892\n",
      "  0.59533378 0.28288794 0.76039346 0.31175092 0.4453665  0.21337067\n",
      "  0.42765789 0.52010757 0.75159031 0.36795359 0.69518791 0.35513393\n",
      "  0.30986919 0.7320751  0.13777488 0.57524234 0.90870707 0.79936275\n",
      "  0.73875194 0.20817296 0.44794912 0.59529019 0.55776567 0.371139\n",
      "  0.50097094 0.94100779 0.35215384 0.65017466 0.52956371 0.49958782\n",
      "  0.43392171 0.83679292 0.56183374 0.24403045 0.30536702 0.47948077\n",
      "  0.30281006 0.38965594 0.61189976 0.24605873 0.10530145 0.55619376\n",
      "  0.62124979 0.50072169 0.28234234 0.32014257 0.0872165  0.35797525\n",
      "  0.59515228 0.3934803  0.27277288 0.44542062 0.62931192 0.37965664\n",
      "  0.41174244 0.31371941 0.61391319 0.51091953 0.21601667 0.66656217\n",
      "  0.38651422 0.         0.07146325 0.80185398]\n",
      " [0.19308513 0.55727499 0.5321827  0.46533229 0.33970252 0.80689395\n",
      "  0.22340078 0.42026954 0.32805524 0.37312152 0.53847381 0.57258164\n",
      "  0.52249432 0.25721376 0.32528416 0.25916447 0.91162078 0.59469262\n",
      "  0.39885796 0.79437175 0.81999068 0.60347909 0.69681697 0.71224845\n",
      "  0.17982936 0.68383692 0.37250054 0.62051825 0.80283407 0.62063151\n",
      "  0.44425005 0.63227947 0.4986929  0.46955489 0.41669547 0.82155313\n",
      "  0.64491168 0.31152433 0.79628299 0.37205518 0.38199602 0.14194899\n",
      "  0.48785253 0.58814977 0.7336267  0.38100502 0.70811666 0.28390328\n",
      "  0.2769241  0.78184414 0.17017848 0.60936609 0.90586746 0.80922666\n",
      "  0.74797583 0.15199052 0.46758704 0.57209626 0.5054705  0.43995513\n",
      "  0.56714919 0.9375418  0.40766921 0.60574288 0.56445395 0.56547221\n",
      "  0.49855822 0.85932267 0.6094897  0.31360004 0.2877381  0.43581558\n",
      "  0.37426318 0.37786328 0.64934815 0.2678352  0.10148509 0.62263585\n",
      "  0.68427435 0.48994657 0.33687196 0.38187284 0.12972459 0.29460986\n",
      "  0.63202079 0.33093186 0.33535052 0.48525487 0.5833292  0.32147833\n",
      "  0.44387268 0.34313349 0.65875323 0.46486752 0.28557089 0.63101824\n",
      "  0.43047172 0.07146325 0.         0.78694794]\n",
      " [0.59530283 0.63923383 0.41828339 0.61016404 1.01676815 0.37329372\n",
      "  1.01016974 0.61617011 0.7959096  0.55149496 0.24945955 0.34938775\n",
      "  0.27199936 0.68601938 0.62694694 0.76023198 0.18571357 0.21688794\n",
      "  0.38837707 0.00904967 0.49640611 0.35439657 0.0999736  0.63630645\n",
      "  0.843963   0.64594439 0.50317519 0.18005388 0.68988479 0.3314174\n",
      "  0.34317502 0.25919601 0.36791021 0.53304565 0.37294645 0.55475277\n",
      "  0.68131069 0.58047977 0.5661816  0.74751293 0.61921432 0.77029744\n",
      "  0.76484258 0.9215386  0.06187142 0.4718087  0.30528591 0.76593647\n",
      "  0.51861455 0.73116498 0.93962796 0.51677349 0.1834047  0.27741191\n",
      "  0.26466308 0.66749851 0.44583138 0.22633021 0.47095756 0.86865147\n",
      "  0.87556265 0.20116654 0.70836168 0.363029   0.52645044 0.86975648\n",
      "  0.82399039 0.43396173 0.65220971 0.83625145 0.49949528 0.43032097\n",
      "  0.92077934 0.41220172 0.55111416 1.04730945 0.88759835 0.90687027\n",
      "  0.87721057 0.30179644 0.70349741 0.76165834 0.88880308 0.6382655\n",
      "  0.54385164 0.62054295 1.0181356  0.57752037 0.38499923 0.58597489\n",
      "  0.53338018 1.11504236 0.63118931 0.43055862 0.82771044 0.26552846\n",
      "  0.61738166 0.80185398 0.78694794 0.        ]]\n"
     ]
    }
   ],
   "source": [
    "arr = np.random.random((100,2))\n",
    "X,Y = np.atleast_2d(arr[:,0],arr[:,1])\n",
    "D = np.sqrt( (X-X.T)**2 + (Y-Y.T)**2)\n",
    "\n",
    "print(D)"
   ]
  },
  {
   "cell_type": "markdown",
   "metadata": {},
   "source": [
    "#### 53. How to convert a float (32 bits) array into an integer (32 bits) in place? \n",
    "(**hint**: astype(copy=False))"
   ]
  },
  {
   "cell_type": "code",
   "execution_count": 63,
   "metadata": {},
   "outputs": [
    {
     "name": "stdout",
     "output_type": "stream",
     "text": [
      "[0 1 2 3 4]\n"
     ]
    }
   ],
   "source": [
    "Z = np.arange(5, dtype=np.float32)\n",
    "Z = Z.astype(np.int32, copy=False)\n",
    "print(Z)"
   ]
  },
  {
   "cell_type": "markdown",
   "metadata": {},
   "source": [
    "#### 54. How to read the following file? (★★☆) \n",
    "(**hint**: np.genfromtxt)"
   ]
  },
  {
   "cell_type": "markdown",
   "metadata": {},
   "source": [
    "```\n",
    "1, 2, 3, 4, 5\n",
    "6,  ,  , 7, 8\n",
    " ,  , 9,10,11\n",
    "```"
   ]
  },
  {
   "cell_type": "code",
   "execution_count": 64,
   "metadata": {},
   "outputs": [
    {
     "name": "stdout",
     "output_type": "stream",
     "text": [
      "[[ 1  2  3  4  5]\n",
      " [ 6 -1 -1  7  8]\n",
      " [-1 -1  9 10 11]]\n"
     ]
    },
    {
     "name": "stderr",
     "output_type": "stream",
     "text": [
      "C:\\Users\\Admin\\AppData\\Local\\Temp/ipykernel_6756/1271915251.py:7: DeprecationWarning: `np.int` is a deprecated alias for the builtin `int`. To silence this warning, use `int` by itself. Doing this will not modify any behavior and is safe. When replacing `np.int`, you may wish to use e.g. `np.int64` or `np.int32` to specify the precision. If you wish to review your current use, check the release note link for additional information.\n",
      "Deprecated in NumPy 1.20; for more details and guidance: https://numpy.org/devdocs/release/1.20.0-notes.html#deprecations\n",
      "  Z = np.genfromtxt(s, delimiter=\",\", dtype=np.int)\n"
     ]
    }
   ],
   "source": [
    "from io import StringIO\n",
    "\n",
    "# Fake file \n",
    "s = StringIO(\"\"\"1, 2, 3, 4, 5\\n\n",
    "                6,  ,  , 7, 8\\n\n",
    "                 ,  , 9,10,11\\n\"\"\")\n",
    "Z = np.genfromtxt(s, delimiter=\",\", dtype=np.int)\n",
    "print(Z)"
   ]
  },
  {
   "cell_type": "markdown",
   "metadata": {},
   "source": [
    "#### 55. What is the equivalent of enumerate for numpy arrays? (★★☆) \n",
    "(**hint**: np.ndenumerate, np.ndindex)"
   ]
  },
  {
   "cell_type": "code",
   "execution_count": 65,
   "metadata": {},
   "outputs": [
    {
     "name": "stdout",
     "output_type": "stream",
     "text": [
      "(0, 0) 0\n",
      "(0, 1) 1\n",
      "(1, 0) 2\n",
      "(1, 1) 3\n",
      "(0, 0) 0\n",
      "(0, 1) 1\n",
      "(1, 0) 2\n",
      "(1, 1) 3\n"
     ]
    }
   ],
   "source": [
    "x = np.arange(4).reshape(2,2)\n",
    "for index, value in np.ndenumerate(x):\n",
    "    print(index, value)\n",
    "for index in np.ndindex(x.shape):\n",
    "    print(index, x[index])"
   ]
  },
  {
   "cell_type": "markdown",
   "metadata": {},
   "source": [
    "#### 56. Generate a generic 2D Gaussian-like array (★★☆) \n",
    "(**hint**: np.meshgrid, np.exp)"
   ]
  },
  {
   "cell_type": "code",
   "execution_count": 67,
   "metadata": {},
   "outputs": [
    {
     "name": "stdout",
     "output_type": "stream",
     "text": [
      "[[0.36787944 0.53526143 0.60653066 0.53526143 0.36787944]\n",
      " [0.53526143 0.77880078 0.8824969  0.77880078 0.53526143]\n",
      " [0.60653066 0.8824969  1.         0.8824969  0.60653066]\n",
      " [0.53526143 0.77880078 0.8824969  0.77880078 0.53526143]\n",
      " [0.36787944 0.53526143 0.60653066 0.53526143 0.36787944]]\n"
     ]
    }
   ],
   "source": [
    "X, Y = np.meshgrid(np.linspace(-1,1,5), np.linspace(-1,1,5))\n",
    "D = np.sqrt(X*X+Y*Y)\n",
    "sigma, mu = 1.0, 0.0\n",
    "G = np.exp(-( (D-mu)**2 / ( 2.0 * sigma**2 ) ) )\n",
    "print(G)"
   ]
  },
  {
   "cell_type": "markdown",
   "metadata": {},
   "source": [
    "#### 57. How to randomly place p elements in a 2D array? (★★☆) \n",
    "(**hint**: np.put, np.random.choice)"
   ]
  },
  {
   "cell_type": "code",
   "execution_count": 69,
   "metadata": {},
   "outputs": [
    {
     "name": "stdout",
     "output_type": "stream",
     "text": [
      "[[0. 0. 0. 1. 0. 0. 0. 0. 0. 0.]\n",
      " [0. 0. 0. 0. 0. 0. 0. 0. 0. 0.]\n",
      " [0. 0. 0. 0. 0. 0. 0. 0. 0. 0.]\n",
      " [0. 0. 1. 0. 0. 0. 0. 0. 0. 0.]\n",
      " [0. 0. 0. 0. 0. 0. 0. 0. 0. 0.]\n",
      " [0. 0. 0. 0. 0. 0. 0. 1. 0. 0.]\n",
      " [0. 0. 0. 0. 0. 0. 0. 0. 0. 0.]\n",
      " [0. 0. 0. 0. 0. 0. 0. 0. 0. 0.]\n",
      " [0. 0. 0. 0. 0. 0. 0. 0. 0. 0.]\n",
      " [0. 0. 0. 0. 0. 0. 0. 0. 0. 0.]]\n"
     ]
    }
   ],
   "source": [
    "n = 10\n",
    "p = 3\n",
    "Z = np.zeros((n,n))\n",
    "np.put(Z, np.random.choice(range(n*n), p, replace=False),1)\n",
    "print(Z)"
   ]
  },
  {
   "cell_type": "markdown",
   "metadata": {},
   "source": [
    "#### 58. Subtract the mean of each row of a matrix (★★☆) \n",
    "(**hint**: mean(axis=,keepdims=))"
   ]
  },
  {
   "cell_type": "code",
   "execution_count": 78,
   "metadata": {},
   "outputs": [
    {
     "name": "stdout",
     "output_type": "stream",
     "text": [
      "[[-0.23790136  0.4191991  -0.04917776  0.20174928 -0.12385331 -0.34223231\n",
      "   0.25279895  0.1495348  -0.23541549 -0.0347019 ]\n",
      " [-0.04599208 -0.19597448 -0.2449989   0.18032649  0.20582255 -0.06013694\n",
      "  -0.11447215  0.33194241 -0.25888844  0.20237154]\n",
      " [-0.28339764 -0.13246681 -0.38198316 -0.16697515  0.23533668  0.46426311\n",
      "   0.03432336 -0.0777425   0.18235469  0.12628742]\n",
      " [ 0.17458795  0.05738988 -0.35269515 -0.19164461  0.27258828  0.51652144\n",
      "  -0.14312838 -0.15256379 -0.24351514  0.06245953]\n",
      " [-0.23154748 -0.09887858 -0.23515809 -0.37247494 -0.1464118   0.21294349\n",
      "   0.39562615 -0.27689489  0.38029438  0.37250175]]\n"
     ]
    }
   ],
   "source": [
    "X = np.random.rand(5, 10)\n",
    "Y = X - X.mean(axis = 1,keepdims = True)\n",
    "print(Y)"
   ]
  },
  {
   "cell_type": "markdown",
   "metadata": {},
   "source": [
    "#### 59. How to sort an array by the nth column? (★★☆) \n",
    "(**hint**: argsort)"
   ]
  },
  {
   "cell_type": "code",
   "execution_count": 83,
   "metadata": {},
   "outputs": [
    {
     "name": "stdout",
     "output_type": "stream",
     "text": [
      "[ 2  2 12 12 13]\n"
     ]
    }
   ],
   "source": [
    "Z = np.random.randint(0,20,5)\n",
    "print(Z[Z.argsort()])"
   ]
  },
  {
   "cell_type": "markdown",
   "metadata": {},
   "source": [
    "#### 60. How to tell if a given 2D array has null columns? (★★☆) \n",
    "(**hint**: any, ~)"
   ]
  },
  {
   "cell_type": "code",
   "execution_count": 92,
   "metadata": {},
   "outputs": [
    {
     "name": "stdout",
     "output_type": "stream",
     "text": [
      "[[1 2 1]\n",
      " [1 1 0]\n",
      " [1 2 2]]\n",
      "True\n"
     ]
    }
   ],
   "source": [
    "x = np.random.randint(0,3,(3,3))\n",
    "print(x)\n",
    "print((x.any(axis=0)).any())"
   ]
  },
  {
   "cell_type": "markdown",
   "metadata": {},
   "source": [
    "#### 61. Find the nearest value from a given value in an array (★★☆) \n",
    "(**hint**: np.abs, argmin, flat)"
   ]
  },
  {
   "cell_type": "code",
   "execution_count": 93,
   "metadata": {},
   "outputs": [
    {
     "name": "stdout",
     "output_type": "stream",
     "text": [
      "0.42464076898282777\n"
     ]
    }
   ],
   "source": [
    "Z = np.random.uniform(0,1,10)\n",
    "z = 0.5\n",
    "m = Z.flat[np.abs(Z - z).argmin()]\n",
    "print(m)\n"
   ]
  },
  {
   "cell_type": "markdown",
   "metadata": {},
   "source": [
    "#### 62. Considering two arrays with shape (1,3) and (3,1), how to compute their sum using an iterator? (★★☆) \n",
    "(**hint**: np.nditer)"
   ]
  },
  {
   "cell_type": "code",
   "execution_count": 94,
   "metadata": {},
   "outputs": [
    {
     "name": "stdout",
     "output_type": "stream",
     "text": [
      "[[0 1 2]\n",
      " [1 2 3]\n",
      " [2 3 4]]\n"
     ]
    }
   ],
   "source": [
    "A = np.arange(3).reshape(3,1)\n",
    "B = np.arange(3).reshape(1,3)\n",
    "it = np.nditer([A,B,None])\n",
    "for x,y,z in it: z[...] = x + y\n",
    "print(it.operands[2])"
   ]
  },
  {
   "cell_type": "markdown",
   "metadata": {},
   "source": [
    "#### 63. Create an array class that has a name attribute (★★☆) \n",
    "(**hint**: class method)"
   ]
  },
  {
   "cell_type": "code",
   "execution_count": 97,
   "metadata": {},
   "outputs": [
    {
     "name": "stdout",
     "output_type": "stream",
     "text": [
      "Name\n"
     ]
    }
   ],
   "source": [
    "class NameArr(np.ndarray):\n",
    "    def __new__(cls, array, name=\"no name\"):\n",
    "        obj = np.asarray(array).view(cls)\n",
    "        obj.name = name\n",
    "        return obj\n",
    "    def __array_finalize__(self, obj):\n",
    "        if obj is None: return\n",
    "        self.info = getattr(obj, \"name\", \"no name\")\n",
    "\n",
    "Z = NameArr(np.arange(10), \"Name\")\n",
    "print (Z.name)"
   ]
  },
  {
   "cell_type": "markdown",
   "metadata": {},
   "source": [
    "#### 64. Consider a given vector, how to add 1 to each element indexed by a second vector (be careful with repeated indices)? (★★★) \n",
    "(**hint**: np.bincount | np.add.at)"
   ]
  },
  {
   "cell_type": "code",
   "execution_count": 100,
   "metadata": {},
   "outputs": [
    {
     "name": "stdout",
     "output_type": "stream",
     "text": [
      "[3. 4. 2. 3. 3. 5. 1. 2. 4. 3.]\n"
     ]
    }
   ],
   "source": [
    "Z = np.ones(10)\n",
    "I = np.random.randint(0,len(Z),20)\n",
    "\n",
    "Z += np.bincount(I, minlength=len(Z))\n",
    "print(Z)\n",
    "\n",
    "#np.add.at(Z, I, 1)\n",
    "#print(Z)\n"
   ]
  },
  {
   "cell_type": "markdown",
   "metadata": {},
   "source": [
    "#### 65. How to accumulate elements of a vector (X) to an array (F) based on an index list (I)? (★★★) \n",
    "(**hint**: np.bincount)"
   ]
  },
  {
   "cell_type": "code",
   "execution_count": 101,
   "metadata": {},
   "outputs": [
    {
     "name": "stdout",
     "output_type": "stream",
     "text": [
      "[0. 7. 0. 6. 5. 0. 0. 0. 0. 3.]\n"
     ]
    }
   ],
   "source": [
    "X = [1,2,3,4,5,6]\n",
    "I = [1,3,9,3,4,1]\n",
    "F = np.bincount(I,X)\n",
    "print(F)"
   ]
  },
  {
   "cell_type": "markdown",
   "metadata": {},
   "source": [
    "#### 66. Considering a (w,h,3) image of (dtype=ubyte), compute the number of unique colors (★★★) \n",
    "(**hint**: np.unique)"
   ]
  },
  {
   "cell_type": "code",
   "execution_count": 102,
   "metadata": {},
   "outputs": [
    {
     "name": "stdout",
     "output_type": "stream",
     "text": [
      "[0 1]\n"
     ]
    }
   ],
   "source": [
    "w,h = 16,16\n",
    "I = np.random.randint(0,2,(h,w,3)).astype(np.ubyte)\n",
    "F = I[...,0]*256*256 + I[...,1]*256 +I[...,2]\n",
    "n = len(np.unique(F))\n",
    "print(np.unique(I))"
   ]
  },
  {
   "cell_type": "markdown",
   "metadata": {},
   "source": [
    "#### 67. Considering a four dimensions array, how to get sum over the last two axis at once? (★★★) \n",
    "(**hint**: sum(axis=(-2,-1)))"
   ]
  },
  {
   "cell_type": "code",
   "execution_count": 103,
   "metadata": {},
   "outputs": [
    {
     "name": "stdout",
     "output_type": "stream",
     "text": [
      "[[49 39 46 43]\n",
      " [64 69 47 67]\n",
      " [42 47 62 45]]\n"
     ]
    }
   ],
   "source": [
    "A = np.random.randint(0,10,(3,4,3,4))\n",
    "sum = A.sum(axis=(-2,-1))\n",
    "print(sum)\n"
   ]
  },
  {
   "cell_type": "markdown",
   "metadata": {},
   "source": [
    "#### 68. Considering a one-dimensional vector D, how to compute means of subsets of D using a vector S of same size describing subset  indices? (★★★) \n",
    "(**hint**: np.bincount)"
   ]
  },
  {
   "cell_type": "code",
   "execution_count": 104,
   "metadata": {},
   "outputs": [
    {
     "name": "stdout",
     "output_type": "stream",
     "text": [
      "[0.53263519 0.55939868 0.54824562 0.43306099 0.56225859 0.41963546\n",
      " 0.58391308 0.42966387 0.41053432 0.49516534]\n"
     ]
    }
   ],
   "source": [
    "D = np.random.uniform(0,1,100)\n",
    "S = np.random.randint(0,10,100)\n",
    "D_sums = np.bincount(S, weights=D)\n",
    "D_counts = np.bincount(S)\n",
    "D_means = D_sums / D_counts\n",
    "print(D_means)\n"
   ]
  },
  {
   "cell_type": "markdown",
   "metadata": {},
   "source": [
    "#### 69. How to get the diagonal of a dot product? (★★★) \n",
    "(**hint**: np.diag)"
   ]
  },
  {
   "cell_type": "code",
   "execution_count": 106,
   "metadata": {},
   "outputs": [
    {
     "name": "stdout",
     "output_type": "stream",
     "text": [
      "[2.34128434 0.37268372 1.03986696 1.51673082 0.88442336]\n"
     ]
    }
   ],
   "source": [
    "A = np.random.uniform(0,1,(5,5))\n",
    "B = np.random.uniform(0,1,(5,5))\n",
    "  \n",
    "print(np.diag(np.dot(A, B)))"
   ]
  },
  {
   "cell_type": "markdown",
   "metadata": {},
   "source": [
    "#### 70. Consider the vector \\[1, 2, 3, 4, 5\\], how to build a new vector with 3 consecutive zeros interleaved between each value? (★★★) \n",
    "(**hint**: array\\[::4\\])"
   ]
  },
  {
   "cell_type": "code",
   "execution_count": 107,
   "metadata": {},
   "outputs": [
    {
     "name": "stdout",
     "output_type": "stream",
     "text": [
      "[1. 0. 0. 0. 2. 0. 0. 0. 3. 0. 0. 0. 4. 0. 0. 0. 5.]\n"
     ]
    }
   ],
   "source": [
    "Z = np.array([1,2,3,4,5])\n",
    "nz = 3\n",
    "Z0 = np.zeros(len(Z) + (len(Z)-1)*(nz))\n",
    "Z0[::nz+1] = Z\n",
    "print(Z0)"
   ]
  },
  {
   "cell_type": "markdown",
   "metadata": {},
   "source": [
    "#### 71. Consider an array of dimension (5,5,3), how to mulitply it by an array with dimensions (5,5)? (★★★) \n",
    "(**hint**: array\\[:, :, None\\])"
   ]
  },
  {
   "cell_type": "code",
   "execution_count": 108,
   "metadata": {},
   "outputs": [
    {
     "name": "stdout",
     "output_type": "stream",
     "text": [
      "[[[2. 2. 2.]\n",
      "  [2. 2. 2.]\n",
      "  [2. 2. 2.]\n",
      "  [2. 2. 2.]\n",
      "  [2. 2. 2.]]\n",
      "\n",
      " [[2. 2. 2.]\n",
      "  [2. 2. 2.]\n",
      "  [2. 2. 2.]\n",
      "  [2. 2. 2.]\n",
      "  [2. 2. 2.]]\n",
      "\n",
      " [[2. 2. 2.]\n",
      "  [2. 2. 2.]\n",
      "  [2. 2. 2.]\n",
      "  [2. 2. 2.]\n",
      "  [2. 2. 2.]]\n",
      "\n",
      " [[2. 2. 2.]\n",
      "  [2. 2. 2.]\n",
      "  [2. 2. 2.]\n",
      "  [2. 2. 2.]\n",
      "  [2. 2. 2.]]\n",
      "\n",
      " [[2. 2. 2.]\n",
      "  [2. 2. 2.]\n",
      "  [2. 2. 2.]\n",
      "  [2. 2. 2.]\n",
      "  [2. 2. 2.]]]\n"
     ]
    }
   ],
   "source": [
    "A = np.ones((5,5,3))\n",
    "B = 2*np.ones((5,5))\n",
    "print(A * B[:,:,None])"
   ]
  },
  {
   "cell_type": "markdown",
   "metadata": {},
   "source": [
    "#### 72. How to swap two rows of an array? (★★★) \n",
    "(**hint**: array\\[\\[\\]\\] = array\\[\\[\\]\\])"
   ]
  },
  {
   "cell_type": "code",
   "execution_count": 109,
   "metadata": {},
   "outputs": [
    {
     "name": "stdout",
     "output_type": "stream",
     "text": [
      "[[ 5  6  7  8  9]\n",
      " [ 0  1  2  3  4]\n",
      " [10 11 12 13 14]\n",
      " [15 16 17 18 19]\n",
      " [20 21 22 23 24]]\n"
     ]
    }
   ],
   "source": [
    "A = np.arange(25).reshape(5,5)\n",
    "A[[0,1]] = A[[1,0]]\n",
    "print(A)"
   ]
  },
  {
   "cell_type": "markdown",
   "metadata": {},
   "source": [
    "#### 73. Consider a set of 10 triplets describing 10 triangles (with shared vertices), find the set of unique line segments composing all the  triangles (★★★) \n",
    "(**hint**: repeat, np.roll, np.sort, view, np.unique)"
   ]
  },
  {
   "cell_type": "code",
   "execution_count": 110,
   "metadata": {},
   "outputs": [
    {
     "name": "stdout",
     "output_type": "stream",
     "text": [
      "[( 0, 54) ( 0, 77) ( 1, 38) ( 1, 90) ( 5, 57) ( 5, 94) ( 9, 28) ( 9, 30)\n",
      " ( 9, 94) ( 9, 99) (12, 22) (12, 90) (13, 28) (13, 30) (22, 90) (28, 30)\n",
      " (28, 99) (30, 94) (36, 46) (36, 72) (36, 77) (36, 94) (38, 90) (46, 72)\n",
      " (54, 77) (57, 94) (67, 72) (67, 98) (72, 98) (77, 94)]\n"
     ]
    }
   ],
   "source": [
    "faces = np.random.randint(0,100,(10,3))\n",
    "F = np.roll(faces.repeat(2,axis=1),-1,axis=1)\n",
    "F = F.reshape(len(F)*3,2)\n",
    "F = np.sort(F,axis=1)\n",
    "G = F.view( dtype=[('p0',F.dtype),('p1',F.dtype)] )\n",
    "G = np.unique(G)\n",
    "print(G)"
   ]
  },
  {
   "cell_type": "markdown",
   "metadata": {},
   "source": [
    "#### 74. Given an array C that is a bincount, how to produce an array A such that np.bincount(A) == C? (★★★) \n",
    "(**hint**: np.repeat)"
   ]
  },
  {
   "cell_type": "code",
   "execution_count": 111,
   "metadata": {},
   "outputs": [
    {
     "name": "stdout",
     "output_type": "stream",
     "text": [
      "[1 1 2 3 4 4 6]\n"
     ]
    }
   ],
   "source": [
    "C = np.bincount([1,1,2,3,4,4,6])\n",
    "A = np.repeat(np.arange(len(C)), C)\n",
    "print(A)"
   ]
  },
  {
   "cell_type": "markdown",
   "metadata": {},
   "source": [
    "#### 75. How to compute averages using a sliding window over an array? (★★★) \n",
    "(**hint**: np.cumsum)"
   ]
  },
  {
   "cell_type": "code",
   "execution_count": 112,
   "metadata": {},
   "outputs": [
    {
     "name": "stdout",
     "output_type": "stream",
     "text": [
      "[ 1.  2.  3.  4.  5.  6.  7.  8.  9. 10. 11. 12. 13. 14. 15. 16. 17. 18.]\n"
     ]
    }
   ],
   "source": [
    "def moving_average(a, n=3) :\n",
    "    ret = np.cumsum(a, dtype=float)\n",
    "    ret[n:] = ret[n:] - ret[:-n]\n",
    "    return ret[n - 1:] / n\n",
    "Z = np.arange(20)\n",
    "print(moving_average(Z, n=3))"
   ]
  },
  {
   "cell_type": "markdown",
   "metadata": {},
   "source": [
    "#### 76. Consider a one-dimensional array Z, build a two-dimensional array whose first row is (Z\\[0\\],Z\\[1\\],Z\\[2\\]) and each subsequent row is  shifted by 1 (last row should be (Z\\[-3\\],Z\\[-2\\],Z\\[-1\\]) (★★★) \n",
    "(**hint**: from numpy.lib import stride_tricks)"
   ]
  },
  {
   "cell_type": "code",
   "execution_count": 113,
   "metadata": {},
   "outputs": [
    {
     "name": "stdout",
     "output_type": "stream",
     "text": [
      "[[0 1 2]\n",
      " [1 2 3]\n",
      " [2 3 4]\n",
      " [3 4 5]\n",
      " [4 5 6]\n",
      " [5 6 7]\n",
      " [6 7 8]\n",
      " [7 8 9]]\n"
     ]
    }
   ],
   "source": [
    "from numpy.lib import stride_tricks\n",
    "\n",
    "def rolling(a, window):\n",
    "    shape = (a.size - window + 1, window)\n",
    "    strides = (a.itemsize, a.itemsize)\n",
    "    return stride_tricks.as_strided(a, shape=shape, strides=strides)\n",
    "Z = rolling(np.arange(10), 3)\n",
    "print(Z)"
   ]
  },
  {
   "cell_type": "markdown",
   "metadata": {},
   "source": [
    "#### 77. How to negate a boolean, or to change the sign of a float inplace? (★★★) \n",
    "(**hint**: np.logical_not, np.negative)"
   ]
  },
  {
   "cell_type": "code",
   "execution_count": 114,
   "metadata": {},
   "outputs": [
    {
     "data": {
      "text/plain": [
       "array([-0.9901737 , -0.79530923,  0.53041515,  0.14363073,  0.62635763,\n",
       "       -0.10431526,  0.6621771 , -0.61909412, -0.86164589,  0.38852465,\n",
       "        0.39472635,  0.57162083,  0.99596366,  0.74243983, -0.58398806,\n",
       "       -0.22229748, -0.80109776,  0.29333743,  0.42732683, -0.67928531,\n",
       "        0.79309483,  0.15252739, -0.33639867,  0.60876958, -0.62737831,\n",
       "       -0.69402554,  0.79868579, -0.51715092,  0.67377134, -0.06103628,\n",
       "        0.85393364, -0.22680683,  0.54158544, -0.61882094,  0.70814327,\n",
       "        0.25647275,  0.25424507, -0.56654051, -0.35851277, -0.67020115,\n",
       "       -0.14194718,  0.54269893, -0.20263354, -0.97593283, -0.13275368,\n",
       "        0.23354612, -0.92584325, -0.67557725,  0.29933561,  0.99039812,\n",
       "       -0.70394795,  0.60013104, -0.98101913, -0.41377962, -0.51128044,\n",
       "       -0.71842393,  0.81804342,  0.55284973, -0.89441679,  0.98628965,\n",
       "        0.62656444,  0.5625409 ,  0.75128861, -0.55767619, -0.76863053,\n",
       "       -0.15859657, -0.01993346,  0.63871296, -0.40396387,  0.98311954,\n",
       "        0.25955577,  0.48744467, -0.39181098,  0.36683702, -0.12197387,\n",
       "        0.55494479, -0.24811865, -0.10472246,  0.99003174, -0.80376308,\n",
       "       -0.46995367, -0.88564178, -0.03944956,  0.02820936,  0.59054189,\n",
       "        0.39512903,  0.56989029,  0.70772831, -0.84191634, -0.18909168,\n",
       "       -0.01836262, -0.82355479, -0.62352926, -0.36395555,  0.3172928 ,\n",
       "        0.70833086, -0.37993711, -0.68434964, -0.02475207, -0.03261161])"
      ]
     },
     "execution_count": 114,
     "metadata": {},
     "output_type": "execute_result"
    }
   ],
   "source": [
    "Z = np.random.randint(0,2,100)\n",
    "np.logical_not(Z, out=Z)\n",
    "\n",
    "Z = np.random.uniform(-1.0,1.0,100)\n",
    "np.negative(Z, out=Z)"
   ]
  },
  {
   "cell_type": "markdown",
   "metadata": {},
   "source": [
    "#### 78. Consider 2 sets of points P0,P1 describing lines (2d) and a point p, how to compute distance from p to each line i  (P0\\[i\\],P1\\[i\\])? (★★★)"
   ]
  },
  {
   "cell_type": "code",
   "execution_count": 115,
   "metadata": {},
   "outputs": [
    {
     "name": "stdout",
     "output_type": "stream",
     "text": [
      "[15.61766048  5.18404608  6.4166004   3.00623937  5.62197841 13.73775898\n",
      "  5.35141553  6.70032327  1.30614412 13.37705238]\n"
     ]
    }
   ],
   "source": [
    "def distance(P0, P1, p):\n",
    "    T = P1 - P0\n",
    "    L = (T**2).sum(axis=1)\n",
    "    U = -((P0[:,0]-p[...,0])*T[:,0] + (P0[:,1]-p[...,1])*T[:,1]) / L\n",
    "    U = U.reshape(len(U),1)\n",
    "    D = P0 + U*T - p\n",
    "    return np.sqrt((D**2).sum(axis=1))\n",
    "\n",
    "P0 = np.random.uniform(-10,10,(10,2))\n",
    "P1 = np.random.uniform(-10,10,(10,2))\n",
    "p  = np.random.uniform(-10,10,( 1,2))\n",
    "print(distance(P0, P1, p))"
   ]
  },
  {
   "cell_type": "markdown",
   "metadata": {},
   "source": [
    "#### 79. Consider 2 sets of points P0,P1 describing lines (2d) and a set of points P, how to compute distance from each point j (P\\[j\\]) to each line i (P0\\[i\\],P1\\[i\\])? (★★★)"
   ]
  },
  {
   "cell_type": "code",
   "execution_count": 116,
   "metadata": {},
   "outputs": [
    {
     "name": "stdout",
     "output_type": "stream",
     "text": [
      "[[7.20429394e+00 4.40912046e+00 5.86838039e-01 1.09119707e+01\n",
      "  1.18920517e+01 4.31400393e+00 4.15732118e+00 7.90796132e+00\n",
      "  6.89592380e+00 1.87859739e+00]\n",
      " [2.65356765e+00 4.02769007e-01 4.28459438e+00 6.29298221e+00\n",
      "  6.31337323e+00 2.12610424e+00 2.30754032e+00 1.09103630e+01\n",
      "  6.82350722e-01 4.57533026e+00]\n",
      " [7.68433254e+00 1.86763472e+00 5.89106391e+00 4.05915944e+00\n",
      "  3.94732153e+00 9.23611416e+00 9.68836322e+00 8.71562272e+00\n",
      "  5.04936677e+00 1.18260618e+01]\n",
      " [4.29917223e-01 3.54251061e+00 7.45290277e+00 4.02424624e+00\n",
      "  3.38649152e+00 5.89933854e+00 6.07499695e+00 1.31283568e+01\n",
      "  3.05212804e+00 8.34621102e+00]\n",
      " [1.00733390e+01 4.05686336e+00 3.48388875e-03 6.35828236e+00\n",
      "  4.72241206e+00 5.90386605e+00 6.56066672e+00 2.24381409e+00\n",
      "  8.27191824e-01 8.59866576e+00]\n",
      " [7.24803719e+00 8.60005548e-01 4.67815575e+00 1.08772934e+01\n",
      "  1.05910985e+01 1.53392900e-01 1.17436109e-01 1.29412348e+01\n",
      "  2.24817971e+00 2.22049274e+00]\n",
      " [1.06455249e+01 1.56002383e+00 5.33084555e+00 1.42618853e+01\n",
      "  1.36621343e+01 1.55152515e+00 1.63134999e+00 1.47876718e+01\n",
      "  3.08555462e+00 7.62468613e-01]\n",
      " [7.99011276e+00 6.52665056e+00 1.05511769e+01 4.43402828e+00\n",
      "  5.42708514e+00 1.31131009e+01 1.34687327e+01 1.30464828e+01\n",
      "  9.30670383e+00 1.56539037e+01]\n",
      " [6.40448065e+00 5.94847210e+00 2.11412735e+00 1.01356425e+01\n",
      "  1.15193834e+01 5.07680852e+00 4.86171102e+00 6.16421710e+00\n",
      "  7.91614763e+00 2.61142768e+00]\n",
      " [4.79272925e+00 5.61669041e+00 1.76033787e+00 8.52013249e+00\n",
      "  9.89331861e+00 3.88616834e+00 3.63119302e+00 5.92051413e+00\n",
      "  6.93095921e+00 1.40004217e+00]]\n"
     ]
    }
   ],
   "source": [
    "P0 = np.random.uniform(-10, 10, (10,2))\n",
    "P1 = np.random.uniform(-10,10,(10,2))\n",
    "p = np.random.uniform(-10, 10, (10,2))\n",
    "print(np.array([distance(P0,P1,p_i) for p_i in p]))"
   ]
  },
  {
   "cell_type": "markdown",
   "metadata": {},
   "source": [
    "#### 80. Consider an arbitrary array, write a function that extract a subpart with a fixed shape and centered on a given element (pad with a `fill` value when necessary) (★★★) \n",
    "(**hint**: minimum, maximum)"
   ]
  },
  {
   "cell_type": "code",
   "execution_count": 117,
   "metadata": {},
   "outputs": [
    {
     "name": "stdout",
     "output_type": "stream",
     "text": [
      "[[8 0 9 5 6 9 8 4 3 0]\n",
      " [9 2 4 6 6 9 4 0 0 0]\n",
      " [1 7 7 1 2 7 1 4 9 8]\n",
      " [9 3 0 9 6 4 3 1 0 7]\n",
      " [4 4 9 7 7 9 9 5 1 8]\n",
      " [9 0 4 3 7 3 2 3 1 9]\n",
      " [8 6 6 5 1 6 1 0 7 8]\n",
      " [5 4 5 6 3 1 9 2 6 9]\n",
      " [6 6 1 8 9 9 6 5 6 2]\n",
      " [5 5 1 4 5 6 6 5 3 3]]\n",
      "[[0 0 0 0 0]\n",
      " [0 8 0 9 5]\n",
      " [0 9 2 4 6]\n",
      " [0 1 7 7 1]\n",
      " [0 9 3 0 9]]\n"
     ]
    },
    {
     "name": "stderr",
     "output_type": "stream",
     "text": [
      "C:\\Users\\Admin\\AppData\\Local\\Temp/ipykernel_6756/1159162857.py:23: FutureWarning: Using a non-tuple sequence for multidimensional indexing is deprecated; use `arr[tuple(seq)]` instead of `arr[seq]`. In the future this will be interpreted as an array index, `arr[np.array(seq)]`, which will result either in an error or a different result.\n",
      "  R[r] = Z[z]\n"
     ]
    }
   ],
   "source": [
    "Z = np.random.randint(0,10,(10,10))\n",
    "shape = (5,5)\n",
    "fill  = 0\n",
    "position = (1,1)\n",
    "\n",
    "R = np.ones(shape, dtype=Z.dtype)*fill\n",
    "P  = np.array(list(position)).astype(int)\n",
    "Rs = np.array(list(R.shape)).astype(int)\n",
    "Zs = np.array(list(Z.shape)).astype(int)\n",
    "\n",
    "R_start = np.zeros((len(shape),)).astype(int)\n",
    "R_stop  = np.array(list(shape)).astype(int)\n",
    "Z_start = (P-Rs//2)\n",
    "Z_stop  = (P+Rs//2)+Rs%2\n",
    "\n",
    "R_start = (R_start - np.minimum(Z_start,0)).tolist()\n",
    "Z_start = (np.maximum(Z_start,0)).tolist()\n",
    "R_stop = np.maximum(R_start, (R_stop - np.maximum(Z_stop-Zs,0))).tolist()\n",
    "Z_stop = (np.minimum(Z_stop,Zs)).tolist()\n",
    "\n",
    "r = [slice(start,stop) for start,stop in zip(R_start,R_stop)]\n",
    "z = [slice(start,stop) for start,stop in zip(Z_start,Z_stop)]\n",
    "R[r] = Z[z]\n",
    "print(Z)\n",
    "print(R)"
   ]
  },
  {
   "cell_type": "markdown",
   "metadata": {},
   "source": [
    "#### 81. Consider an array Z = \\[1,2,3,4,5,6,7,8,9,10,11,12,13,14\\], how to generate an array R = \\[\\[1,2,3,4\\], \\[2,3,4,5\\], \\[3,4,5,6\\], ..., \\[11,12,13,14\\]\\]? (★★★) \n",
    "(**hint**: stride\\_tricks.as\\_strided)"
   ]
  },
  {
   "cell_type": "code",
   "execution_count": 5,
   "metadata": {},
   "outputs": [
    {
     "name": "stdout",
     "output_type": "stream",
     "text": [
      "[[ 1  2  3  4]\n",
      " [ 2  3  4  5]\n",
      " [ 3  4  5  6]\n",
      " [ 4  5  6  7]\n",
      " [ 5  6  7  8]\n",
      " [ 6  7  8  9]\n",
      " [ 7  8  9 10]\n",
      " [ 8  9 10 11]\n",
      " [ 9 10 11 12]\n",
      " [10 11 12 13]\n",
      " [11 12 13 14]]\n"
     ]
    }
   ],
   "source": [
    "Z = np.arange(1,15,dtype=np.uint32)\n",
    "R = np.lib.stride_tricks.as_strided(Z,(11,4),(4,4))\n",
    "print(R)"
   ]
  },
  {
   "cell_type": "markdown",
   "metadata": {},
   "source": [
    "#### 82. Compute a matrix rank (★★★) \n",
    "(**hint**: np.linalg.svd) (suggestion: np.linalg.svd)"
   ]
  },
  {
   "cell_type": "code",
   "execution_count": 6,
   "metadata": {},
   "outputs": [
    {
     "name": "stdout",
     "output_type": "stream",
     "text": [
      "10\n"
     ]
    }
   ],
   "source": [
    "Z = np.random.uniform(0,1,(10,10))\n",
    "U, S, V = np.linalg.svd(Z) # Singular Value Decomposition\n",
    "rank = np.sum(S > 1e-10)\n",
    "print(rank)"
   ]
  },
  {
   "cell_type": "markdown",
   "metadata": {},
   "source": [
    "#### 83. How to find the most frequent value in an array? \n",
    "(**hint**: np.bincount, argmax)"
   ]
  },
  {
   "cell_type": "code",
   "execution_count": 7,
   "metadata": {},
   "outputs": [
    {
     "name": "stdout",
     "output_type": "stream",
     "text": [
      "9\n"
     ]
    }
   ],
   "source": [
    "Z = np.random.randint(0,10,50)\n",
    "print(np.bincount(Z).argmax())"
   ]
  },
  {
   "cell_type": "markdown",
   "metadata": {},
   "source": [
    "#### 84. Extract all the contiguous 3x3 blocks from a random 10x10 matrix (★★★) \n",
    "(**hint**: stride\\_tricks.as\\_strided)"
   ]
  },
  {
   "cell_type": "code",
   "execution_count": 8,
   "metadata": {},
   "outputs": [
    {
     "name": "stdout",
     "output_type": "stream",
     "text": [
      "[[[[0 1 4]\n",
      "   [0 0 1]\n",
      "   [2 0 0]]\n",
      "\n",
      "  [[1 4 4]\n",
      "   [0 1 1]\n",
      "   [0 0 0]]\n",
      "\n",
      "  [[4 4 2]\n",
      "   [1 1 2]\n",
      "   [0 0 3]]\n",
      "\n",
      "  [[4 2 2]\n",
      "   [1 2 2]\n",
      "   [0 3 3]]\n",
      "\n",
      "  [[2 2 2]\n",
      "   [2 2 2]\n",
      "   [3 3 0]]\n",
      "\n",
      "  [[2 2 3]\n",
      "   [2 2 2]\n",
      "   [3 0 2]]\n",
      "\n",
      "  [[2 3 3]\n",
      "   [2 2 1]\n",
      "   [0 2 3]]\n",
      "\n",
      "  [[3 3 2]\n",
      "   [2 1 2]\n",
      "   [2 3 4]]]\n",
      "\n",
      "\n",
      " [[[0 0 1]\n",
      "   [2 0 0]\n",
      "   [2 2 3]]\n",
      "\n",
      "  [[0 1 1]\n",
      "   [0 0 0]\n",
      "   [2 3 3]]\n",
      "\n",
      "  [[1 1 2]\n",
      "   [0 0 3]\n",
      "   [3 3 3]]\n",
      "\n",
      "  [[1 2 2]\n",
      "   [0 3 3]\n",
      "   [3 3 4]]\n",
      "\n",
      "  [[2 2 2]\n",
      "   [3 3 0]\n",
      "   [3 4 1]]\n",
      "\n",
      "  [[2 2 2]\n",
      "   [3 0 2]\n",
      "   [4 1 0]]\n",
      "\n",
      "  [[2 2 1]\n",
      "   [0 2 3]\n",
      "   [1 0 0]]\n",
      "\n",
      "  [[2 1 2]\n",
      "   [2 3 4]\n",
      "   [0 0 4]]]\n",
      "\n",
      "\n",
      " [[[2 0 0]\n",
      "   [2 2 3]\n",
      "   [3 2 2]]\n",
      "\n",
      "  [[0 0 0]\n",
      "   [2 3 3]\n",
      "   [2 2 3]]\n",
      "\n",
      "  [[0 0 3]\n",
      "   [3 3 3]\n",
      "   [2 3 1]]\n",
      "\n",
      "  [[0 3 3]\n",
      "   [3 3 4]\n",
      "   [3 1 2]]\n",
      "\n",
      "  [[3 3 0]\n",
      "   [3 4 1]\n",
      "   [1 2 0]]\n",
      "\n",
      "  [[3 0 2]\n",
      "   [4 1 0]\n",
      "   [2 0 0]]\n",
      "\n",
      "  [[0 2 3]\n",
      "   [1 0 0]\n",
      "   [0 0 4]]\n",
      "\n",
      "  [[2 3 4]\n",
      "   [0 0 4]\n",
      "   [0 4 0]]]\n",
      "\n",
      "\n",
      " [[[2 2 3]\n",
      "   [3 2 2]\n",
      "   [1 0 4]]\n",
      "\n",
      "  [[2 3 3]\n",
      "   [2 2 3]\n",
      "   [0 4 3]]\n",
      "\n",
      "  [[3 3 3]\n",
      "   [2 3 1]\n",
      "   [4 3 0]]\n",
      "\n",
      "  [[3 3 4]\n",
      "   [3 1 2]\n",
      "   [3 0 1]]\n",
      "\n",
      "  [[3 4 1]\n",
      "   [1 2 0]\n",
      "   [0 1 4]]\n",
      "\n",
      "  [[4 1 0]\n",
      "   [2 0 0]\n",
      "   [1 4 1]]\n",
      "\n",
      "  [[1 0 0]\n",
      "   [0 0 4]\n",
      "   [4 1 3]]\n",
      "\n",
      "  [[0 0 4]\n",
      "   [0 4 0]\n",
      "   [1 3 1]]]\n",
      "\n",
      "\n",
      " [[[3 2 2]\n",
      "   [1 0 4]\n",
      "   [2 2 1]]\n",
      "\n",
      "  [[2 2 3]\n",
      "   [0 4 3]\n",
      "   [2 1 4]]\n",
      "\n",
      "  [[2 3 1]\n",
      "   [4 3 0]\n",
      "   [1 4 3]]\n",
      "\n",
      "  [[3 1 2]\n",
      "   [3 0 1]\n",
      "   [4 3 2]]\n",
      "\n",
      "  [[1 2 0]\n",
      "   [0 1 4]\n",
      "   [3 2 1]]\n",
      "\n",
      "  [[2 0 0]\n",
      "   [1 4 1]\n",
      "   [2 1 2]]\n",
      "\n",
      "  [[0 0 4]\n",
      "   [4 1 3]\n",
      "   [1 2 4]]\n",
      "\n",
      "  [[0 4 0]\n",
      "   [1 3 1]\n",
      "   [2 4 1]]]\n",
      "\n",
      "\n",
      " [[[1 0 4]\n",
      "   [2 2 1]\n",
      "   [4 3 0]]\n",
      "\n",
      "  [[0 4 3]\n",
      "   [2 1 4]\n",
      "   [3 0 3]]\n",
      "\n",
      "  [[4 3 0]\n",
      "   [1 4 3]\n",
      "   [0 3 1]]\n",
      "\n",
      "  [[3 0 1]\n",
      "   [4 3 2]\n",
      "   [3 1 2]]\n",
      "\n",
      "  [[0 1 4]\n",
      "   [3 2 1]\n",
      "   [1 2 3]]\n",
      "\n",
      "  [[1 4 1]\n",
      "   [2 1 2]\n",
      "   [2 3 2]]\n",
      "\n",
      "  [[4 1 3]\n",
      "   [1 2 4]\n",
      "   [3 2 4]]\n",
      "\n",
      "  [[1 3 1]\n",
      "   [2 4 1]\n",
      "   [2 4 1]]]\n",
      "\n",
      "\n",
      " [[[2 2 1]\n",
      "   [4 3 0]\n",
      "   [4 3 3]]\n",
      "\n",
      "  [[2 1 4]\n",
      "   [3 0 3]\n",
      "   [3 3 4]]\n",
      "\n",
      "  [[1 4 3]\n",
      "   [0 3 1]\n",
      "   [3 4 4]]\n",
      "\n",
      "  [[4 3 2]\n",
      "   [3 1 2]\n",
      "   [4 4 4]]\n",
      "\n",
      "  [[3 2 1]\n",
      "   [1 2 3]\n",
      "   [4 4 1]]\n",
      "\n",
      "  [[2 1 2]\n",
      "   [2 3 2]\n",
      "   [4 1 0]]\n",
      "\n",
      "  [[1 2 4]\n",
      "   [3 2 4]\n",
      "   [1 0 3]]\n",
      "\n",
      "  [[2 4 1]\n",
      "   [2 4 1]\n",
      "   [0 3 3]]]\n",
      "\n",
      "\n",
      " [[[4 3 0]\n",
      "   [4 3 3]\n",
      "   [3 1 3]]\n",
      "\n",
      "  [[3 0 3]\n",
      "   [3 3 4]\n",
      "   [1 3 0]]\n",
      "\n",
      "  [[0 3 1]\n",
      "   [3 4 4]\n",
      "   [3 0 1]]\n",
      "\n",
      "  [[3 1 2]\n",
      "   [4 4 4]\n",
      "   [0 1 4]]\n",
      "\n",
      "  [[1 2 3]\n",
      "   [4 4 1]\n",
      "   [1 4 1]]\n",
      "\n",
      "  [[2 3 2]\n",
      "   [4 1 0]\n",
      "   [4 1 3]]\n",
      "\n",
      "  [[3 2 4]\n",
      "   [1 0 3]\n",
      "   [1 3 4]]\n",
      "\n",
      "  [[2 4 1]\n",
      "   [0 3 3]\n",
      "   [3 4 0]]]]\n"
     ]
    }
   ],
   "source": [
    "Z = np.random.randint(0,5,(10,10))\n",
    "n = 3\n",
    "i = 1 + (Z.shape[0]-3)\n",
    "j = 1 + (Z.shape[1]-3)\n",
    "C = np.lib.stride_tricks.as_strided(Z, shape=(i, j, n, n), strides=Z.strides + Z.strides)\n",
    "print(C)"
   ]
  },
  {
   "cell_type": "markdown",
   "metadata": {},
   "source": [
    "#### 85. Create a 2D array subclass such that Z\\[i,j\\] == Z\\[j,i\\] (★★★) \n",
    "(**hint**: class method)"
   ]
  },
  {
   "cell_type": "code",
   "execution_count": null,
   "metadata": {},
   "outputs": [],
   "source": []
  },
  {
   "cell_type": "markdown",
   "metadata": {},
   "source": [
    "#### 86. Consider a set of p matrices wich shape (n,n) and a set of p vectors with shape (n,1). How to compute the sum of of the p matrix products at once? (result has shape (n,1)) (★★★) \n",
    "(**hint**: np.tensordot)"
   ]
  },
  {
   "cell_type": "code",
   "execution_count": null,
   "metadata": {},
   "outputs": [],
   "source": []
  },
  {
   "cell_type": "markdown",
   "metadata": {},
   "source": [
    "#### 87. Consider a 16x16 array, how to get the block-sum (block size is 4x4)? (★★★) \n",
    "(**hint**: np.add.reduceat)"
   ]
  },
  {
   "cell_type": "code",
   "execution_count": null,
   "metadata": {},
   "outputs": [],
   "source": []
  },
  {
   "cell_type": "markdown",
   "metadata": {},
   "source": [
    "#### 88. How to implement the Game of Life using numpy arrays? (★★★)"
   ]
  },
  {
   "cell_type": "code",
   "execution_count": null,
   "metadata": {},
   "outputs": [],
   "source": []
  },
  {
   "cell_type": "markdown",
   "metadata": {},
   "source": [
    "#### 89. How to get the n largest values of an array (★★★) \n",
    "(**hint**: np.argsort | np.argpartition)"
   ]
  },
  {
   "cell_type": "code",
   "execution_count": 9,
   "metadata": {},
   "outputs": [
    {
     "name": "stdout",
     "output_type": "stream",
     "text": [
      "[9999 9998 9997 9996 9995]\n"
     ]
    }
   ],
   "source": [
    "Z = np.arange(10000)\n",
    "np.random.shuffle(Z)\n",
    "n = 5\n",
    "print (Z[np.argpartition(-Z,n)[:n]])"
   ]
  },
  {
   "cell_type": "markdown",
   "metadata": {},
   "source": [
    "#### 90. Given an arbitrary number of vectors, build the cartesian product (every combinations of every item) (★★★) \n",
    "(**hint**: np.indices)"
   ]
  },
  {
   "cell_type": "code",
   "execution_count": 3,
   "metadata": {
    "scrolled": true
   },
   "outputs": [
    {
     "name": "stdout",
     "output_type": "stream",
     "text": [
      "[[1 4 6]\n",
      " [1 4 7]\n",
      " [1 5 6]\n",
      " [1 5 7]\n",
      " [2 4 6]\n",
      " [2 4 7]\n",
      " [2 5 6]\n",
      " [2 5 7]\n",
      " [3 4 6]\n",
      " [3 4 7]\n",
      " [3 5 6]\n",
      " [3 5 7]]\n"
     ]
    }
   ],
   "source": [
    "def cartesian(arrays):\n",
    "    arrays = [np.asarray(a) for a in arrays]\n",
    "    shape = (len(x) for x in arrays)\n",
    "\n",
    "    ix = np.indices(shape, dtype=int)\n",
    "    ix = ix.reshape(len(arrays), -1).T\n",
    "\n",
    "    for n, arr in enumerate(arrays):\n",
    "        ix[:, n] = arrays[n][ix[:, n]]\n",
    "\n",
    "    return ix\n",
    "\n",
    "print (cartesian(([1, 2, 3], [4, 5], [6, 7])))"
   ]
  },
  {
   "cell_type": "markdown",
   "metadata": {},
   "source": [
    "#### 91. How to create a record array from a regular array? (★★★) \n",
    "(**hint**: np.core.records.fromarrays)"
   ]
  },
  {
   "cell_type": "code",
   "execution_count": 10,
   "metadata": {},
   "outputs": [
    {
     "name": "stdout",
     "output_type": "stream",
     "text": [
      "[(b'Hello', 2.5, 3) (b'World', 3.6, 2)]\n"
     ]
    }
   ],
   "source": [
    "Z = np.array([(\"Hello\", 2.5, 3),\n",
    "              (\"World\", 3.6, 2)])\n",
    "R = np.core.records.fromarrays(Z.T, \n",
    "                               names='col1, col2, col3',\n",
    "                               formats = 'S8, f8, i8')\n",
    "print(R)"
   ]
  },
  {
   "cell_type": "markdown",
   "metadata": {},
   "source": [
    "#### 92. Consider a large vector Z, compute Z to the power of 3 using 3 different methods (★★★) \n",
    "(**hint**: np.power, \\*, np.einsum)"
   ]
  },
  {
   "cell_type": "code",
   "execution_count": null,
   "metadata": {},
   "outputs": [],
   "source": []
  },
  {
   "cell_type": "markdown",
   "metadata": {},
   "source": [
    "#### 93. Consider two arrays A and B of shape (8,3) and (2,2). How to find rows of A that contain elements of each row of B regardless of the order of the elements in B? (★★★) \n",
    "(**hint**: np.where)"
   ]
  },
  {
   "cell_type": "code",
   "execution_count": null,
   "metadata": {},
   "outputs": [],
   "source": []
  },
  {
   "cell_type": "markdown",
   "metadata": {},
   "source": [
    "#### 94. Considering a 10x3 matrix, extract rows with unequal values (e.g. \\[2,2,3\\]) (★★★)"
   ]
  },
  {
   "cell_type": "code",
   "execution_count": null,
   "metadata": {},
   "outputs": [],
   "source": []
  },
  {
   "cell_type": "markdown",
   "metadata": {},
   "source": [
    "#### 95. Convert a vector of ints into a matrix binary representation (★★★) \n",
    "(**hint**: np.unpackbits)"
   ]
  },
  {
   "cell_type": "code",
   "execution_count": null,
   "metadata": {},
   "outputs": [],
   "source": []
  },
  {
   "cell_type": "markdown",
   "metadata": {},
   "source": [
    "#### 96. Given a two dimensional array, how to extract unique rows? (★★★) \n",
    "(**hint**: np.ascontiguousarray)"
   ]
  },
  {
   "cell_type": "code",
   "execution_count": null,
   "metadata": {},
   "outputs": [],
   "source": []
  },
  {
   "cell_type": "markdown",
   "metadata": {},
   "source": [
    "#### 97. Considering 2 vectors A & B, write the einsum equivalent of inner, outer, sum, and mul function (★★★) \n",
    "(**hint**: np.einsum)"
   ]
  },
  {
   "cell_type": "code",
   "execution_count": null,
   "metadata": {},
   "outputs": [],
   "source": []
  },
  {
   "cell_type": "markdown",
   "metadata": {},
   "source": [
    "#### 98. Considering a path described by two vectors (X,Y), how to sample it using equidistant samples (★★★)? \n",
    "(**hint**: np.cumsum, np.interp)"
   ]
  },
  {
   "cell_type": "code",
   "execution_count": null,
   "metadata": {
    "collapsed": true
   },
   "outputs": [],
   "source": []
  },
  {
   "cell_type": "markdown",
   "metadata": {},
   "source": [
    "#### 99. Given an integer n and a 2D array X, select from X the rows which can be interpreted as draws from a multinomial distribution with n degrees, i.e., the rows which only contain integers and which sum to n. (★★★) \n",
    "(**hint**: np.logical\\_and.reduce, np.mod)"
   ]
  },
  {
   "cell_type": "code",
   "execution_count": null,
   "metadata": {},
   "outputs": [],
   "source": []
  },
  {
   "cell_type": "markdown",
   "metadata": {},
   "source": [
    "#### 100. Compute bootstrapped 95% confidence intervals for the mean of a 1D array X (i.e., resample the elements of an array with replacement N times, compute the mean of each sample, and then compute percentiles over the means). (★★★) \n",
    "(**hint**: np.percentile)"
   ]
  },
  {
   "cell_type": "code",
   "execution_count": null,
   "metadata": {},
   "outputs": [],
   "source": []
  }
 ],
 "metadata": {
  "kernelspec": {
   "display_name": "Python 3 (ipykernel)",
   "language": "python",
   "name": "python3"
  },
  "language_info": {
   "codemirror_mode": {
    "name": "ipython",
    "version": 3
   },
   "file_extension": ".py",
   "mimetype": "text/x-python",
   "name": "python",
   "nbconvert_exporter": "python",
   "pygments_lexer": "ipython3",
   "version": "3.9.7"
  }
 },
 "nbformat": 4,
 "nbformat_minor": 1
}
